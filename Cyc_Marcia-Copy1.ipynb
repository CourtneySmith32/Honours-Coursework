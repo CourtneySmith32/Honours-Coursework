{
 "cells": [
  {
   "cell_type": "code",
   "execution_count": 2,
   "metadata": {},
   "outputs": [],
   "source": [
    "%matplotlib inline\n",
    "import numpy as np\n",
    "import matplotlib.tri as Tri\n",
    "import matplotlib.pyplot as plt\n",
    "#from mpl_toolkits.basemap import Basemap\n",
    "from netCDF4 import Dataset as NetCDFFile \n",
    "import netCDF4\n",
    "import datetime as dt\n",
    "import pandas as pd\n",
    "from StringIO import StringIO"
   ]
  },
  {
   "cell_type": "code",
   "execution_count": 3,
   "metadata": {},
   "outputs": [],
   "source": [
    "import re\n",
    "\n",
    "def extractURLsatellite(fileURL, satName):\n",
    "    \"\"\"\n",
    "    Function to extract the URLs for a specific satellite from the IMOS URLs list\n",
    "    \n",
    "    Parameters:\n",
    "    -----------\n",
    "    \n",
    "    - fileURL : IMOS URLs list as a txt file\n",
    "    - satName : name of the satellite such as JASON-2 JASON-3 \n",
    "    \n",
    "    Ouputs:\n",
    "    ------\n",
    "    \n",
    "    - getFiles : list of URLs for the desired satellite\n",
    "    \n",
    "    \"\"\"\n",
    "    \n",
    "    getFiles = []\n",
    "    \n",
    "    with open(fileURL) as f:\n",
    "        for line in f:\n",
    "            if re.search(r\"%s\"%satName, line):\n",
    "                changeURL = re.sub('http://data.aodn.org.au', 'http://thredds.aodn.org.au/thredds/dodsC', line)\n",
    "                getFiles.append(changeURL)\n",
    "                \n",
    "    return getFiles"
   ]
  },
  {
   "cell_type": "code",
   "execution_count": 4,
   "metadata": {},
   "outputs": [],
   "source": [
    "jason2URL = extractURLsatellite( fileURL = 'IMOSURLs.txt', satName = 'JASON-2')\n",
    "\n",
    "jason3URL = extractURLsatellite( fileURL = 'IMOSURLs.txt', satName = 'JASON-3')\n",
    "\n",
    "saralURL = extractURLsatellite( fileURL = 'IMOSURLs.txt', satName = 'SARAL')\n",
    "\n",
    "sentinel3aURL = extractURLsatellite( fileURL = 'IMOSURLs.txt', satName = 'SENTINEL-3A')\n",
    "\n",
    "cryosat2URL = extractURLsatellite( fileURL = 'IMOSURLs.txt', satName = 'CRYOSAT-2')\n",
    "\n",
    "enviURL = extractURLsatellite(fileURL = 'IMOSURLs.txt', satName = 'ENVISAT')\n",
    "\n",
    "geosatURL = extractURLsatellite(fileURL = 'IMOSURLs.txt', satName = 'GEOSAT')\n",
    "\n",
    "ersURL = extractURLsatellite(fileURL = 'IMOSURLs.txt', satName = 'ERS-2')\n",
    "\n",
    "gfoURL = extractURLsatellite(fileURL = 'IMOSURLs.txt', satName = 'GFO')\n",
    "\n",
    "topURL = extractURLsatellite(fileURL = 'IMOSURLs.txt', satName = 'TOPEX')"
   ]
  },
  {
   "cell_type": "code",
   "execution_count": 5,
   "metadata": {},
   "outputs": [],
   "source": [
    "allURL = []\n",
    "allURL.append(jason2URL)\n",
    "allURL.append(jason3URL)\n",
    "allURL.append(saralURL)\n",
    "allURL.append(sentinel3aURL)\n",
    "allURL.append(cryosat2URL)\n",
    "allURL.append(enviURL)\n",
    "allURL.append(geosatURL)\n",
    "allURL.append(ersURL)\n",
    "allURL.append(gfoURL)\n",
    "allURL.append(topURL)"
   ]
  },
  {
   "cell_type": "code",
   "execution_count": 6,
   "metadata": {},
   "outputs": [],
   "source": [
    "ncs = NetCDFFile(allURL[0][0])\n",
    "lats = ncs.variables['LATITUDE'][:]\n",
    "lons = ncs.variables['LONGITUDE'][:]"
   ]
  },
  {
   "cell_type": "code",
   "execution_count": 7,
   "metadata": {},
   "outputs": [],
   "source": [
    "# time_var = allURL.variables['TIME']\n",
    "# dtime = netCDF4.num2date(time_var[:],time_var.units)\n"
   ]
  },
  {
   "cell_type": "code",
   "execution_count": 8,
   "metadata": {},
   "outputs": [],
   "source": [
    "# ncs = NetCDFFile(jason2URL[0])\n",
    "# ncs.variables['TIME'][0]\n",
    "# dtime2 = netCDF4.num2date(ncs.variables['TIME'][0:150],time_var.units)\n",
    "# print dtime2"
   ]
  },
  {
   "cell_type": "code",
   "execution_count": null,
   "metadata": {},
   "outputs": [],
   "source": []
  },
  {
   "cell_type": "code",
   "execution_count": 9,
   "metadata": {},
   "outputs": [
    {
     "ename": "AttributeError",
     "evalue": "'slice' object has no attribute 'startswith'",
     "output_type": "error",
     "traceback": [
      "\u001b[0;31m---------------------------------------------------------------------------\u001b[0m",
      "\u001b[0;31mAttributeError\u001b[0m                            Traceback (most recent call last)",
      "\u001b[0;32m<ipython-input-9-6aca138142c4>\u001b[0m in \u001b[0;36m<module>\u001b[0;34m()\u001b[0m\n\u001b[0;32m----> 1\u001b[0;31m \u001b[0mdtime2\u001b[0m \u001b[0;34m=\u001b[0m \u001b[0mnetCDF4\u001b[0m\u001b[0;34m.\u001b[0m\u001b[0mnum2date\u001b[0m\u001b[0;34m(\u001b[0m\u001b[0mncs\u001b[0m\u001b[0;34m[\u001b[0m\u001b[0;36m0\u001b[0m\u001b[0;34m:\u001b[0m\u001b[0;34m]\u001b[0m\u001b[0;34m,\u001b[0m\u001b[0munits\u001b[0m \u001b[0;34m=\u001b[0m \u001b[0;34m\"days since 1985-01-01 00:00:00 UTC\"\u001b[0m\u001b[0;34m,\u001b[0m \u001b[0mcalendar\u001b[0m\u001b[0;34m=\u001b[0m\u001b[0;34m'gregorian'\u001b[0m\u001b[0;34m)\u001b[0m\u001b[0;34m\u001b[0m\u001b[0m\n\u001b[0m\u001b[1;32m      2\u001b[0m \u001b[0;32mprint\u001b[0m \u001b[0mdtime2\u001b[0m\u001b[0;34m\u001b[0m\u001b[0m\n",
      "\u001b[0;32mnetCDF4/_netCDF4.pyx\u001b[0m in \u001b[0;36mnetCDF4._netCDF4.Dataset.__getitem__\u001b[0;34m()\u001b[0m\n",
      "\u001b[0;32m/Users/bgh2-ra/anaconda2/lib/python2.7/posixpath.pyc\u001b[0m in \u001b[0;36mnormpath\u001b[0;34m(path)\u001b[0m\n\u001b[1;32m    340\u001b[0m     \u001b[0;32mif\u001b[0m \u001b[0mpath\u001b[0m \u001b[0;34m==\u001b[0m \u001b[0;34m''\u001b[0m\u001b[0;34m:\u001b[0m\u001b[0;34m\u001b[0m\u001b[0m\n\u001b[1;32m    341\u001b[0m         \u001b[0;32mreturn\u001b[0m \u001b[0mdot\u001b[0m\u001b[0;34m\u001b[0m\u001b[0m\n\u001b[0;32m--> 342\u001b[0;31m     \u001b[0minitial_slashes\u001b[0m \u001b[0;34m=\u001b[0m \u001b[0mpath\u001b[0m\u001b[0;34m.\u001b[0m\u001b[0mstartswith\u001b[0m\u001b[0;34m(\u001b[0m\u001b[0;34m'/'\u001b[0m\u001b[0;34m)\u001b[0m\u001b[0;34m\u001b[0m\u001b[0m\n\u001b[0m\u001b[1;32m    343\u001b[0m     \u001b[0;31m# POSIX allows one or two initial slashes, but treats three or more\u001b[0m\u001b[0;34m\u001b[0m\u001b[0;34m\u001b[0m\u001b[0m\n\u001b[1;32m    344\u001b[0m     \u001b[0;31m# as single slash.\u001b[0m\u001b[0;34m\u001b[0m\u001b[0;34m\u001b[0m\u001b[0m\n",
      "\u001b[0;31mAttributeError\u001b[0m: 'slice' object has no attribute 'startswith'"
     ]
    }
   ],
   "source": [
    "dtime2 = netCDF4.num2date(ncs[0:],units = \"days since 1985-01-01 00:00:00 UTC\", calendar='gregorian')\n",
    "print dtime2"
   ]
  },
  {
   "cell_type": "code",
   "execution_count": 10,
   "metadata": {},
   "outputs": [],
   "source": [
    "boxLat = []\n",
    "boxLon = []\n",
    "boxWh = []\n",
    "boxTime = []"
   ]
  },
  {
   "cell_type": "code",
   "execution_count": 11,
   "metadata": {},
   "outputs": [],
   "source": [
    "#Cyclone coordinates for marcia\n",
    "latmin = -20\n",
    "latmax = -15 \n",
    "lonmin = 150\n",
    "lonmax = 156\n",
    "\n",
    "if latmin>latmax:\n",
    "    print('Error wrong definition of min and max lat!!!')\n",
    "\n",
    "if lonmin>lonmax:\n",
    "    print('Error wrong definition of min and max lon!!!')"
   ]
  },
  {
   "cell_type": "code",
   "execution_count": 12,
   "metadata": {},
   "outputs": [],
   "source": [
    "# Marcia dates\n",
    "start_date = dt.datetime(2018,2,15)\n",
    "end_date = dt.datetime(2018,2,21)\n"
   ]
  },
  {
   "cell_type": "code",
   "execution_count": 13,
   "metadata": {},
   "outputs": [
    {
     "data": {
      "text/plain": [
       "0"
      ]
     },
     "execution_count": 13,
     "metadata": {},
     "output_type": "execute_result"
    }
   ],
   "source": [
    "start_date.hour"
   ]
  },
  {
   "cell_type": "code",
   "execution_count": 14,
   "metadata": {},
   "outputs": [
    {
     "ename": "ImportError",
     "evalue": "No module named xarray",
     "output_type": "error",
     "traceback": [
      "\u001b[0;31m---------------------------------------------------------------------------\u001b[0m",
      "\u001b[0;31mImportError\u001b[0m                               Traceback (most recent call last)",
      "\u001b[0;32m<ipython-input-14-b027d314c3e9>\u001b[0m in \u001b[0;36m<module>\u001b[0;34m()\u001b[0m\n\u001b[0;32m----> 1\u001b[0;31m \u001b[0;32mimport\u001b[0m \u001b[0mxarray\u001b[0m \u001b[0;32mas\u001b[0m \u001b[0mxr\u001b[0m\u001b[0;34m\u001b[0m\u001b[0m\n\u001b[0m",
      "\u001b[0;31mImportError\u001b[0m: No module named xarray"
     ]
    }
   ],
   "source": [
    "import xarray as xr"
   ]
  },
  {
   "cell_type": "code",
   "execution_count": null,
   "metadata": {},
   "outputs": [],
   "source": [
    "import datetime\n",
    "\n",
    "attrs = {'units': 'hours since 2000-01-01'}\n",
    "time_var = ncs.variables['TIME']\n",
    "\n",
    "ds = xr.Dataset({'TIME': ('TIME', [0, 1, 2, 3], attrs)})\n",
    "\n",
    "xr.decode_cf(ds)\n",
    "\n",
    "ds1 = xr.open_dataset('allURL')\n",
    "\n",
    "# Works:\n",
    "dsloc1 = ds1.sel(TIME='2016-05-02 10:00', longitude=155, latitude=-20, method='nearest')\n",
    "\n",
    "\n",
    "# Works:\n",
    "tmp    = ds1.sel(TIME=slice('2016-05-02 10:00', '2016-05-02 12:00'))\n",
    "dsloc2 = tmp.sel(longitude=4.9, latitude=51.2, method='nearest')"
   ]
  },
  {
   "cell_type": "code",
   "execution_count": null,
   "metadata": {},
   "outputs": [],
   "source": [
    "import dateutil.parser\n",
    "\n",
    "nc = netCDF4.Dataset('allURL', 'r')\n",
    "\n",
    "# all_times variable includes the time:units attribute\n",
    "all_times = nci.variables['time']\n",
    "\n",
    "sdt = dateutil.parser.parse(\"2015-07-20T00:00:00\")\n",
    "edt = dateutil.parser.parse(\"2015-07-24T23:00:00\")\n",
    "\n",
    "st_idx = netCDF4.date2index(sdt, all_times)\n",
    "et_idx = netCDF4.date2index(edt, all_times)\n",
    "\n",
    "data = nc.variables['temperature'][st_idx:et_idx+1,:] #I want to read between 2015-07-20 00:00 to 2015-07-24 23:00"
   ]
  },
  {
   "cell_type": "code",
   "execution_count": null,
   "metadata": {},
   "outputs": [],
   "source": []
  },
  {
   "cell_type": "code",
   "execution_count": null,
   "metadata": {},
   "outputs": [],
   "source": []
  },
  {
   "cell_type": "code",
   "execution_count": null,
   "metadata": {},
   "outputs": [],
   "source": [
    "for u in range(25) :#len(allURL)):\n",
    "    urlON = allURL[u]\n",
    "    for k in range(len(urlON)):\n",
    "        ncs = NetCDFFile(urlON[k])\n",
    "        lats = ncs.variables['LATITUDE'][:]\n",
    "        lons = ncs.variables['LONGITUDE'][:]\n",
    "        if u == 2:\n",
    "            wh = ncs.variables['SWH_KA_CAL'][:]\n",
    "        else:\n",
    "            wh = ncs.variables['SWH_KU_CAL'][:]\n",
    "\n",
    "        # Get desired time interval  \n",
    "        time_var = ncs.variables['TIME']\n",
    "        t = ncs.variables['TIME'][:]\n",
    "        \n",
    "        id_2 = netCDF4.date2index(end_date,time_var,select='nearest')\n",
    "        diff3 = start_date-netCDF4.num2date(t[id_2],time_var.units)\n",
    "        \n",
    "        diff2 = end_date-netCDF4.num2date(t[id_2],time_var.units)\n",
    "        #dh1 = (diff1.seconds + diff1.days * 24 * 3600)/3600.\n",
    "        dh2 = (diff2.seconds + diff2.days * 24 * 3600)/3600.\n",
    "        dh3 = (diff3.seconds + diff3.days * 24 * 3600)/3600.\n",
    "\n",
    "        id_st = -1\n",
    "        id_et = -1\n",
    "        if dh3<0.:\n",
    "            id_st = netCDF4.date2index(start_date,time_var,select='after')\n",
    "            \n",
    "        if dh2>-24.:\n",
    "            id_et = netCDF4.date2index(end_date,time_var,select='before')\n",
    "            \n",
    "        if id_st<id_et:\n",
    "            print id_st,id_et,netCDF4.num2date(t[id_st],time_var.units)\n",
    "            print netCDF4.num2date(t[id_et],time_var.units)\n",
    "            # Check if satellite points are in the box\n",
    "            id1 = lats>latmin\n",
    "            id2 = lats<latmax\n",
    "            id3 = lons>lonmin\n",
    "            id4 = lons<lonmax\n",
    "            id1 = id1*1\n",
    "            id2 = id2*1\n",
    "            id3 = id3*1\n",
    "            id4 = id4*1\n",
    "            tot = id1+id2+id3+id4\n",
    "            \n",
    "            # If this is the case then the sum should be 4\n",
    "            inside = np.where(tot==4)[0]\n",
    "            idtime = np.arange(id_st,id_et+1)\n",
    "\n",
    "            idin = np.intersect1d(inside, idtime)\n",
    "\n",
    "            if len(idin)>0:\n",
    "                boxLat.append(lats[idin])\n",
    "                boxLon.append(lons[idin])\n",
    "                boxWh.append(wh[idin])\n",
    "                boxTime.append(t[idin])"
   ]
  },
  {
   "cell_type": "code",
   "execution_count": null,
   "metadata": {},
   "outputs": [],
   "source": [
    "dtime2 = netCDF4.num2date(ncs[0:],units = \"days since 1985-01-01 00:00:00 UTC\", calendar='gregorian')\n"
   ]
  },
  {
   "cell_type": "code",
   "execution_count": null,
   "metadata": {
    "scrolled": false
   },
   "outputs": [],
   "source": [
    "for u in range(5) :#len(allURL)):\n",
    "    urlON = allURL[u]\n",
    "    for k in range(len(urlON)):\n",
    "        ncs = NetCDFFile(urlON[k])\n",
    "        lats = ncs.variables['LATITUDE'][:]\n",
    "        lons = ncs.variables['LONGITUDE'][:]\n",
    "        if u == 2:\n",
    "            wh = ncs.variables['SWH_KA_CAL'][:]\n",
    "        else:\n",
    "            wh = ncs.variables['SWH_KU_CAL'][:]\n",
    "\n",
    "        # Get desired time interval  \n",
    "        time = ncs.variables['TIME']\n",
    "        \n",
    "        id_2 = netCDF4.date2index(end_date,time,time.units, select='nearest')\n",
    "        diff3 = start_date-netCDF4.num2date(time[id_2],time.units)\n",
    "        \n",
    "        diff2 = end_date-netCDF4.num2date(time[id_2],time.units)\n",
    "       # dh1 = (diff1.seconds + diff1.days * 24 * 3600)/3600.\n",
    "        dh2 = (diff2.seconds + diff2.days * 24 * 3600)/3600.\n",
    "        dh3 = (diff3.seconds + diff3.days * 24 * 3600)/3600.\n",
    "\n",
    "        id_st = -1\n",
    "        id_et = -1\n",
    "        if dh3<0.:\n",
    "            id_st = netCDF4.date2index(start_date,time,select='after')\n",
    "            \n",
    "        if dh2>-24.:\n",
    "            id_et = netCDF4.date2index(end_date,time,select='before')\n",
    "            \n",
    "        if id_st<id_et:\n",
    "            print id_st,id_et,netCDF4.num2date(time[id_st],time.units)\n",
    "            print netCDF4.num2date(tt[id_et],tt.units)\n",
    "            # Check if satellite points are in the box\n",
    "            id1 = lats>latmin\n",
    "            id2 = lats<latmax\n",
    "            id3 = lons>lonmin\n",
    "            id4 = lons<lonmax\n",
    "            id1 = id1*1\n",
    "            id2 = id2*1\n",
    "            id3 = id3*1\n",
    "            id4 = id4*1\n",
    "            tot = id1+id2+id3+id4\n",
    "            \n",
    "            # If this is the case then the sum should be 4\n",
    "            inside = np.where(tot==4)[0]\n",
    "            idtime = np.arange(id_st,id_et+1)\n",
    "\n",
    "            idin = np.intersect1d(inside, idtime)\n",
    "\n",
    "            if len(idin)>0:\n",
    "                boxLat.append(lats[idin])\n",
    "                boxLon.append(lons[idin])\n",
    "                boxWh.append(wh[idin])\n",
    "                boxTime.append(time[idin])"
   ]
  },
  {
   "cell_type": "code",
   "execution_count": null,
   "metadata": {},
   "outputs": [],
   "source": [
    "for k in range(len(boxLat)):\n",
    "    if k == 0:\n",
    "        lat = boxLat[k]\n",
    "        lon = boxLon[k]\n",
    "        wh = boxWh[k]\n",
    "        tt = boxT[k]\n",
    "    else:\n",
    "        lat = np.append(lat,boxLat[k])\n",
    "        lon = np.append(lon,boxLon[k])\n",
    "        wh = np.append(wh,boxWh[k])\n",
    "        tt = np.append(tt,boxT[k])"
   ]
  },
  {
   "cell_type": "code",
   "execution_count": null,
   "metadata": {
    "scrolled": true
   },
   "outputs": [],
   "source": [
    "print 'records for Olga in CBG Box 2:', len(boxWh)"
   ]
  },
  {
   "cell_type": "code",
   "execution_count": null,
   "metadata": {},
   "outputs": [],
   "source": [
    "# print len(lat)\n",
    "# print len(lon)\n",
    "# print len(wh)\n",
    "# print len(tt)"
   ]
  },
  {
   "cell_type": "code",
   "execution_count": null,
   "metadata": {},
   "outputs": [],
   "source": [
    "#wave height pos values\n",
    "\n",
    "ids = np.where(wh>0)[0]\n",
    "whpos = wh[ids]\n",
    "print len(whpos)"
   ]
  },
  {
   "cell_type": "code",
   "execution_count": null,
   "metadata": {
    "scrolled": false
   },
   "outputs": [],
   "source": [
    "# print np.mean(whpos)\n",
    "# print max(whpos)\n",
    "# print min (whpos)\n",
    "# print  min(lon[ids])\n",
    "# print min(lon)\n",
    "# print max(lon)\n",
    "# print  min(lat)\n",
    "# print max(lat)\n",
    "print min(netCDF4.num2date(boxT[0],time_var.units))\n",
    "# print min (netCDF4.num2date(tt[ids],tt.units))\n",
    "# print max (netCDF4.num2date(tt,tt.units))\n",
    "# print max (netCDF4.num2date(tt[ids],tt.units))"
   ]
  },
  {
   "cell_type": "code",
   "execution_count": null,
   "metadata": {},
   "outputs": [],
   "source": [
    "start_date.year"
   ]
  },
  {
   "cell_type": "code",
   "execution_count": null,
   "metadata": {},
   "outputs": [],
   "source": [
    "\n",
    "# start_date = dt.datetime(2018,2,15)\n",
    "# end_date = dt.datetime(2018,2,21)\n",
    "time = netCDF4.num2date(tt[ids],tt.units)\n",
    "dt = time-start_date\n",
    "dt2 = end_date-time\n",
    "dhours = -np.ones(len(dt))\n",
    "dhours2 = -np.ones(len(dt2))\n",
    "\n",
    "\n",
    "for k in range(len(dt)):\n",
    "    if start_date.year == time[k].year:\n",
    "        dhours[k] = (dt[k].seconds + dt[k].days * 24 * 3600)/3600.\n",
    "        dhours2[k] = (dt2[k].seconds + dt2[k].days * 24 * 3600)/3600.\n",
    "\n",
    "    "
   ]
  },
  {
   "cell_type": "code",
   "execution_count": null,
   "metadata": {},
   "outputs": [],
   "source": [
    "time[700].year"
   ]
  },
  {
   "cell_type": "code",
   "execution_count": null,
   "metadata": {},
   "outputs": [],
   "source": [
    "idds = np.where(np.logical_and(dhours>0.,dhours2>0.))[0]"
   ]
  },
  {
   "cell_type": "code",
   "execution_count": null,
   "metadata": {},
   "outputs": [],
   "source": [
    "time2 = netCDF4.num2date(tt[idds],tt.units)\n",
    "print 'all records for olga in CBG box 2:', time2[0:1000]"
   ]
  },
  {
   "cell_type": "code",
   "execution_count": null,
   "metadata": {},
   "outputs": [],
   "source": [
    "np.sort(time2)[0:1000]"
   ]
  },
  {
   "cell_type": "code",
   "execution_count": null,
   "metadata": {},
   "outputs": [],
   "source": [
    "time = netCDF4.num2date(tt[ids],tt.units)\n",
    "print 'all records for olga in CBG box 2:', np.sort(time[0:1000])"
   ]
  },
  {
   "cell_type": "code",
   "execution_count": null,
   "metadata": {},
   "outputs": [],
   "source": []
  },
  {
   "cell_type": "code",
   "execution_count": null,
   "metadata": {},
   "outputs": [],
   "source": []
  },
  {
   "cell_type": "code",
   "execution_count": null,
   "metadata": {},
   "outputs": [],
   "source": []
  },
  {
   "cell_type": "code",
   "execution_count": null,
   "metadata": {},
   "outputs": [],
   "source": []
  },
  {
   "cell_type": "code",
   "execution_count": null,
   "metadata": {},
   "outputs": [],
   "source": []
  },
  {
   "cell_type": "code",
   "execution_count": null,
   "metadata": {},
   "outputs": [],
   "source": [
    "#find wh at a certain time period - 24 -  29th jan 2010 cyclone olga\n",
    "\n",
    "\n",
    "time = netCDF4.num2date(tt[ids],tt.units)\n",
    "print 'olga time records:', time[0:1000]\n",
    "\n",
    "\n",
    "olga = netCDF4.date2index(start_date,tt,select='nearest')"
   ]
  },
  {
   "cell_type": "code",
   "execution_count": null,
   "metadata": {},
   "outputs": [],
   "source": [
    "# cyclone Olga dates\n",
    "start_olga = dt.datetime(2010,1,21)\n",
    "end_olga = dt.datetime(2010,1,30)\n",
    "s_olga = netCDF4.date2index(start_olga,tt,select='nearest')\n",
    "e_olga = netCDF4.date2index(end_olga,tt,select='nearest')\n",
    "\n",
    "\n",
    "\n",
    "# id_st = netCDF4.date2index(start_date,tt,select='nearest')\n",
    "#         id_et = netCDF4.date2index(end_date,tt,select='nearest')"
   ]
  },
  {
   "cell_type": "code",
   "execution_count": null,
   "metadata": {},
   "outputs": [],
   "source": [
    "print s_olga, e_olga"
   ]
  },
  {
   "cell_type": "code",
   "execution_count": null,
   "metadata": {},
   "outputs": [],
   "source": [
    "olga = netCDF4.num2date(s_olga,tt.units)\n"
   ]
  },
  {
   "cell_type": "code",
   "execution_count": null,
   "metadata": {},
   "outputs": [],
   "source": [
    "olga"
   ]
  },
  {
   "cell_type": "code",
   "execution_count": null,
   "metadata": {},
   "outputs": [],
   "source": []
  },
  {
   "cell_type": "code",
   "execution_count": null,
   "metadata": {},
   "outputs": [],
   "source": [
    "df.loc[df['time'].isin(['2015-2', '2015-03'])]"
   ]
  }
 ],
 "metadata": {
  "anaconda-cloud": {},
  "kernelspec": {
   "display_name": "Python 2",
   "language": "python",
   "name": "python2"
  },
  "language_info": {
   "codemirror_mode": {
    "name": "ipython",
    "version": 2
   },
   "file_extension": ".py",
   "mimetype": "text/x-python",
   "name": "python",
   "nbconvert_exporter": "python",
   "pygments_lexer": "ipython2",
   "version": "2.7.16"
  }
 },
 "nbformat": 4,
 "nbformat_minor": 1
}
