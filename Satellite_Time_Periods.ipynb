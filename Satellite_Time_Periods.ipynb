{
 "cells": [
  {
   "cell_type": "code",
   "execution_count": 1,
   "metadata": {
    "collapsed": true
   },
   "outputs": [],
   "source": [
    "%matplotlib inline\n",
    "import numpy as np\n",
    "import matplotlib.tri as Tri\n",
    "import matplotlib.pyplot as plt\n",
    "from mpl_toolkits.basemap import Basemap\n",
    "from netCDF4 import Dataset as NetCDFFile \n",
    "import netCDF4\n",
    "import datetime as dt\n",
    "import pandas as pd\n",
    "from StringIO import StringIO"
   ]
  },
  {
   "cell_type": "code",
   "execution_count": 2,
   "metadata": {
    "collapsed": true
   },
   "outputs": [],
   "source": [
    "import re\n",
    "\n",
    "def extractURLsatellite(fileURL, satName):\n",
    "    \"\"\"\n",
    "    Function to extract the URLs for a specific satellite from the IMOS URLs list\n",
    "    \n",
    "    Parameters:\n",
    "    -----------\n",
    "    \n",
    "    - fileURL : IMOS URLs list as a txt file\n",
    "    - satName : name of the satellite such as JASON-2 JASON-3 \n",
    "    \n",
    "    Ouputs:\n",
    "    ------\n",
    "    \n",
    "    - getFiles : list of URLs for the desired satellite\n",
    "    \n",
    "    \"\"\"\n",
    "    \n",
    "    getFiles = []\n",
    "    \n",
    "    with open(fileURL) as f:\n",
    "        for line in f:\n",
    "            if re.search(r\"%s\"%satName, line):\n",
    "                changeURL = re.sub('http://data.aodn.org.au', 'http://thredds.aodn.org.au/thredds/dodsC', line)\n",
    "                getFiles.append(changeURL)\n",
    "                \n",
    "    return getFiles"
   ]
  },
  {
   "cell_type": "code",
   "execution_count": 3,
   "metadata": {
    "collapsed": true
   },
   "outputs": [],
   "source": [
    "jason2URL = extractURLsatellite( fileURL = 'IMOSURLs.txt', satName = 'JASON-2')\n",
    "\n",
    "jason3URL = extractURLsatellite( fileURL = 'IMOSURLs.txt', satName = 'JASON-3')\n",
    "\n",
    "saralURL = extractURLsatellite( fileURL = 'IMOSURLs.txt', satName = 'SARAL')\n",
    "\n",
    "sentinel3aURL = extractURLsatellite( fileURL = 'IMOSURLs.txt', satName = 'SENTINEL-3A')\n",
    "\n",
    "cryosat2URL = extractURLsatellite( fileURL = 'IMOSURLs.txt', satName = 'CRYOSAT-2')"
   ]
  },
  {
   "cell_type": "code",
   "execution_count": 5,
   "metadata": {
    "collapsed": false
   },
   "outputs": [
    {
     "ename": "AttributeError",
     "evalue": "'numpy.float64' object has no attribute 'units'",
     "output_type": "error",
     "traceback": [
      "\u001b[0;31m---------------------------------------------------------------------------\u001b[0m",
      "\u001b[0;31mAttributeError\u001b[0m                            Traceback (most recent call last)",
      "\u001b[0;32m<ipython-input-5-92a93f42ba74>\u001b[0m in \u001b[0;36m<module>\u001b[0;34m()\u001b[0m\n\u001b[1;32m      1\u001b[0m \u001b[0mncs\u001b[0m \u001b[0;34m=\u001b[0m \u001b[0mNetCDFFile\u001b[0m\u001b[0;34m(\u001b[0m\u001b[0mjason2URL\u001b[0m\u001b[0;34m[\u001b[0m\u001b[0;36m0\u001b[0m\u001b[0;34m]\u001b[0m\u001b[0;34m)\u001b[0m\u001b[0;34m\u001b[0m\u001b[0m\n\u001b[1;32m      2\u001b[0m \u001b[0mtime_var\u001b[0m \u001b[0;34m=\u001b[0m \u001b[0mncs\u001b[0m\u001b[0;34m.\u001b[0m\u001b[0mvariables\u001b[0m\u001b[0;34m[\u001b[0m\u001b[0;34m'TIME'\u001b[0m\u001b[0;34m]\u001b[0m\u001b[0;34m[\u001b[0m\u001b[0;36m0\u001b[0m\u001b[0;34m]\u001b[0m\u001b[0;34m\u001b[0m\u001b[0m\n\u001b[0;32m----> 3\u001b[0;31m \u001b[0mdtime2\u001b[0m \u001b[0;34m=\u001b[0m \u001b[0mnetCDF4\u001b[0m\u001b[0;34m.\u001b[0m\u001b[0mnum2date\u001b[0m\u001b[0;34m(\u001b[0m\u001b[0mncs\u001b[0m\u001b[0;34m.\u001b[0m\u001b[0mvariables\u001b[0m\u001b[0;34m[\u001b[0m\u001b[0;34m'TIME'\u001b[0m\u001b[0;34m]\u001b[0m\u001b[0;34m[\u001b[0m\u001b[0;36m0\u001b[0m\u001b[0;34m:\u001b[0m\u001b[0;36m150\u001b[0m\u001b[0;34m]\u001b[0m\u001b[0;34m,\u001b[0m\u001b[0mtime_var\u001b[0m\u001b[0;34m.\u001b[0m\u001b[0munits\u001b[0m\u001b[0;34m)\u001b[0m\u001b[0;34m\u001b[0m\u001b[0m\n\u001b[0m\u001b[1;32m      4\u001b[0m \u001b[0;32mprint\u001b[0m \u001b[0mdtime2\u001b[0m\u001b[0;34m\u001b[0m\u001b[0m\n",
      "\u001b[0;31mAttributeError\u001b[0m: 'numpy.float64' object has no attribute 'units'"
     ]
    }
   ],
   "source": [
    "ncs = NetCDFFile(jason2URL[0])\n",
    "time_var = ncs.variables['TIME'][0]\n",
    "dtime2 = netCDF4.num2date(ncs.variables['TIME'][0:150],time_var.units)\n",
    "print dtime2"
   ]
  },
  {
   "cell_type": "code",
   "execution_count": 6,
   "metadata": {
    "collapsed": false
   },
   "outputs": [
    {
     "name": "stdout",
     "output_type": "stream",
     "text": [
      "Jason2 record start time: 2008-Jul-07 22:22:57\n",
      "Jason2 record end time: 2018-Jul-13 08:05:15\n"
     ]
    }
   ],
   "source": [
    "ncJ2 = NetCDFFile(jason2URL[0])\n",
    "ncJ2.variables['TIME'][:]\n",
    "\n",
    "\n",
    "\n",
    "start = dt.datetime(1990,1,1)\n",
    "# Get desired time step  \n",
    "time_var = ncJ2.variables['TIME']\n",
    "itime = netCDF4.date2index(start,time_var,select='nearest')\n",
    "dtime = netCDF4.num2date(time_var[itime],time_var.units)\n",
    "daystr = dtime.strftime('%Y-%b-%d %H:%M:%S')\n",
    "print 'Jason2 record start time:',daystr\n",
    "\n",
    "end = dt.datetime(2019,2,1)\n",
    "# Get desired time step  \n",
    "time_var = ncJ2.variables['TIME']\n",
    "itime2 = netCDF4.date2index(end,time_var,select='nearest')\n",
    "dtime2 = netCDF4.num2date(time_var[itime2],time_var.units)\n",
    "dayend = dtime2.strftime('%Y-%b-%d %H:%M:%S')\n",
    "#h=nc.variables['SWH_KU_CAL']\n",
    "print 'Jason2 record end time:',dayend"
   ]
  },
  {
   "cell_type": "code",
   "execution_count": 7,
   "metadata": {
    "collapsed": false
   },
   "outputs": [
    {
     "name": "stdout",
     "output_type": "stream",
     "text": [
      "Jason2 record start time: 2016-Feb-17 19:29:37\n",
      "Jason2 record end time: 2008-Jul-07 22:23:11\n"
     ]
    }
   ],
   "source": [
    "ncJ3 = NetCDFFile(jason3URL[0])\n",
    "ncJ3.variables['TIME'][0]\n",
    "dtime2 = netCDF4.num2date(ncJ3.variables['TIME'][0],time_var.units)\n",
    "dayend = dtime2.strftime('%Y-%b-%d %H:%M:%S')\n",
    "#h=nc.variables['SWH_KU_CAL']\n",
    "print 'Jason2 record start time:',dayend\n",
    "\n",
    "\n",
    "ncJ2 = NetCDFFile(jason2URL[0])\n",
    "ncJ2.variables['TIME'][1]\n",
    "dtime2 = netCDF4.num2date(ncJ2.variables['TIME'][14],time_var.units)\n",
    "dayend = dtime2.strftime('%Y-%b-%d %H:%M:%S')\n",
    "#h=nc.variables['SWH_KU_CAL']\n",
    "print 'Jason2 record end time:',dayend"
   ]
  },
  {
   "cell_type": "code",
   "execution_count": null,
   "metadata": {
    "collapsed": true
   },
   "outputs": [],
   "source": []
  }
 ],
 "metadata": {
  "anaconda-cloud": {},
  "kernelspec": {
   "display_name": "Python [default]",
   "language": "python",
   "name": "python2"
  },
  "language_info": {
   "codemirror_mode": {
    "name": "ipython",
    "version": 2
   },
   "file_extension": ".py",
   "mimetype": "text/x-python",
   "name": "python",
   "nbconvert_exporter": "python",
   "pygments_lexer": "ipython2",
   "version": "2.7.12"
  }
 },
 "nbformat": 4,
 "nbformat_minor": 1
}
