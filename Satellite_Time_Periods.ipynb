{
 "cells": [
  {
   "cell_type": "code",
   "execution_count": 15,
   "metadata": {
    "collapsed": true
   },
   "outputs": [],
   "source": [
    "%matplotlib inline\n",
    "import numpy as np\n",
    "import matplotlib.tri as Tri\n",
    "import matplotlib.pyplot as plt\n",
    "from mpl_toolkits.basemap import Basemap\n",
    "from netCDF4 import Dataset as NetCDFFile \n",
    "import netCDF4\n",
    "import datetime as dt\n",
    "import pandas as pd\n",
    "from StringIO import StringIO"
   ]
  },
  {
   "cell_type": "code",
   "execution_count": 16,
   "metadata": {
    "collapsed": true
   },
   "outputs": [],
   "source": [
    "import re\n",
    "\n",
    "def extractURLsatellite(fileURL, satName):\n",
    "    \"\"\"\n",
    "    Function to extract the URLs for a specific satellite from the IMOS URLs list\n",
    "    \n",
    "    Parameters:\n",
    "    -----------\n",
    "    \n",
    "    - fileURL : IMOS URLs list as a txt file\n",
    "    - satName : name of the satellite such as JASON-2 JASON-3 \n",
    "    \n",
    "    Ouputs:\n",
    "    ------\n",
    "    \n",
    "    - getFiles : list of URLs for the desired satellite\n",
    "    \n",
    "    \"\"\"\n",
    "    \n",
    "    getFiles = []\n",
    "    \n",
    "    with open(fileURL) as f:\n",
    "        for line in f:\n",
    "            if re.search(r\"%s\"%satName, line):\n",
    "                changeURL = re.sub('http://data.aodn.org.au', 'http://thredds.aodn.org.au/thredds/dodsC', line)\n",
    "                getFiles.append(changeURL)\n",
    "                \n",
    "    return getFiles"
   ]
  },
  {
   "cell_type": "code",
   "execution_count": 17,
   "metadata": {
    "collapsed": true
   },
   "outputs": [],
   "source": [
    "jason2URL = extractURLsatellite( fileURL = 'IMOSURLs.txt', satName = 'JASON-2')\n",
    "\n",
    "jason3URL = extractURLsatellite( fileURL = 'IMOSURLs.txt', satName = 'JASON-3')\n",
    "\n",
    "saralURL = extractURLsatellite( fileURL = 'IMOSURLs.txt', satName = 'SARAL')\n",
    "\n",
    "sentinel3aURL = extractURLsatellite( fileURL = 'IMOSURLs.txt', satName = 'SENTINEL-3A')\n",
    "\n",
    "cryosat2URL = extractURLsatellite( fileURL = 'IMOSURLs.txt', satName = 'CRYOSAT-2')"
   ]
  },
  {
   "cell_type": "code",
   "execution_count": 18,
   "metadata": {
    "collapsed": false
   },
   "outputs": [
    {
     "name": "stdout",
     "output_type": "stream",
     "text": [
      "Jason2 record start time: 2008-Jul-07 22:22:57\n",
      "Jason2 record end time: 2018-Jul-13 08:05:15\n"
     ]
    }
   ],
   "source": [
    "ncJ2 = NetCDFFile(jason2URL[0])\n",
    "ncJ2.variables['TIME'][:]\n",
    "\n",
    "\n",
    "\n",
    "start = dt.datetime(1990,1,1)\n",
    "# Get desired time step  \n",
    "time_var = ncJ2.variables['TIME']\n",
    "itime = netCDF4.date2index(start,time_var,select='nearest')\n",
    "dtime = netCDF4.num2date(time_var[itime],time_var.units)\n",
    "daystr = dtime.strftime('%Y-%b-%d %H:%M:%S')\n",
    "print 'Jason2 record start time:',daystr\n",
    "\n",
    "end = dt.datetime(2019,2,1)\n",
    "# Get desired time step  \n",
    "time_var = ncJ2.variables['TIME']\n",
    "itime2 = netCDF4.date2index(end,time_var,select='nearest')\n",
    "dtime2 = netCDF4.num2date(time_var[itime2],time_var.units)\n",
    "dayend = dtime2.strftime('%Y-%b-%d %H:%M:%S')\n",
    "#h=nc.variables['SWH_KU_CAL']\n",
    "print 'Jason2 record end time:',dayend"
   ]
  },
  {
   "cell_type": "code",
   "execution_count": 19,
   "metadata": {
    "collapsed": false
   },
   "outputs": [
    {
     "name": "stdout",
     "output_type": "stream",
     "text": [
      "Jason2 record start time: 2016-Feb-17 19:29:37\n",
      "Jason2 record end time: 2008-Jul-07 22:23:11\n"
     ]
    }
   ],
   "source": [
    "ncJ3 = NetCDFFile(jason3URL[0])\n",
    "ncJ3.variables['TIME'][0]\n",
    "dtime2 = netCDF4.num2date(ncJ3.variables['TIME'][0],time_var.units)\n",
    "dayend = dtime2.strftime('%Y-%b-%d %H:%M:%S')\n",
    "#h=nc.variables['SWH_KU_CAL']\n",
    "print 'Jason2 record start time:',dayend\n",
    "\n",
    "\n",
    "ncJ2 = NetCDFFile(jason2URL[0])\n",
    "ncJ2.variables['TIME'][1]\n",
    "dtime2 = netCDF4.num2date(ncJ2.variables['TIME'][14],time_var.units)\n",
    "dayend = dtime2.strftime('%Y-%b-%d %H:%M:%S')\n",
    "#h=nc.variables['SWH_KU_CAL']\n",
    "print 'Jason2 record end time:',dayend"
   ]
  },
  {
   "cell_type": "code",
   "execution_count": 24,
   "metadata": {
    "collapsed": false
   },
   "outputs": [
    {
     "name": "stdout",
     "output_type": "stream",
     "text": [
      "[datetime.datetime(2008, 7, 7, 22, 22, 57, 437496)\n",
      " datetime.datetime(2008, 7, 7, 22, 22, 58, 453121)\n",
      " datetime.datetime(2008, 7, 7, 22, 22, 59, 468746)\n",
      " datetime.datetime(2008, 7, 7, 22, 23, 0, 500002)\n",
      " datetime.datetime(2008, 7, 7, 22, 23, 1, 515627)\n",
      " datetime.datetime(2008, 7, 7, 22, 23, 2, 531252)\n",
      " datetime.datetime(2008, 7, 7, 22, 23, 3, 546878)\n",
      " datetime.datetime(2008, 7, 7, 22, 23, 4, 578123)\n",
      " datetime.datetime(2008, 7, 7, 22, 23, 5, 593748)\n",
      " datetime.datetime(2008, 7, 7, 22, 23, 6, 609374)\n",
      " datetime.datetime(2008, 7, 7, 22, 23, 7, 640629)\n",
      " datetime.datetime(2008, 7, 7, 22, 23, 8, 656254)\n",
      " datetime.datetime(2008, 7, 7, 22, 23, 9, 671880)\n",
      " datetime.datetime(2008, 7, 7, 22, 23, 10, 703125)\n",
      " datetime.datetime(2008, 7, 7, 22, 23, 11, 718750)\n",
      " datetime.datetime(2008, 7, 7, 22, 23, 12, 734376)\n",
      " datetime.datetime(2008, 7, 7, 22, 23, 13, 750001)\n",
      " datetime.datetime(2008, 7, 7, 22, 23, 14, 781246)\n",
      " datetime.datetime(2008, 7, 7, 22, 23, 15, 796872)\n",
      " datetime.datetime(2008, 7, 7, 22, 23, 16, 812497)\n",
      " datetime.datetime(2008, 7, 17, 20, 21, 29, 562502)\n",
      " datetime.datetime(2008, 7, 17, 20, 21, 30, 578127)\n",
      " datetime.datetime(2008, 7, 17, 20, 21, 31, 593752)\n",
      " datetime.datetime(2008, 7, 17, 20, 21, 32, 624998)\n",
      " datetime.datetime(2008, 7, 17, 20, 21, 33, 640623)\n",
      " datetime.datetime(2008, 7, 17, 20, 21, 34, 656248)\n",
      " datetime.datetime(2008, 7, 17, 20, 21, 35, 687504)\n",
      " datetime.datetime(2008, 7, 17, 20, 21, 36, 703129)\n",
      " datetime.datetime(2008, 7, 17, 20, 21, 37, 718754)\n",
      " datetime.datetime(2008, 7, 17, 20, 21, 38, 734379)\n",
      " datetime.datetime(2008, 7, 17, 20, 21, 39, 765625)\n",
      " datetime.datetime(2008, 7, 17, 20, 21, 40, 781250)\n",
      " datetime.datetime(2008, 7, 17, 20, 21, 43, 843746)\n",
      " datetime.datetime(2008, 7, 17, 20, 21, 44, 859371)\n",
      " datetime.datetime(2008, 7, 17, 20, 21, 45, 874996)\n",
      " datetime.datetime(2008, 7, 17, 20, 21, 46, 906252)\n",
      " datetime.datetime(2008, 7, 17, 20, 21, 47, 921877)\n",
      " datetime.datetime(2008, 7, 17, 20, 21, 48, 937502)\n",
      " datetime.datetime(2008, 7, 27, 18, 20, 1, 734379)\n",
      " datetime.datetime(2008, 7, 27, 18, 20, 2, 750004)\n",
      " datetime.datetime(2008, 7, 27, 18, 20, 3, 765629)\n",
      " datetime.datetime(2008, 7, 27, 18, 20, 4, 796875)\n",
      " datetime.datetime(2008, 7, 27, 18, 20, 5, 812500)\n",
      " datetime.datetime(2008, 7, 27, 18, 20, 8, 874996)\n",
      " datetime.datetime(2008, 7, 27, 18, 20, 9, 890621)\n",
      " datetime.datetime(2008, 7, 27, 18, 20, 10, 906246)\n",
      " datetime.datetime(2008, 7, 27, 18, 20, 11, 937502)\n",
      " datetime.datetime(2008, 7, 27, 18, 20, 12, 953127)\n",
      " datetime.datetime(2008, 7, 27, 18, 20, 13, 968752)\n",
      " datetime.datetime(2008, 7, 27, 18, 20, 14, 999998)\n",
      " datetime.datetime(2008, 7, 27, 18, 20, 16, 15623)\n",
      " datetime.datetime(2008, 7, 27, 18, 20, 17, 31248)\n",
      " datetime.datetime(2008, 7, 27, 18, 20, 18, 62504)\n",
      " datetime.datetime(2008, 7, 27, 18, 20, 19, 78129)\n",
      " datetime.datetime(2008, 7, 27, 18, 20, 20, 93754)\n",
      " datetime.datetime(2008, 7, 27, 18, 20, 21, 109379)\n",
      " datetime.datetime(2008, 8, 6, 16, 18, 32, 359372)\n",
      " datetime.datetime(2008, 8, 6, 16, 18, 33, 374998)\n",
      " datetime.datetime(2008, 8, 6, 16, 18, 34, 406253)\n",
      " datetime.datetime(2008, 8, 6, 16, 18, 35, 421879)\n",
      " datetime.datetime(2008, 8, 6, 16, 18, 36, 437504)\n",
      " datetime.datetime(2008, 8, 6, 16, 18, 37, 453129)\n",
      " datetime.datetime(2008, 8, 6, 16, 18, 38, 484374)\n",
      " datetime.datetime(2008, 8, 6, 16, 18, 39, 500000)\n",
      " datetime.datetime(2008, 8, 6, 16, 18, 40, 515625)\n",
      " datetime.datetime(2008, 8, 6, 16, 18, 41, 546870)\n",
      " datetime.datetime(2008, 8, 6, 16, 18, 42, 562496)\n",
      " datetime.datetime(2008, 8, 6, 16, 18, 43, 578121)\n",
      " datetime.datetime(2008, 8, 6, 16, 18, 44, 609376)\n",
      " datetime.datetime(2008, 8, 6, 16, 18, 45, 625002)\n",
      " datetime.datetime(2008, 8, 6, 16, 18, 46, 640627)\n",
      " datetime.datetime(2008, 8, 6, 16, 18, 47, 656252)\n",
      " datetime.datetime(2008, 8, 6, 16, 18, 48, 687498)\n",
      " datetime.datetime(2008, 8, 6, 16, 18, 49, 703123)\n",
      " datetime.datetime(2008, 8, 6, 16, 18, 50, 718748)\n",
      " datetime.datetime(2008, 8, 6, 16, 18, 51, 750004)\n",
      " datetime.datetime(2008, 8, 6, 16, 18, 52, 765629)\n",
      " datetime.datetime(2008, 8, 16, 14, 17, 4, 109375)\n",
      " datetime.datetime(2008, 8, 16, 14, 17, 5, 125000)\n",
      " datetime.datetime(2008, 8, 16, 14, 17, 6, 156246)\n",
      " datetime.datetime(2008, 8, 16, 14, 17, 7, 171871)\n",
      " datetime.datetime(2008, 8, 16, 14, 17, 8, 187496)\n",
      " datetime.datetime(2008, 8, 16, 14, 17, 10, 234377)\n",
      " datetime.datetime(2008, 8, 16, 14, 17, 11, 250002)\n",
      " datetime.datetime(2008, 8, 16, 14, 17, 12, 265627)\n",
      " datetime.datetime(2008, 8, 16, 14, 17, 13, 296873)\n",
      " datetime.datetime(2008, 8, 16, 14, 17, 14, 312498)\n",
      " datetime.datetime(2008, 8, 16, 14, 17, 15, 328123)\n",
      " datetime.datetime(2008, 8, 16, 14, 17, 16, 359379)\n",
      " datetime.datetime(2008, 8, 16, 14, 17, 17, 375004)\n",
      " datetime.datetime(2008, 8, 16, 14, 17, 18, 390629)\n",
      " datetime.datetime(2008, 8, 16, 14, 17, 19, 406254)\n",
      " datetime.datetime(2008, 8, 16, 14, 17, 20, 437500)\n",
      " datetime.datetime(2008, 8, 16, 14, 17, 21, 453125)\n",
      " datetime.datetime(2008, 8, 16, 14, 17, 22, 468750)\n",
      " datetime.datetime(2008, 8, 16, 14, 17, 23, 499996)\n",
      " datetime.datetime(2008, 8, 26, 12, 15, 35, 54685)\n",
      " datetime.datetime(2008, 8, 26, 12, 15, 36, 70310)\n",
      " datetime.datetime(2008, 8, 26, 12, 15, 37, 93750)\n",
      " datetime.datetime(2008, 8, 26, 12, 15, 38, 117191)\n",
      " datetime.datetime(2008, 8, 26, 12, 15, 39, 132816)\n",
      " datetime.datetime(2008, 8, 26, 12, 15, 40, 156246)\n",
      " datetime.datetime(2008, 8, 26, 12, 15, 41, 171872)\n",
      " datetime.datetime(2008, 8, 26, 12, 15, 42, 195312)\n",
      " datetime.datetime(2008, 8, 26, 12, 15, 43, 210937)\n",
      " datetime.datetime(2008, 8, 26, 12, 15, 44, 234378)\n",
      " datetime.datetime(2008, 8, 26, 12, 15, 45, 257808)\n",
      " datetime.datetime(2008, 8, 26, 12, 15, 46, 273433)\n",
      " datetime.datetime(2008, 8, 26, 12, 15, 47, 296874)\n",
      " datetime.datetime(2008, 8, 26, 12, 15, 48, 312499)\n",
      " datetime.datetime(2008, 8, 26, 12, 15, 49, 335939)\n",
      " datetime.datetime(2008, 8, 26, 12, 15, 50, 359380)\n",
      " datetime.datetime(2008, 8, 26, 12, 15, 51, 375005)\n",
      " datetime.datetime(2008, 8, 26, 12, 15, 52, 398435)\n",
      " datetime.datetime(2008, 8, 26, 12, 15, 53, 414060)\n",
      " datetime.datetime(2008, 8, 26, 12, 15, 54, 437501)\n",
      " datetime.datetime(2008, 8, 26, 12, 15, 55, 453126)\n",
      " datetime.datetime(2008, 9, 5, 10, 14, 7, 249998)\n",
      " datetime.datetime(2008, 9, 5, 10, 14, 8, 273438)\n",
      " datetime.datetime(2008, 9, 5, 10, 14, 9, 289063)\n",
      " datetime.datetime(2008, 9, 5, 10, 14, 10, 312504)\n",
      " datetime.datetime(2008, 9, 5, 10, 14, 11, 335934)\n",
      " datetime.datetime(2008, 9, 5, 10, 14, 12, 351559)\n",
      " datetime.datetime(2008, 9, 5, 10, 14, 13, 375000)\n",
      " datetime.datetime(2008, 9, 5, 10, 14, 14, 390625)\n",
      " datetime.datetime(2008, 9, 5, 10, 14, 15, 414065)\n",
      " datetime.datetime(2008, 9, 5, 10, 14, 16, 429690)\n",
      " datetime.datetime(2008, 9, 5, 10, 14, 17, 453121)\n",
      " datetime.datetime(2008, 9, 5, 10, 14, 18, 476561)\n",
      " datetime.datetime(2008, 9, 5, 10, 14, 19, 492186)\n",
      " datetime.datetime(2008, 9, 5, 10, 14, 20, 515627)\n",
      " datetime.datetime(2008, 9, 5, 10, 14, 21, 531252)\n",
      " datetime.datetime(2008, 9, 5, 10, 14, 22, 554692)\n",
      " datetime.datetime(2008, 9, 5, 10, 14, 23, 578123)\n",
      " datetime.datetime(2008, 9, 5, 10, 14, 24, 593748)\n",
      " datetime.datetime(2008, 9, 5, 10, 14, 25, 617188)\n",
      " datetime.datetime(2008, 9, 5, 10, 14, 26, 632814)\n",
      " datetime.datetime(2008, 9, 5, 10, 14, 27, 656254)\n",
      " datetime.datetime(2008, 9, 15, 8, 12, 39, 499998)\n",
      " datetime.datetime(2008, 9, 15, 8, 12, 40, 523438)\n",
      " datetime.datetime(2008, 9, 15, 8, 12, 41, 546879)\n",
      " datetime.datetime(2008, 9, 15, 8, 12, 42, 562504)\n",
      " datetime.datetime(2008, 9, 15, 8, 12, 43, 585934)\n",
      " datetime.datetime(2008, 9, 15, 8, 12, 44, 601559)\n",
      " datetime.datetime(2008, 9, 15, 8, 12, 45, 625000)\n",
      " datetime.datetime(2008, 9, 15, 8, 12, 46, 648440)\n",
      " datetime.datetime(2008, 9, 15, 8, 12, 47, 664065)\n",
      " datetime.datetime(2008, 9, 15, 8, 12, 48, 687496)\n",
      " datetime.datetime(2008, 9, 15, 8, 12, 49, 703121)\n",
      " datetime.datetime(2008, 9, 15, 8, 12, 50, 726561)]\n"
     ]
    }
   ],
   "source": [
    "ncs = NetCDFFile(jason2URL[0])\n",
    "ncs.variables['TIME'][0]\n",
    "dtime2 = netCDF4.num2date(ncs.variables['TIME'][0:150],time_var.units)\n",
    "print dtime2"
   ]
  },
  {
   "cell_type": "code",
   "execution_count": null,
   "metadata": {
    "collapsed": true
   },
   "outputs": [],
   "source": []
  }
 ],
 "metadata": {
  "anaconda-cloud": {},
  "kernelspec": {
   "display_name": "Python [default]",
   "language": "python",
   "name": "python2"
  },
  "language_info": {
   "codemirror_mode": {
    "name": "ipython",
    "version": 2
   },
   "file_extension": ".py",
   "mimetype": "text/x-python",
   "name": "python",
   "nbconvert_exporter": "python",
   "pygments_lexer": "ipython2",
   "version": "2.7.12"
  }
 },
 "nbformat": 4,
 "nbformat_minor": 1
}
