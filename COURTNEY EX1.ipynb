{
 "cells": [
  {
   "cell_type": "markdown",
   "metadata": {},
   "source": [
    "## Exercise 1\n",
    "\n",
    "In this exercise you need to plot ocean depth against ocean age. You have the topography / bathymetry data and the age data. You should do this for the \"deep oceans\" to avoid including the continental shelves and, for that matter, the continents. The age dataset is only valid where there are magnetic stripes. Other places in the grid are flagged as _\"Not a Number\"_ or _NaN_ and will not plot. You might have to strip out these points for plotting / curve fitting though.\n",
    "\n",
    "### Instructions \n",
    "\n",
    "You can submit this notebook by email but you MUST rename it so we know who it is from. If you used a crazy pseudonym, please let us know when you submit your assigments. \n",
    "\n",
    "I expect to be able to run this notebook before I read your answer!"
   ]
  },
  {
   "cell_type": "code",
   "execution_count": 24,
   "metadata": {
    "collapsed": false
   },
   "outputs": [
    {
     "name": "stdout",
     "output_type": "stream",
     "text": [
      "Populating the interactive namespace from numpy and matplotlib\n"
     ]
    },
    {
     "ename": "ImportError",
     "evalue": "No module named osgeo",
     "output_type": "error",
     "traceback": [
      "\u001b[0;31m---------------------------------------------------------------------------\u001b[0m",
      "\u001b[0;31mImportError\u001b[0m                               Traceback (most recent call last)",
      "\u001b[0;32m<ipython-input-24-522b8ec403f0>\u001b[0m in \u001b[0;36m<module>\u001b[0;34m()\u001b[0m\n\u001b[1;32m      1\u001b[0m \u001b[0mget_ipython\u001b[0m\u001b[0;34m(\u001b[0m\u001b[0;34m)\u001b[0m\u001b[0;34m.\u001b[0m\u001b[0mmagic\u001b[0m\u001b[0;34m(\u001b[0m\u001b[0;34mu'pylab inline'\u001b[0m\u001b[0;34m)\u001b[0m\u001b[0;34m\u001b[0m\u001b[0m\n\u001b[0;32m----> 2\u001b[0;31m \u001b[0;32mfrom\u001b[0m \u001b[0mosgeo\u001b[0m \u001b[0;32mimport\u001b[0m \u001b[0mgdapipl\u001b[0m\u001b[0;34m\u001b[0m\u001b[0m\n\u001b[0m\u001b[1;32m      3\u001b[0m \u001b[0;34m\u001b[0m\u001b[0m\n\u001b[1;32m      4\u001b[0m \u001b[0;32mfrom\u001b[0m \u001b[0mosgeo\u001b[0m \u001b[0;32mimport\u001b[0m \u001b[0mgdal_array\u001b[0m\u001b[0;34m\u001b[0m\u001b[0m\n\u001b[1;32m      5\u001b[0m \u001b[0;34m\u001b[0m\u001b[0m\n",
      "\u001b[0;31mImportError\u001b[0m: No module named osgeo"
     ]
    }
   ],
   "source": [
    "%pylab inline\n",
    "from osgeo import gdapipl\n",
    "\n",
    "from osgeo import gdal_array\n",
    "\n",
    "import cartopy.crs as ccrs\n",
    "import matplotlib.pyplot as plt\n",
    "from scipy.io import netcdf\n",
    "from scipy.misc import imresize"
   ]
  },
  {
   "cell_type": "markdown",
   "metadata": {},
   "source": [
    "## Hint\n",
    "\n",
    "You will need to have the two datasets at the same resolution and valid data shape. The data are stored in an image so re-interpolation can be done with the image resizing fanciness available in ... (guess where !)"
   ]
  },
  {
   "cell_type": "code",
   "execution_count": 12,
   "metadata": {
    "collapsed": false
   },
   "outputs": [
    {
     "ename": "NameError",
     "evalue": "name 'gdal' is not defined",
     "output_type": "error",
     "traceback": [
      "\u001b[0;31m---------------------------------------------------------------------------\u001b[0m",
      "\u001b[0;31mNameError\u001b[0m                                 Traceback (most recent call last)",
      "\u001b[0;32m<ipython-input-12-6f17b9f98fdf>\u001b[0m in \u001b[0;36m<module>\u001b[0;34m()\u001b[0m\n\u001b[0;32m----> 1\u001b[0;31m \u001b[0metopoH\u001b[0m \u001b[0;34m=\u001b[0m \u001b[0mgdal\u001b[0m\u001b[0;34m.\u001b[0m\u001b[0mOpen\u001b[0m\u001b[0;34m(\u001b[0m\u001b[0;34m\"../Data/Resources/ETOPO1_Ice_c_geotiff.tif\"\u001b[0m\u001b[0;34m)\u001b[0m\u001b[0;34m\u001b[0m\u001b[0m\n\u001b[0m\u001b[1;32m      2\u001b[0m \u001b[0metopoH_img\u001b[0m \u001b[0;34m=\u001b[0m \u001b[0metopoH\u001b[0m\u001b[0;34m.\u001b[0m\u001b[0mReadAsArray\u001b[0m\u001b[0;34m(\u001b[0m\u001b[0;34m)\u001b[0m\u001b[0;34m[\u001b[0m\u001b[0;34m:\u001b[0m\u001b[0;34m:\u001b[0m\u001b[0;36m4\u001b[0m\u001b[0;34m,\u001b[0m\u001b[0;34m:\u001b[0m\u001b[0;34m:\u001b[0m\u001b[0;36m4\u001b[0m\u001b[0;34m]\u001b[0m\u001b[0;34m\u001b[0m\u001b[0m\n\u001b[1;32m      3\u001b[0m \u001b[0;32mdel\u001b[0m\u001b[0;34m(\u001b[0m\u001b[0metopoH\u001b[0m\u001b[0;34m)\u001b[0m\u001b[0;34m\u001b[0m\u001b[0m\n\u001b[1;32m      4\u001b[0m \u001b[0;34m\u001b[0m\u001b[0m\n\u001b[1;32m      5\u001b[0m \u001b[0mages\u001b[0m \u001b[0;34m=\u001b[0m \u001b[0mnp\u001b[0m\u001b[0;34m.\u001b[0m\u001b[0mload\u001b[0m\u001b[0;34m(\u001b[0m\u001b[0;34m\"../Data/Resources/global_age_data.3.6.z.npz\"\u001b[0m\u001b[0;34m)\u001b[0m\u001b[0;34m[\u001b[0m\u001b[0;34m\"ageData\"\u001b[0m\u001b[0;34m]\u001b[0m\u001b[0;34m\u001b[0m\u001b[0m\n",
      "\u001b[0;31mNameError\u001b[0m: name 'gdal' is not defined"
     ]
    }
   ],
   "source": [
    "etopoH = gdal.Open(\"../Data/Resources/ETOPO1_Ice_c_geotiff.tif\") \n",
    "etopoH_img = etopoH.ReadAsArray()[::4,::4]\n",
    "del(etopoH)\n",
    "\n",
    "ages = np.load(\"../Data/Resources/global_age_data.3.6.z.npz\")[\"ageData\"]\n",
    "\n",
    "etopoH_1 = imresize(etopoH_img, ages.shape, interp='bilinear', mode=\"F\")\n",
    "etopoH_1[ np.isnan(ages) ] = np.nan"
   ]
  },
  {
   "cell_type": "markdown",
   "metadata": {},
   "source": [
    "## Task\n",
    "\n",
    "Make a map of `etopoH_1` and `ages` (check they are the same shape and same NaN mask)\n",
    "\n",
    "It may also help to plot plate motion arrows on the map to highlight divergent v. convergent zones. In order to do this \"intuitively\" you probably should choose the NNR (no net rotation) velocity field which tends to show major ridges as spreading in opposite directions. \n",
    "\n",
    "You will need to think about:\n",
    "\n",
    "  * which features are useful to include (a coastline, shaded relief etc ?) \n",
    "  * plate motion arrows (see `GlobalPlateMotions` notebook) ? "
   ]
  },
  {
   "cell_type": "code",
   "execution_count": null,
   "metadata": {
    "collapsed": false
   },
   "outputs": [],
   "source": [
    "print (etopoH_img.shape)\n",
    "print (etopoH_1.shape)\n",
    "print (ages.shape)"
   ]
  },
  {
   "cell_type": "code",
   "execution_count": null,
   "metadata": {
    "collapsed": false
   },
   "outputs": [],
   "source": [
    "base_projection = ccrs.PlateCarree() \n",
    "extent = [-180, 180,-90,90]\n",
    "\n",
    "#Plot map\n",
    "fig = plt.figure(figsize=(12, 6), facecolor=\"none\")\n",
    "ax = plt.axes(projection=base_projection)\n",
    "ax.coastlines(resolution='50m', zorder=1)  \n",
    "ax.imshow(ages, extent = extent, transform = ccrs.PlateCarree(), origin=\"upper\", )\n",
    "\n",
    "\n",
    "#Plate motion\n",
    "rootgrp = netcdf.netcdf_file(filename=\"../Data/Reference/velocity_NNR.nc\", version=2)\n",
    "\n",
    "ve = rootgrp.variables[\"ve\"]\n",
    "vn = rootgrp.variables[\"vn\"]\n",
    "\n",
    "lonv = rootgrp.variables[\"lon\"]\n",
    "latv = rootgrp.variables[\"lat\"]\n",
    "\n",
    "lons = lonv[::10]\n",
    "lats = latv[::10]\n",
    "llX, llY = np.meshgrid(lons,lats)\n",
    "\n",
    "Veast = (np.array(ve[::10,::10]).T)\n",
    "Vnorth = (np.array(vn[::10,::10]).T)\n",
    "\n",
    "Vorientation = np.arctan2(Vnorth,Veast)\n",
    "\n",
    "\n",
    "mappable1 = ax.quiver(llX, llY, Veast, Vnorth, Vorientation, scale=2000, transform=ccrs.PlateCarree(),\n",
    "        cmap=cm.Blues, alpha=0.7, zorder=13, pivot=\"mid\")\n",
    "\n",
    "plt.colorbar(mappable1, shrink=0.5)\n",
    "plt.title(\"Ocean Age and Plate Motion\")\n",
    "#print(llX.shape, llY.shape)          "
   ]
  },
  {
   "cell_type": "code",
   "execution_count": null,
   "metadata": {
    "collapsed": false,
    "scrolled": true
   },
   "outputs": [],
   "source": [
    "base_projection = ccrs.PlateCarree() \n",
    "extent=[-180, 180,-90,90]\n",
    "\n",
    "#Plot map\n",
    "fig = plt.figure(figsize=(12, 6), facecolor=\"none\")\n",
    "ax = plt.axes(projection=base_projection)\n",
    "ax.coastlines(resolution='50m', zorder=1)  \n",
    "ax.imshow(etopoH_1, extent = extent, transform = ccrs.PlateCarree(), origin=\"upper\", )\n",
    "\n",
    "#Plate motion\n",
    "rootgrp = netcdf.netcdf_file(filename=\"../Data/Reference/velocity_NNR.nc\", version=2)\n",
    "\n",
    "ve = rootgrp.variables[\"ve\"]\n",
    "vn = rootgrp.variables[\"vn\"]\n",
    "\n",
    "lonv = rootgrp.variables[\"lon\"]\n",
    "latv = rootgrp.variables[\"lat\"]\n",
    "\n",
    "lons = lonv[::5]\n",
    "lats = latv[::5]\n",
    "llX, llY = np.meshgrid(lons,lats)\n",
    "\n",
    "Veast = (np.array(ve[::5,::5]).T)\n",
    "Vnorth = (np.array(vn[::5,::5]).T)\n",
    "\n",
    "Vorientation = np.arctan2(Vnorth,Veast)\n",
    "\n",
    "\n",
    "mappable1 = ax.quiver(llX, llY, Veast, Vnorth, Vorientation, scale=2000, transform=ccrs.PlateCarree(),\n",
    "        cmap=cm.Purples, alpha=0.7, zorder=13, pivot=\"mid\")\n",
    "\n",
    "plt.colorbar(mappable1, shrink=0.5)\n",
    "plt.title(\"Ocean Depth and Tectonic Plate Motion\")\n",
    "#print(llX.shape, llY.shape)  "
   ]
  },
  {
   "cell_type": "markdown",
   "metadata": {},
   "source": [
    "### Task\n",
    "\n",
    "Make a scatter plot of the depth against age. You might need to downsample the number of points as there are a lot of them:\n",
    "\n",
    "```python \n",
    "ages_decimated = ages[::10]\n",
    "topo_decimated = etopoH[::10]\n",
    "``` \n",
    "\n",
    "Do you see any systematic trend ?\n",
    "\n",
    "**Hint:** don't worry if you do not "
   ]
  },
  {
   "cell_type": "code",
   "execution_count": null,
   "metadata": {
    "collapsed": true
   },
   "outputs": [],
   "source": [
    "x = ages[::100]\n",
    "y = etopoH_1[::100]"
   ]
  },
  {
   "cell_type": "code",
   "execution_count": null,
   "metadata": {
    "collapsed": false
   },
   "outputs": [],
   "source": [
    "x[~np.isnan(x)]\n",
    "print (x.shape)\n",
    "\n",
    "y[~np.isnan(y)]\n",
    "print (y.shape)"
   ]
  },
  {
   "cell_type": "code",
   "execution_count": null,
   "metadata": {
    "collapsed": true
   },
   "outputs": [],
   "source": [
    "# #Find all the \"chemdata\" column 1 (i.e. longitude) data points that are greater than -180, save it in a new variable\n",
    "# where_longitude_above_min = chemdata[:,1]>-180\n",
    "# cudata=chemdata[where_longitude_above_min]\n",
    "\n",
    "\n",
    "# #Repeat for less than 180\n",
    "# where_longitude_below_max = cudata[:,1]<180\n",
    "# cudata2=cudata[where_longitude_below_max]"
   ]
  },
  {
   "cell_type": "code",
   "execution_count": null,
   "metadata": {
    "collapsed": false
   },
   "outputs": [],
   "source": [
    "#plt.plot(chemdata[:,:1],chemdata[:,0],'k.')\n",
    "fig = plt.figure (figsize=(6,4), dpi = 300)\n",
    "ax= plt.scatter(x,y, marker = '.')\n",
    "ax = plt.ylabel('Depth (m)')\n",
    "ax = plt.xlabel('Age (Ma)')\n",
    "ax =plt.title('Depth vs Age of the Ocean Floor')"
   ]
  },
  {
   "cell_type": "markdown",
   "metadata": {},
   "source": [
    "# This figure shows that there is no clear correlation between age and depth "
   ]
  },
  {
   "cell_type": "markdown",
   "metadata": {},
   "source": [
    "# Smoothing"
   ]
  },
  {
   "cell_type": "markdown",
   "metadata": {},
   "source": [
    "\n",
    "\n",
    "Now try interpolating the bathymetry to a smoothed / downsampled version of the ages.\n",
    "\n",
    "```python\n",
    "ages_reduced = ages[::8,::8] # This is arbitrary, you should try some different ones\n",
    "\n",
    "# OR\n",
    "\n",
    "ages_reduced2 = imresize(ages, (226,451), interp='bilinear', mode=\"F\")\n",
    "\n",
    "# OR\n",
    "\n",
    "ages_reduced2 = imresize(ages, (226,451), interp='bicubic', mode=\"F\")\n",
    "\n",
    "# OR\n",
    "\n",
    "ages_reduced2 = imresize(ages, (226,451), interp='lanczos', mode=\"F\")\n",
    "```\n",
    "\n",
    "Comment on which of these is the more effective.\n"
   ]
  },
  {
   "cell_type": "code",
   "execution_count": null,
   "metadata": {
    "collapsed": false
   },
   "outputs": [],
   "source": [
    "fig  = plt.figure(figsize=(12, 12), facecolor=\"none\")\n",
    "base_projection     = ccrs.PlateCarree() \n",
    "\n",
    "ax1  = plt.subplot(221, projection=base_projection)\n",
    "ax2  = plt.subplot(222, projection=base_projection)\n",
    "ax3  = plt.subplot(223, projection=base_projection)\n",
    "ax4  = plt.subplot(224, projection=base_projection)\n",
    "\n",
    "map_extent = [-180, 180,-90,90]\n",
    "\n",
    "ax1.set_extent(map_extent)\n",
    "ax2.set_extent(map_extent)\n",
    "ax3.set_extent(map_extent)\n",
    "ax4.set_extent(map_extent)\n",
    "\n",
    "# ax1.add_image(maptype1, 8, alpha=1.0, zorder=2)\n",
    "# ax2.add_image(maptype2, 8, alpha=1.0, zorder=2)\n",
    "\n",
    "# ax3.add_image(maptype1, 10, alpha=1.0, zorder=2)\n",
    "# ax4.add_image(maptype2, 10, alpha=1.0, zorder=2\n",
    "ages_reduced = ages[::8,::8] # This is arbitrary, you should try some different ones\n",
    "              \n",
    "          \n",
    "ax1.add_image(ages_reduced, zorder=2)\n",
    "# ax2.ages_reduced2 = imresize(ages, (226,451), interp='bilinear', mode=\"F\")\n",
    "# ax3.ages_reduced3 = imresize(ages, (226,451), interp='bicubic', mode=\"F\")\n",
    "# ax4.ges_reduced4= imresize(ages, (226,451), interp='lanczos', mode=\"F\")\n",
    "\n",
    "\n",
    "\n",
    "\n",
    "\n",
    "ages_reduced  = ages[::20,::20] # This is arbitrary, you should try some different ones\n",
    "plt.imshow(ages_reduced)\n",
    "plt.show()\n",
    "\n",
    "ages_reduced2 = imresize(ages, (226,451), interp='bicubic', mode=\"F\")\n",
    "plt.imshow(ages_reduced2)\n",
    "plt.show()\n",
    "\n",
    "ages_reduced3 = imresize(ages, (226,451), interp='bilinear', mode=\"F\")\n",
    "plt.imshow(ages_reduced3)\n",
    "plt.show()\n",
    "\n",
    "ages_reduced4= imresize(ages, (226,451), interp='lanczos', mode=\"F\")\n",
    "plt.imshow(ages_reduced4)\n",
    "plt.show()\n",
    "\n",
    "\n"
   ]
  },
  {
   "cell_type": "code",
   "execution_count": null,
   "metadata": {
    "collapsed": false
   },
   "outputs": [],
   "source": [
    "import scipy\n",
    "\n",
    "ages_reduced  = ages[::20,::20] # This is arbitrary, you should try some different ones\n",
    "plt.imshow(ages_reduced)\n",
    "plt.show()\n",
    "\n",
    "ages_reduced2 = skimage.transform.resize(ages, (226,451), interp='bicubic', mode=\"F\")\n",
    "plt.imshow(ages_reduced2)\n",
    "plt.show()\n",
    "\n",
    "ages_reduced3 = imresize(ages, (226,451), interp='bilinear', mode=\"F\")\n",
    "plt.imshow(ages_reduced3)\n",
    "plt.show()\n",
    "\n",
    "ages_reduced4= imresize(ages, (226,451), interp='lanczos', mode=\"F\")\n",
    "plt.imshow(ages_reduced4)\n",
    "plt.show()\n",
    "\n"
   ]
  },
  {
   "cell_type": "markdown",
   "metadata": {},
   "source": [
    "### Task\n",
    "\n",
    "Plot the age/depth data and see if it looks smoother.\n",
    "\n",
    "Make a scatterplot with this data too (note: you will have to downsample the bathymetry too)\n",
    "\n",
    "Does smoothing help bring out a trend ?\n"
   ]
  },
  {
   "cell_type": "code",
   "execution_count": null,
   "metadata": {
    "collapsed": false
   },
   "outputs": [],
   "source": [
    "ages_reduced4= imresize(ages, (226,451), interp='lanczos', mode=\"F\")\n",
    "depth_reduced4 = imresize(etopoH_img, (226,451), interp='lanczos', mode='F')"
   ]
  },
  {
   "cell_type": "code",
   "execution_count": null,
   "metadata": {
    "collapsed": false
   },
   "outputs": [],
   "source": [
    "x = ages_reduced\n",
    "y = depth_reduced4\n",
    "x.shape, y.shape"
   ]
  },
  {
   "cell_type": "code",
   "execution_count": null,
   "metadata": {
    "collapsed": false
   },
   "outputs": [],
   "source": [
    "fig = plt.figure (figsize=(6,4), dpi = 300)\n",
    "ax= plt.scatter(x,y, marker = '.')\n",
    "ax = plt.ylabel('Depth (m)')\n",
    "ax = plt.xlabel('Age (Ma)')\n",
    "ax =plt.title('Age vs Depth of the Ocean Floor')"
   ]
  },
  {
   "cell_type": "markdown",
   "metadata": {},
   "source": [
    "### Task\n",
    "\n",
    "Fit $ \\textrm{depth} = A + B\\sqrt{\\textrm{age}} $ to this data and create a plot\n",
    "\n",
    "You should be able to use \n",
    "\n",
    "```python\n",
    "from scipy.optimize import curve_fit\n",
    "help(curve_fit)\n",
    "```\n",
    "\n"
   ]
  },
  {
   "cell_type": "code",
   "execution_count": 15,
   "metadata": {
    "collapsed": true
   },
   "outputs": [],
   "source": [
    "from scipy.optimize import curve_fit\n",
    "#help(curve_fit)"
   ]
  },
  {
   "cell_type": "code",
   "execution_count": 16,
   "metadata": {
    "collapsed": true
   },
   "outputs": [],
   "source": [
    "def func(x, a, b):\n",
    "    '''\n",
    "    \n",
    "    Fitting function for the data\n",
    "    \n",
    "    '''\n",
    "    \n",
    "    return a +(b*np.sqrt(x))"
   ]
  },
  {
   "cell_type": "code",
   "execution_count": 23,
   "metadata": {
    "collapsed": false
   },
   "outputs": [
    {
     "ename": "NameError",
     "evalue": "name 'x' is not defined",
     "output_type": "error",
     "traceback": [
      "\u001b[0;31m---------------------------------------------------------------------------\u001b[0m",
      "\u001b[0;31mNameError\u001b[0m                                 Traceback (most recent call last)",
      "\u001b[0;32m<ipython-input-23-ad394a149f21>\u001b[0m in \u001b[0;36m<module>\u001b[0;34m()\u001b[0m\n\u001b[0;32m----> 1\u001b[0;31m \u001b[0mage\u001b[0m \u001b[0;34m=\u001b[0m \u001b[0mx\u001b[0m\u001b[0;34m\u001b[0m\u001b[0m\n\u001b[0m\u001b[1;32m      2\u001b[0m \u001b[0;34m\u001b[0m\u001b[0m\n\u001b[1;32m      3\u001b[0m \u001b[0mtime_values\u001b[0m \u001b[0;34m=\u001b[0m \u001b[0mnp\u001b[0m\u001b[0;34m.\u001b[0m\u001b[0mlinspace\u001b[0m\u001b[0;34m(\u001b[0m\u001b[0;36m0\u001b[0m\u001b[0;34m,\u001b[0m\u001b[0;36m1.0\u001b[0m\u001b[0;34m,\u001b[0m\u001b[0;36m1000\u001b[0m\u001b[0;34m)\u001b[0m\u001b[0;34m\u001b[0m\u001b[0m\n\u001b[1;32m      4\u001b[0m \u001b[0mdepth\u001b[0m \u001b[0;34m=\u001b[0m \u001b[0my\u001b[0m \u001b[0;31m#check this is depth\u001b[0m\u001b[0;34m\u001b[0m\u001b[0m\n\u001b[1;32m      5\u001b[0m \u001b[0;34m\u001b[0m\u001b[0m\n",
      "\u001b[0;31mNameError\u001b[0m: name 'x' is not defined"
     ]
    }
   ],
   "source": [
    "age = x\n",
    "\n",
    "time_values = np.linspace(0,1.0,1000)\n",
    "depth = y #check this is depth\n",
    "\n",
    "for const_k in [1.0, 3.1, 10, 50, 100]:\n",
    "    \n",
    "    depth = const_k + B* sqrt(x)\n",
    "    \n",
    "    plot(time_values, exact_theta_values)\n",
    "    \n",
    "pass"
   ]
  },
  {
   "cell_type": "code",
   "execution_count": 21,
   "metadata": {
    "collapsed": false,
    "scrolled": true
   },
   "outputs": [
    {
     "data": {
      "image/png": "[encoded data removed]",
      "text/plain": [
       "<matplotlib.figure.Figure at 0x10eab3810>"
      ]
     },
     "metadata": {},
     "output_type": "display_data"
    }
   ],
   "source": [
    "theta_0 = 1.0\n",
    "\n",
    "time_values = np.linspace(0,1.0,1000)\n",
    "\n",
    "for const_k in [1.0, 3.1, 10.0, 2, 100.00]:\n",
    "    \n",
    "    exact_theta_values = theta_0 * np.exp(-const_k * time_values)\n",
    "    \n",
    "    plot(time_values, exact_theta_values)\n",
    "    \n",
    "pass"
   ]
  },
  {
   "cell_type": "markdown",
   "metadata": {},
   "source": [
    "### Discussion\n",
    "\n",
    "Obviously there are problems with the data - looking at every pixel in the image does not account for regions where there are sea mounts or other features on the ocean floor that we might consider anomalous. Actually, the other reason this doesn't work very well is that it fails to account for sediment accumulation and loading."
   ]
  },
  {
   "cell_type": "code",
   "execution_count": null,
   "metadata": {
    "collapsed": false
   },
   "outputs": [],
   "source": [
    "# test - Veast.shape, llX.shape, Vnorth.shape, Vorientation.shape"
   ]
  }
 ],
 "metadata": {
  "kernelspec": {
   "display_name": "Python [default]",
   "language": "python",
   "name": "python2"
  },
  "language_info": {
   "codemirror_mode": {
    "name": "ipython",
    "version": 2
   },
   "file_extension": ".py",
   "mimetype": "text/x-python",
   "name": "python",
   "nbconvert_exporter": "python",
   "pygments_lexer": "ipython2",
   "version": "2.7.12"
  }
 },
 "nbformat": 4,
 "nbformat_minor": 2
}
