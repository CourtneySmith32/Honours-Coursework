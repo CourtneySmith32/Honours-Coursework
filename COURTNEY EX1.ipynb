{
 "cells": [
  {
   "cell_type": "markdown",
   "metadata": {},
   "source": [
    "## Exercise 1\n",
    "\n",
    "In this exercise you need to plot ocean depth against ocean age. You have the topography / bathymetry data and the age data. You should do this for the \"deep oceans\" to avoid including the continental shelves and, for that matter, the continents. The age dataset is only valid where there are magnetic stripes. Other places in the grid are flagged as _\"Not a Number\"_ or _NaN_ and will not plot. You might have to strip out these points for plotting / curve fitting though.\n",
    "\n",
    "### Instructions \n",
    "\n",
    "You can submit this notebook by email but you MUST rename it so we know who it is from. If you used a crazy pseudonym, please let us know when you submit your assigments. \n",
    "\n",
    "I expect to be able to run this notebook before I read your answer!"
   ]
  },
  {
   "cell_type": "code",
   "execution_count": 8,
   "metadata": {},
   "outputs": [
    {
     "name": "stdout",
     "output_type": "stream",
     "text": [
      "Populating the interactive namespace from numpy and matplotlib\n"
     ]
    }
   ],
   "source": [
    "%pylab inline\n",
    "\n",
    "from osgeo import gdal\n",
    "\n",
    "import cartopy.crs as ccrs\n",
    "import matplotlib.pyplot as plt\n",
    "from scipy.io import netcdf\n",
    "from scipy.misc import imresize"
   ]
  },
  {
   "cell_type": "markdown",
   "metadata": {},
   "source": [
    "## Hint\n",
    "\n",
    "You will need to have the two datasets at the same resolution and valid data shape. The data are stored in an image so re-interpolation can be done with the image resizing fanciness available in ... (guess where !)"
   ]
  },
  {
   "cell_type": "code",
   "execution_count": 10,
   "metadata": {},
   "outputs": [
    {
     "name": "stderr",
     "output_type": "stream",
     "text": [
      "Invalid switch - \"\".\n"
     ]
    }
   ],
   "source": [
    "ls"
   ]
  },
  {
   "cell_type": "code",
   "execution_count": 7,
   "metadata": {},
   "outputs": [
    {
     "ename": "AttributeError",
     "evalue": "'NoneType' object has no attribute 'ReadAsArray'",
     "output_type": "error",
     "traceback": [
      "\u001b[1;31m---------------------------------------------------------------------------\u001b[0m",
      "\u001b[1;31mAttributeError\u001b[0m                            Traceback (most recent call last)",
      "\u001b[1;32m<ipython-input-7-fadbc856bbc5>\u001b[0m in \u001b[0;36m<module>\u001b[1;34m\u001b[0m\n\u001b[0;32m      1\u001b[0m \u001b[0metopoH\u001b[0m \u001b[1;33m=\u001b[0m \u001b[0mgdal\u001b[0m\u001b[1;33m.\u001b[0m\u001b[0mOpen\u001b[0m\u001b[1;33m(\u001b[0m\u001b[1;34m\"../Data/Resources/ETOPO1_Ice_c_geotiff.tif\"\u001b[0m\u001b[1;33m)\u001b[0m\u001b[1;33m\u001b[0m\u001b[1;33m\u001b[0m\u001b[0m\n\u001b[1;32m----> 2\u001b[1;33m \u001b[0metopoH_img\u001b[0m \u001b[1;33m=\u001b[0m \u001b[0metopoH\u001b[0m\u001b[1;33m.\u001b[0m\u001b[0mReadAsArray\u001b[0m\u001b[1;33m(\u001b[0m\u001b[1;33m)\u001b[0m\u001b[1;33m[\u001b[0m\u001b[1;33m:\u001b[0m\u001b[1;33m:\u001b[0m\u001b[1;36m4\u001b[0m\u001b[1;33m,\u001b[0m\u001b[1;33m:\u001b[0m\u001b[1;33m:\u001b[0m\u001b[1;36m4\u001b[0m\u001b[1;33m]\u001b[0m\u001b[1;33m\u001b[0m\u001b[1;33m\u001b[0m\u001b[0m\n\u001b[0m\u001b[0;32m      3\u001b[0m \u001b[1;32mdel\u001b[0m\u001b[1;33m(\u001b[0m\u001b[0metopoH\u001b[0m\u001b[1;33m)\u001b[0m\u001b[1;33m\u001b[0m\u001b[1;33m\u001b[0m\u001b[0m\n\u001b[0;32m      4\u001b[0m \u001b[1;33m\u001b[0m\u001b[0m\n\u001b[0;32m      5\u001b[0m \u001b[0mages\u001b[0m \u001b[1;33m=\u001b[0m \u001b[0mnp\u001b[0m\u001b[1;33m.\u001b[0m\u001b[0mload\u001b[0m\u001b[1;33m(\u001b[0m\u001b[1;34m\"../Data/Resources/global_age_data.3.6.z.npz\"\u001b[0m\u001b[1;33m)\u001b[0m\u001b[1;33m[\u001b[0m\u001b[1;34m\"ageData\"\u001b[0m\u001b[1;33m]\u001b[0m\u001b[1;33m\u001b[0m\u001b[1;33m\u001b[0m\u001b[0m\n",
      "\u001b[1;31mAttributeError\u001b[0m: 'NoneType' object has no attribute 'ReadAsArray'"
     ]
    }
   ],
   "source": [
    "etopoH = gdal.Open(\"Data/Resources/ETOPO1_Ice_c_geotiff.tif\") \n",
    "etopoH_img = etopoH.ReadAsArray()[::4,::4]\n",
    "del(etopoH)\n",
    "\n",
    "ages = np.load(\"../Data/Resources/global_age_data.3.6.z.npz\")[\"ageData\"]\n",
    "\n",
    "etopoH_1 = imresize(etopoH_img, ages.shape, interp='bilinear', mode=\"F\")\n",
    "etopoH_1[ np.isnan(ages) ] = np.nan"
   ]
  },
  {
   "cell_type": "markdown",
   "metadata": {},
   "source": [
    "## Task\n",
    "\n",
    "Make a map of `etopoH_1` and `ages` (check they are the same shape and same NaN mask)\n",
    "\n",
    "It may also help to plot plate motion arrows on the map to highlight divergent v. convergent zones. In order to do this \"intuitively\" you probably should choose the NNR (no net rotation) velocity field which tends to show major ridges as spreading in opposite directions. \n",
    "\n",
    "You will need to think about:\n",
    "\n",
    "  * which features are useful to include (a coastline, shaded relief etc ?) \n",
    "  * plate motion arrows (see `GlobalPlateMotions` notebook) ? "
   ]
  },
  {
   "cell_type": "code",
   "execution_count": null,
   "metadata": {},
   "outputs": [],
   "source": [
    "print (etopoH_img.shape)\n",
    "print (etopoH_1.shape)\n",
    "print (ages.shape)"
   ]
  },
  {
   "cell_type": "code",
   "execution_count": null,
   "metadata": {},
   "outputs": [],
   "source": [
    "base_projection = ccrs.PlateCarree() \n",
    "extent = [-180, 180,-90,90]\n",
    "\n",
    "#Plot map\n",
    "fig = plt.figure(figsize=(12, 6), facecolor=\"none\")\n",
    "ax = plt.axes(projection=base_projection)\n",
    "ax.coastlines(resolution='50m', zorder=1)  \n",
    "ax.imshow(ages, extent = extent, transform = ccrs.PlateCarree(), origin=\"upper\", )\n",
    "\n",
    "\n",
    "#Plate motion\n",
    "rootgrp = netcdf.netcdf_file(filename=\"../Data/Reference/velocity_NNR.nc\", version=2)\n",
    "\n",
    "ve = rootgrp.variables[\"ve\"]\n",
    "vn = rootgrp.variables[\"vn\"]\n",
    "\n",
    "lonv = rootgrp.variables[\"lon\"]\n",
    "latv = rootgrp.variables[\"lat\"]\n",
    "\n",
    "lons = lonv[::5]\n",
    "lats = latv[::5]\n",
    "llX, llY = np.meshgrid(lons,lats)\n",
    "\n",
    "Veast = (np.array(ve[::5,::5]).T)\n",
    "Vnorth = (np.array(vn[::5,::5]).T)\n",
    "\n",
    "Vorientation = np.arctan2(Vnorth,Veast)\n",
    "\n",
    "\n",
    "mappable1 = ax.quiver(llX, llY, Veast, Vnorth, Vorientation, scale=2000, transform=ccrs.PlateCarree(),\n",
    "        cmap=cm.Blues, alpha=0.7, zorder=13, pivot=\"mid\")\n",
    "\n",
    "plt.colorbar(mappable1, shrink=0.5)\n",
    "plt.title(\"Ocean Age and Plate Motion\")\n",
    "#print(llX.shape, llY.shape)          "
   ]
  },
  {
   "cell_type": "code",
   "execution_count": null,
   "metadata": {
    "scrolled": true
   },
   "outputs": [],
   "source": [
    "base_projection = ccrs.PlateCarree() \n",
    "extent=[-180, 180,-90,90]\n",
    "\n",
    "#Plot map\n",
    "fig = plt.figure(figsize=(12, 6), facecolor=\"none\")\n",
    "ax = plt.axes(projection=base_projection)\n",
    "ax.coastlines(resolution='50m', zorder=1)  \n",
    "ax.imshow(etopoH_1, extent = extent, transform = ccrs.PlateCarree(), origin=\"upper\", )\n",
    "\n",
    "#Plate motion\n",
    "rootgrp = netcdf.netcdf_file(filename=\"../Data/Reference/velocity_NNR.nc\", version=2)\n",
    "\n",
    "ve = rootgrp.variables[\"ve\"]\n",
    "vn = rootgrp.variables[\"vn\"]\n",
    "\n",
    "lonv = rootgrp.variables[\"lon\"]\n",
    "latv = rootgrp.variables[\"lat\"]\n",
    "\n",
    "lons = lonv[::5]\n",
    "lats = latv[::5]\n",
    "llX, llY = np.meshgrid(lons,lats)\n",
    "\n",
    "Veast = (np.array(ve[::5,::5]).T)\n",
    "Vnorth = (np.array(vn[::5,::5]).T)\n",
    "\n",
    "Vorientation = np.arctan2(Vnorth,Veast)\n",
    "\n",
    "\n",
    "mappable1 = ax.quiver(llX, llY, Veast, Vnorth, Vorientation, scale=2000, transform=ccrs.PlateCarree(),\n",
    "        cmap=cm.Purples, alpha=0.7, zorder=13, pivot=\"mid\")\n",
    "\n",
    "plt.colorbar(mappable1, shrink=0.5)\n",
    "plt.title(\"Ocean Depth and Tectonic Plate Motion\")\n",
    "#print(llX.shape, llY.shape)  "
   ]
  },
  {
   "cell_type": "markdown",
   "metadata": {},
   "source": [
    "### Task\n",
    "\n",
    "Make a scatter plot of the depth against age. You might need to downsample the number of points as there are a lot of them:\n",
    "\n",
    "```python \n",
    "ages_decimated = ages[::10]\n",
    "topo_decimated = etopoH[::10]\n",
    "``` \n",
    "\n",
    "Do you see any systematic trend ?\n",
    "\n",
    "**Hint:** don't worry if you do not "
   ]
  },
  {
   "cell_type": "code",
   "execution_count": null,
   "metadata": {},
   "outputs": [],
   "source": [
    "x = ages[::100]\n",
    "y = etopoH_1[::100]"
   ]
  },
  {
   "cell_type": "code",
   "execution_count": null,
   "metadata": {},
   "outputs": [],
   "source": [
    "x[~np.isnan(x)]\n",
    "print (x.shape)\n",
    "\n",
    "y[~np.isnan(y)]\n",
    "print (y.shape)"
   ]
  },
  {
   "cell_type": "code",
   "execution_count": null,
   "metadata": {},
   "outputs": [],
   "source": [
    "# #Find all the \"chemdata\" column 1 (i.e. longitude) data points that are greater than -180, save it in a new variable\n",
    "# where_longitude_above_min = chemdata[:,1]>-180\n",
    "# cudata=chemdata[where_longitude_above_min]\n",
    "\n",
    "\n",
    "# #Repeat for less than 180\n",
    "# where_longitude_below_max = cudata[:,1]<180\n",
    "# cudata2=cudata[where_longitude_below_max]"
   ]
  },
  {
   "cell_type": "code",
   "execution_count": null,
   "metadata": {},
   "outputs": [],
   "source": [
    "#plt.plot(chemdata[:,:1],chemdata[:,0],'k.')\n",
    "fig = plt.figure (figsize=(6,4), dpi = 300)\n",
    "ax= plt.scatter(x,y, marker = '.')\n",
    "ax = plt.ylabel('Depth (m)')\n",
    "ax = plt.xlabel('Age (Ma)')\n",
    "ax =plt.title('Depth vs Age of the Ocean Floor')"
   ]
  },
  {
   "cell_type": "markdown",
   "metadata": {},
   "source": [
    "# This figure shows that there is no clear correlation between age and depth "
   ]
  },
  {
   "cell_type": "markdown",
   "metadata": {},
   "source": [
    "Smoothing\n",
    "\n",
    "Now try interpolating the bathymetry to a smoothed / downsampled version of the ages.\n",
    "\n",
    "```python\n",
    "ages_reduced = ages[::8,::8] # This is arbitrary, you should try some different ones\n",
    "\n",
    "# OR\n",
    "\n",
    "ages_reduced2 = imresize(ages, (226,451), interp='bilinear', mode=\"F\")\n",
    "\n",
    "# OR\n",
    "\n",
    "ages_reduced2 = imresize(ages, (226,451), interp='bicubic', mode=\"F\")\n",
    "\n",
    "# OR\n",
    "\n",
    "ages_reduced2 = imresize(ages, (226,451), interp='lanczos', mode=\"F\")\n",
    "```\n",
    "\n",
    "Comment on which of these is the more effective.\n"
   ]
  },
  {
   "cell_type": "code",
   "execution_count": null,
   "metadata": {},
   "outputs": [],
   "source": [
    "ages_reduced = ages[::8,::8]\n",
    "ages_reduced2 = imresize(ages, (226,451), interp='bilinear', mode=\"F\")\n",
    "ages_reduced3 = imresize(ages, (226,451), interp='bicubic', mode=\"F\"\n",
    "ages_reduced4= imresize(ages, (226,451), interp='lanczos', mode=\"F\"\n",
    "                        \n",
    "topo_reduced = etopoH_1[::8,::8]\n",
    "topo_reduced2 = imresize(etopoH_1, (226,451), interp='bilinear', mode=\"F\")\n",
    "topo_reduced3 = imresize(etopoH_1, (226,451), interp='bicubic', mode=\"F\"\n",
    "topo_reduced4= imresize(etopoH_1, (226,451), interp='lanczos', mode=\"F\""
   ]
  },
  {
   "cell_type": "code",
   "execution_count": 3,
   "metadata": {},
   "outputs": [
    {
     "ename": "NameError",
     "evalue": "name 'ages' is not defined",
     "output_type": "error",
     "traceback": [
      "\u001b[1;31m---------------------------------------------------------------------------\u001b[0m",
      "\u001b[1;31mNameError\u001b[0m                                 Traceback (most recent call last)",
      "\u001b[1;32m<ipython-input-3-ad85a882d463>\u001b[0m in \u001b[0;36m<module>\u001b[1;34m\u001b[0m\n\u001b[0;32m     19\u001b[0m \u001b[1;31m# ax3.add_image(maptype1, 10, alpha=1.0, zorder=2)\u001b[0m\u001b[1;33m\u001b[0m\u001b[1;33m\u001b[0m\u001b[1;33m\u001b[0m\u001b[0m\n\u001b[0;32m     20\u001b[0m \u001b[1;31m# ax4.add_image(maptype2, 10, alpha=1.0, zorder=2\u001b[0m\u001b[1;33m\u001b[0m\u001b[1;33m\u001b[0m\u001b[1;33m\u001b[0m\u001b[0m\n\u001b[1;32m---> 21\u001b[1;33m \u001b[0mages_reduced\u001b[0m \u001b[1;33m=\u001b[0m \u001b[0mages\u001b[0m\u001b[1;33m[\u001b[0m\u001b[1;33m:\u001b[0m\u001b[1;33m:\u001b[0m\u001b[1;36m8\u001b[0m\u001b[1;33m,\u001b[0m\u001b[1;33m:\u001b[0m\u001b[1;33m:\u001b[0m\u001b[1;36m8\u001b[0m\u001b[1;33m]\u001b[0m \u001b[1;31m# This is arbitrary, you should try some different ones\u001b[0m\u001b[1;33m\u001b[0m\u001b[1;33m\u001b[0m\u001b[0m\n\u001b[0m\u001b[0;32m     22\u001b[0m \u001b[1;33m\u001b[0m\u001b[0m\n\u001b[0;32m     23\u001b[0m \u001b[1;33m\u001b[0m\u001b[0m\n",
      "\u001b[1;31mNameError\u001b[0m: name 'ages' is not defined"
     ]
    },
    {
     "data": {
      "image/png": "[encoded data removed]",
      "text/plain": [
       "<Figure size 864x864 with 4 Axes>"
      ]
     },
     "metadata": {
      "needs_background": "light"
     },
     "output_type": "display_data"
    }
   ],
   "source": [
    "fig  = plt.figure(figsize=(12, 12), facecolor=\"none\")\n",
    "base_projection     = ccrs.PlateCarree() \n",
    "\n",
    "fig, axes = plt.subplots(ncols=2, nrows=2)\n",
    "ax1, ax2, ax3, ax4 = axes.ravel()\n",
    "fig.set_size_inches((8,8))\n",
    "\n",
    "ax1 = ax1.scatter(ages_reduced, topo_reduced)\n",
    "\n",
    "\n",
    "# ax2.ages_reduced2 = imresize(ages, (226,451), interp='bilinear', mode=\"F\")\n",
    "# ax3.ages_reduced3 = imresize(ages, (226,451), interp='bicubic', mode=\"F\")\n",
    "# ax4.ges_reduced4= imresize(ages, (226,451), interp='lanczos', mode=\"F\"\n",
    "\n",
    "ax1  = plt.subplot(221, projection=base_projection)\n",
    "ax2  = plt.subplot(222, projection=base_projection)\n",
    "ax3  = plt.subplot(223, projection=base_projection)\n",
    "ax4  = plt.subplot(224, projection=base_projection)\n",
    "\n",
    "map_extent = [-180, 180,-90,90]\n",
    "\n",
    "ax1.set_extent(map_extent)\n",
    "ax2.set_extent(map_extent)\n",
    "ax3.set_extent(map_extent)\n",
    "ax4.set_extent(map_extent)\n",
    "\n",
    "# ax1.add_image(maptype1, 8, alpha=1.0, zorder=2)\n",
    "# ax2.add_image(maptype2, 8, alpha=1.0, zorder=2)\n",
    "\n",
    "# ax3.add_image(maptype1, 10, alpha=1.0, zorder=2)\n",
    "# ax4.add_image(maptype2, 10, alpha=1.0, zorder=2\n",
    "ages_reduced = ages[::8,::8] # This is arbitrary, you should try some different ones\n",
    "              \n",
    "          \n",
    "ax1.add_image(ages_reduced, zorder=2))\n",
    "\n",
    "\n",
    "\n",
    "\n",
    "\n",
    "ages_reduced  = ages[::20,::20] # This is arbitrary, you should try some different ones\n",
    "plt.imshow(ages_reduced)\n",
    "plt.show()\n",
    "\n",
    "ages_reduced2 = imresize(ages, (226,451), interp='bicubic', mode=\"F\")\n",
    "plt.imshow(ages_reduced2)\n",
    "plt.show()\n",
    "\n",
    "ages_reduced3 = imresize(ages, (226,451), interp='bilinear', mode=\"F\")\n",
    "plt.imshow(ages_reduced3)\n",
    "plt.show()\n",
    "\n",
    "ages_reduced4= imresize(ages, (226,451), interp='lanczos', mode=\"F\")\n",
    "plt.imshow(ages_reduced4)\n",
    "plt.show()\n",
    "\n",
    "\n"
   ]
  },
  {
   "cell_type": "markdown",
   "metadata": {},
   "source": [
    "### Task\n",
    "\n",
    "Plot the age/depth data and see if it looks smoother.\n",
    "\n",
    "Make a scatterplot with this data too (note: you will have to downsample the bathymetry too)\n",
    "\n",
    "Does smoothing help bring out a trend ?\n"
   ]
  },
  {
   "cell_type": "code",
   "execution_count": null,
   "metadata": {},
   "outputs": [],
   "source": [
    "ages_reduced4= imresize(ages, (226,451), interp='lanczos', mode=\"F\")\n",
    "depth_reduced4 = imresize(etopoH_img, (226,451), interp='lanczos', mode='F')"
   ]
  },
  {
   "cell_type": "code",
   "execution_count": null,
   "metadata": {},
   "outputs": [],
   "source": [
    "x = ages_reduced\n",
    "y = depth_reduced4\n",
    "x.shape, y.shape"
   ]
  },
  {
   "cell_type": "code",
   "execution_count": null,
   "metadata": {},
   "outputs": [],
   "source": [
    "fig = plt.figure (figsize=(6,4), dpi = 300)\n",
    "ax= plt.scatter(x,y, marker = '.')\n",
    "ax = plt.ylabel('Depth (m)')\n",
    "ax = plt.xlabel('Age (Ma)')\n",
    "ax =plt.title('Age vs Depth of the Ocean Floor')"
   ]
  },
  {
   "cell_type": "markdown",
   "metadata": {},
   "source": [
    "### Task\n",
    "\n",
    "Fit $ \\textrm{depth} = A + B\\sqrt{\\textrm{age}} $ to this data and create a plot\n",
    "\n",
    "You should be able to use \n",
    "\n",
    "```python\n",
    "from scipy.optimize import curve_fit\n",
    "help(curve_fit)\n",
    "```\n",
    "\n"
   ]
  },
  {
   "cell_type": "code",
   "execution_count": null,
   "metadata": {},
   "outputs": [],
   "source": [
    "from scipy.optimize import curve_fit\n",
    "help(curve_fit)\n",
    "\n",
    "def test_func(x, a, b):\n",
    "    return a * np.sin(b * x)\n",
    "\n",
    "depth = curve_fit(ages_reduced, depth_reduced4)\n",
    "\n"
   ]
  },
  {
   "cell_type": "code",
   "execution_count": null,
   "metadata": {},
   "outputs": [],
   "source": [
    "maskage = ages_reduced4 > 0\n",
    "\n",
    "ages_reduced5 = ages_reduced4[maskage]\n",
    "topo_reduced5 = topo_reduced4[maskage]\n",
    "\n",
    "len(topo_reduced5)"
   ]
  },
  {
   "cell_type": "code",
   "execution_count": null,
   "metadata": {},
   "outputs": [],
   "source": [
    "ages_positive = np.array([num for num in ages_reduced4 if num>=o])\n",
    "\n",
    "y=np.arange(0,175,5)\n",
    "y=topo_reduced4\n",
    "\n",
    "def function (x,A,B):\n",
    "    return A + B*sqrt(x)\n",
    "\n",
    "func = curve_fit(function, ages_reduced5, topo_reduced5)\n",
    "\n",
    "func"
   ]
  },
  {
   "cell_type": "markdown",
   "metadata": {},
   "source": [
    "### Discussion\n",
    "\n",
    "Obviously there are problems with the data - looking at every pixel in the image does not account for regions where there are sea mounts or other features on the ocean floor that we might consider anomalous. Actually, the other reason this doesn't work very well is that it fails to account for sediment accumulation and loading."
   ]
  },
  {
   "cell_type": "code",
   "execution_count": 5,
   "metadata": {},
   "outputs": [
    {
     "ename": "NameError",
     "evalue": "name 'ages_reduced4' is not defined",
     "output_type": "error",
     "traceback": [
      "\u001b[1;31m---------------------------------------------------------------------------\u001b[0m",
      "\u001b[1;31mNameError\u001b[0m                                 Traceback (most recent call last)",
      "\u001b[1;32m<ipython-input-5-c68cf2a4aaf2>\u001b[0m in \u001b[0;36m<module>\u001b[1;34m\u001b[0m\n\u001b[1;32m----> 1\u001b[1;33m \u001b[0mages_reduced4\u001b[0m\u001b[1;33m\u001b[0m\u001b[1;33m\u001b[0m\u001b[0m\n\u001b[0m",
      "\u001b[1;31mNameError\u001b[0m: name 'ages_reduced4' is not defined"
     ]
    }
   ],
   "source": [
    "ages_reduced4"
   ]
  },
  {
   "cell_type": "code",
   "execution_count": null,
   "metadata": {},
   "outputs": [],
   "source": [
    "age_mask = np.isfinite(ages_reduced4)\n",
    "ages_reduced5 = ages_reduced4[age_mask]"
   ]
  },
  {
   "cell_type": "code",
   "execution_count": null,
   "metadata": {},
   "outputs": [],
   "source": [
    "ages_reduced5_position - np.array([num for num in ages_reduced5 if num>=0])"
   ]
  },
  {
   "cell_type": "code",
   "execution_count": null,
   "metadata": {},
   "outputs": [],
   "source": [
    "etopo_mask - np.isfinite(etopoH_1_reduced4)\n",
    "etopoH_1_reduced5 = etopoH_1_reduced4[etopo_mask]"
   ]
  },
  {
   "cell_type": "code",
   "execution_count": null,
   "metadata": {},
   "outputs": [],
   "source": [
    "etopoH_1_reduced5.size, ages_reduced5.size"
   ]
  },
  {
   "cell_type": "code",
   "execution_count": null,
   "metadata": {},
   "outputs": [],
   "source": []
  },
  {
   "cell_type": "code",
   "execution_count": null,
   "metadata": {},
   "outputs": [],
   "source": []
  },
  {
   "cell_type": "code",
   "execution_count": null,
   "metadata": {},
   "outputs": [],
   "source": []
  },
  {
   "cell_type": "code",
   "execution_count": null,
   "metadata": {},
   "outputs": [],
   "source": []
  }
 ],
 "metadata": {
  "kernelspec": {
   "display_name": "Python 3",
   "language": "python",
   "name": "python3"
  },
  "language_info": {
   "codemirror_mode": {
    "name": "ipython",
    "version": 3
   },
   "file_extension": ".py",
   "mimetype": "text/x-python",
   "name": "python",
   "nbconvert_exporter": "python",
   "pygments_lexer": "ipython3",
   "version": "3.7.1"
  }
 },
 "nbformat": 4,
 "nbformat_minor": 2
}
