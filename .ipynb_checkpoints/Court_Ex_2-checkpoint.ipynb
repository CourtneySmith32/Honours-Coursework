{
 "cells": [
  {
   "cell_type": "markdown",
   "metadata": {},
   "source": [
    "## Exercise 2\n",
    "\n",
    "In the `FiniteDifferences` notebook we considered the differential equation controlling heat flow which relates the rate of change in $T$, the temperature, to spatial gradients in the same quantity. \n",
    "\n",
    "$$\n",
    "\\frac{\\partial T}{\\partial t} = \\kappa \\frac{\\partial^2 T}{\\partial x^2} + H\n",
    "$$\n",
    "       \n",
    "       \n",
    "We ignored $H$ and solved a number of examples. \n",
    "\n",
    "At the end of the notebook we looked at the time-varying solution of the heat equation using an explicit finite difference approximation. Given all the trouble we went to setting this up, don't you think it would be a good idea to see if we can iterate until we reach the steady-state solution?\n",
    "\n",
    "This is not very complicated to do so I would like you to try it __for the case where $\\kappa$ is constant__.\n",
    "\n",
    "You can copy and paste the cells from the `FiniteDifferences` here to get started."
   ]
  },
  {
   "cell_type": "markdown",
   "metadata": {},
   "source": [
    "## Hints\n",
    "\n",
    "You have most of the code you need. The `np.gradient` function will still be useful ... in fact you really only have to put everything in a `for` loop and enforce the boundary conditions.\n"
   ]
  },
  {
   "cell_type": "code",
   "execution_count": 2,
   "metadata": {
    "scrolled": true
   },
   "outputs": [
    {
     "name": "stdout",
     "output_type": "stream",
     "text": [
      "Populating the interactive namespace from numpy and matplotlib\n"
     ]
    }
   ],
   "source": [
    "import numpy as np\n",
    "import pandas as pd\n",
    "import matplotlib.pyplot as plt\n",
    "%pylab inline\n",
    "from mpl_toolkits.axes_grid1 import make_axes_locatable"
   ]
  },
  {
   "cell_type": "code",
   "execution_count": 5,
   "metadata": {},
   "outputs": [
    {
     "ename": "ParserError",
     "evalue": "Error tokenizing data. C error: Expected 1 fields in line 3, saw 11\n",
     "output_type": "error",
     "traceback": [
      "\u001b[0;31m---------------------------------------------------------------------------\u001b[0m",
      "\u001b[0;31mParserError\u001b[0m                               Traceback (most recent call last)",
      "\u001b[0;32m<ipython-input-5-2fa7c8d31b18>\u001b[0m in \u001b[0;36m<module>\u001b[0;34m()\u001b[0m\n\u001b[1;32m      1\u001b[0m \u001b[0mnameCSV\u001b[0m \u001b[0;34m=\u001b[0m \u001b[0;34m'wh_tocsv.csv'\u001b[0m\u001b[0;34m\u001b[0m\u001b[0m\n\u001b[0;32m----> 2\u001b[0;31m \u001b[0mdf\u001b[0m \u001b[0;34m=\u001b[0m \u001b[0mpd\u001b[0m\u001b[0;34m.\u001b[0m\u001b[0mread_csv\u001b[0m\u001b[0;34m(\u001b[0m\u001b[0mstr\u001b[0m\u001b[0;34m(\u001b[0m\u001b[0mnameCSV\u001b[0m\u001b[0;34m)\u001b[0m\u001b[0;34m,\u001b[0m \u001b[0msep\u001b[0m\u001b[0;34m=\u001b[0m\u001b[0;34mr'\\s+'\u001b[0m\u001b[0;34m,\u001b[0m \u001b[0mengine\u001b[0m\u001b[0;34m=\u001b[0m\u001b[0;34m'c'\u001b[0m\u001b[0;34m,\u001b[0m \u001b[0mheader\u001b[0m\u001b[0;34m=\u001b[0m\u001b[0;36m0\u001b[0m\u001b[0;34m,\u001b[0m \u001b[0mna_filter\u001b[0m\u001b[0;34m=\u001b[0m\u001b[0mFalse\u001b[0m\u001b[0;34m,\u001b[0m                                \u001b[0mdtype\u001b[0m\u001b[0;34m=\u001b[0m\u001b[0mnp\u001b[0m\u001b[0;34m.\u001b[0m\u001b[0mfloat\u001b[0m\u001b[0;34m,\u001b[0m \u001b[0mlow_memory\u001b[0m\u001b[0;34m=\u001b[0m\u001b[0mFalse\u001b[0m\u001b[0;34m)\u001b[0m\u001b[0;34m\u001b[0m\u001b[0m\n\u001b[0m",
      "\u001b[0;32m/Users/bgh2-ra/anaconda2/lib/python2.7/site-packages/pandas/io/parsers.pyc\u001b[0m in \u001b[0;36mparser_f\u001b[0;34m(filepath_or_buffer, sep, delimiter, header, names, index_col, usecols, squeeze, prefix, mangle_dupe_cols, dtype, engine, converters, true_values, false_values, skipinitialspace, skiprows, skipfooter, nrows, na_values, keep_default_na, na_filter, verbose, skip_blank_lines, parse_dates, infer_datetime_format, keep_date_col, date_parser, dayfirst, iterator, chunksize, compression, thousands, decimal, lineterminator, quotechar, quoting, doublequote, escapechar, comment, encoding, dialect, tupleize_cols, error_bad_lines, warn_bad_lines, delim_whitespace, low_memory, memory_map, float_precision)\u001b[0m\n\u001b[1;32m    700\u001b[0m                     skip_blank_lines=skip_blank_lines)\n\u001b[1;32m    701\u001b[0m \u001b[0;34m\u001b[0m\u001b[0m\n\u001b[0;32m--> 702\u001b[0;31m         \u001b[0;32mreturn\u001b[0m \u001b[0m_read\u001b[0m\u001b[0;34m(\u001b[0m\u001b[0mfilepath_or_buffer\u001b[0m\u001b[0;34m,\u001b[0m \u001b[0mkwds\u001b[0m\u001b[0;34m)\u001b[0m\u001b[0;34m\u001b[0m\u001b[0m\n\u001b[0m\u001b[1;32m    703\u001b[0m \u001b[0;34m\u001b[0m\u001b[0m\n\u001b[1;32m    704\u001b[0m     \u001b[0mparser_f\u001b[0m\u001b[0;34m.\u001b[0m\u001b[0m__name__\u001b[0m \u001b[0;34m=\u001b[0m \u001b[0mname\u001b[0m\u001b[0;34m\u001b[0m\u001b[0m\n",
      "\u001b[0;32m/Users/bgh2-ra/anaconda2/lib/python2.7/site-packages/pandas/io/parsers.pyc\u001b[0m in \u001b[0;36m_read\u001b[0;34m(filepath_or_buffer, kwds)\u001b[0m\n\u001b[1;32m    433\u001b[0m \u001b[0;34m\u001b[0m\u001b[0m\n\u001b[1;32m    434\u001b[0m     \u001b[0;32mtry\u001b[0m\u001b[0;34m:\u001b[0m\u001b[0;34m\u001b[0m\u001b[0m\n\u001b[0;32m--> 435\u001b[0;31m         \u001b[0mdata\u001b[0m \u001b[0;34m=\u001b[0m \u001b[0mparser\u001b[0m\u001b[0;34m.\u001b[0m\u001b[0mread\u001b[0m\u001b[0;34m(\u001b[0m\u001b[0mnrows\u001b[0m\u001b[0;34m)\u001b[0m\u001b[0;34m\u001b[0m\u001b[0m\n\u001b[0m\u001b[1;32m    436\u001b[0m     \u001b[0;32mfinally\u001b[0m\u001b[0;34m:\u001b[0m\u001b[0;34m\u001b[0m\u001b[0m\n\u001b[1;32m    437\u001b[0m         \u001b[0mparser\u001b[0m\u001b[0;34m.\u001b[0m\u001b[0mclose\u001b[0m\u001b[0;34m(\u001b[0m\u001b[0;34m)\u001b[0m\u001b[0;34m\u001b[0m\u001b[0m\n",
      "\u001b[0;32m/Users/bgh2-ra/anaconda2/lib/python2.7/site-packages/pandas/io/parsers.pyc\u001b[0m in \u001b[0;36mread\u001b[0;34m(self, nrows)\u001b[0m\n\u001b[1;32m   1137\u001b[0m     \u001b[0;32mdef\u001b[0m \u001b[0mread\u001b[0m\u001b[0;34m(\u001b[0m\u001b[0mself\u001b[0m\u001b[0;34m,\u001b[0m \u001b[0mnrows\u001b[0m\u001b[0;34m=\u001b[0m\u001b[0mNone\u001b[0m\u001b[0;34m)\u001b[0m\u001b[0;34m:\u001b[0m\u001b[0;34m\u001b[0m\u001b[0m\n\u001b[1;32m   1138\u001b[0m         \u001b[0mnrows\u001b[0m \u001b[0;34m=\u001b[0m \u001b[0m_validate_integer\u001b[0m\u001b[0;34m(\u001b[0m\u001b[0;34m'nrows'\u001b[0m\u001b[0;34m,\u001b[0m \u001b[0mnrows\u001b[0m\u001b[0;34m)\u001b[0m\u001b[0;34m\u001b[0m\u001b[0m\n\u001b[0;32m-> 1139\u001b[0;31m         \u001b[0mret\u001b[0m \u001b[0;34m=\u001b[0m \u001b[0mself\u001b[0m\u001b[0;34m.\u001b[0m\u001b[0m_engine\u001b[0m\u001b[0;34m.\u001b[0m\u001b[0mread\u001b[0m\u001b[0;34m(\u001b[0m\u001b[0mnrows\u001b[0m\u001b[0;34m)\u001b[0m\u001b[0;34m\u001b[0m\u001b[0m\n\u001b[0m\u001b[1;32m   1140\u001b[0m \u001b[0;34m\u001b[0m\u001b[0m\n\u001b[1;32m   1141\u001b[0m         \u001b[0;31m# May alter columns / col_dict\u001b[0m\u001b[0;34m\u001b[0m\u001b[0;34m\u001b[0m\u001b[0m\n",
      "\u001b[0;32m/Users/bgh2-ra/anaconda2/lib/python2.7/site-packages/pandas/io/parsers.pyc\u001b[0m in \u001b[0;36mread\u001b[0;34m(self, nrows)\u001b[0m\n\u001b[1;32m   1993\u001b[0m     \u001b[0;32mdef\u001b[0m \u001b[0mread\u001b[0m\u001b[0;34m(\u001b[0m\u001b[0mself\u001b[0m\u001b[0;34m,\u001b[0m \u001b[0mnrows\u001b[0m\u001b[0;34m=\u001b[0m\u001b[0mNone\u001b[0m\u001b[0;34m)\u001b[0m\u001b[0;34m:\u001b[0m\u001b[0;34m\u001b[0m\u001b[0m\n\u001b[1;32m   1994\u001b[0m         \u001b[0;32mtry\u001b[0m\u001b[0;34m:\u001b[0m\u001b[0;34m\u001b[0m\u001b[0m\n\u001b[0;32m-> 1995\u001b[0;31m             \u001b[0mdata\u001b[0m \u001b[0;34m=\u001b[0m \u001b[0mself\u001b[0m\u001b[0;34m.\u001b[0m\u001b[0m_reader\u001b[0m\u001b[0;34m.\u001b[0m\u001b[0mread\u001b[0m\u001b[0;34m(\u001b[0m\u001b[0mnrows\u001b[0m\u001b[0;34m)\u001b[0m\u001b[0;34m\u001b[0m\u001b[0m\n\u001b[0m\u001b[1;32m   1996\u001b[0m         \u001b[0;32mexcept\u001b[0m \u001b[0mStopIteration\u001b[0m\u001b[0;34m:\u001b[0m\u001b[0;34m\u001b[0m\u001b[0m\n\u001b[1;32m   1997\u001b[0m             \u001b[0;32mif\u001b[0m \u001b[0mself\u001b[0m\u001b[0;34m.\u001b[0m\u001b[0m_first_chunk\u001b[0m\u001b[0;34m:\u001b[0m\u001b[0;34m\u001b[0m\u001b[0m\n",
      "\u001b[0;32mpandas/_libs/parsers.pyx\u001b[0m in \u001b[0;36mpandas._libs.parsers.TextReader.read\u001b[0;34m()\u001b[0m\n",
      "\u001b[0;32mpandas/_libs/parsers.pyx\u001b[0m in \u001b[0;36mpandas._libs.parsers.TextReader._read_rows\u001b[0;34m()\u001b[0m\n",
      "\u001b[0;32mpandas/_libs/parsers.pyx\u001b[0m in \u001b[0;36mpandas._libs.parsers.raise_parser_error\u001b[0;34m()\u001b[0m\n",
      "\u001b[0;31mParserError\u001b[0m: Error tokenizing data. C error: Expected 1 fields in line 3, saw 11\n"
     ]
    }
   ],
   "source": [
    "nameCSV = 'wh_tocsv.csv'\n",
    "df = pd.read_csv(str(nameCSV), sep=r'\\s+', engine='c', header=0, na_filter=False, \\\n",
    "                               dtype=np.float, low_memory=False)\n"
   ]
  },
  {
   "cell_type": "code",
   "execution_count": null,
   "metadata": {},
   "outputs": [],
   "source": []
  },
  {
   "cell_type": "code",
   "execution_count": 138,
   "metadata": {},
   "outputs": [],
   "source": [
    "#Make 6 plots, each having a different range to find the steady-state solution\n",
    "\n",
    "#this is for first plot\n",
    "A = np.zeros((ny,nx))\n",
    "\n",
    "# Initial conditions\n",
    "A[0,:] = 300.\n",
    "A[-1,:] = 800.\n",
    "\n",
    "\n",
    "#second plot\n",
    "B = np.zeros((ny,nx))\n",
    "\n",
    "time = 0.0\n",
    "\n",
    "for i in range (0,50):\n",
    "    # Initial conditions\n",
    "    B[0,:] = 300.\n",
    "    B[-1,:] = 800.\n",
    "\n",
    "    k = 1.0\n",
    "\n",
    "    #gradients\n",
    "    gradBx, gradBy = np.gradient(B, dx, dy)\n",
    "    flux_x = k*gradTx\n",
    "    flux_y = k*gradTy\n",
    "\n",
    "    gradBxx, gradBxy = np.gradient(flux_x, dx, dy)\n",
    "    gradByx, gradByy = np.gradient(flux_y, dx, dy)\n",
    "\n",
    "    \n",
    "    #time\n",
    "    divB = gradBxx + gradByy\n",
    "    dt = (dx*dy)/k\n",
    "    time += dt\n",
    "\n",
    "    B = B + dt*divB\n",
    "    \n",
    "    \n",
    "#third plot \n",
    "C = np.zeros((ny,nx))\n",
    "time = 0.0\n",
    "\n",
    "# for loop\n",
    "for i in range (0,75):\n",
    "    # Initial conditions\n",
    "    C[0,:] = 300.\n",
    "    C[-1,:] = 800.\n",
    "\n",
    "    k = 1.0\n",
    "\n",
    "\n",
    "    gradCx, gradCy = np.gradient(C, dx, dy)\n",
    "    flux_x = k*gradCx\n",
    "    flux_y = k*gradCy\n",
    "\n",
    "    gradCxx, gradCxy = np.gradient(flux_x, dx, dy)\n",
    "    gradCyx, gradCyy = np.gradient(flux_y, dx, dy)\n",
    "\n",
    "    divC = gradCxx + gradCyy\n",
    "    dt = (dx*dy)/k\n",
    "    time += dt\n",
    "\n",
    "    C = C + dt*divC\n",
    "    \n",
    "#fourth plot \n",
    "D = np.zeros((ny,nx))\n",
    "time = 0.0\n",
    "\n",
    "# for loop\n",
    "for i in range (0,100):\n",
    "    # Initial conditions\n",
    "    D[0,:] = 300.\n",
    "    D[-1,:] = 800.\n",
    "\n",
    "    k = 1.0\n",
    "\n",
    "\n",
    "    gradDx, gradDy = np.gradient(D, dx, dy)\n",
    "    flux_x = k*gradDx\n",
    "    flux_y = k*gradDy\n",
    "\n",
    "    gradDxx, gradDxy = np.gradient(flux_x, dx, dy)\n",
    "    gradDyx, gradDyy = np.gradient(flux_y, dx, dy)\n",
    "\n",
    "    divD = gradDxx + gradDyy\n",
    "    dt = (dx*dy)/k\n",
    "    time += dt\n",
    "\n",
    "    D = D + dt*divD\n",
    "\n",
    "    \n",
    "    \n",
    "#fifth plot \n",
    "E = np.zeros((ny,nx))\n",
    "time = 0.0\n",
    "\n",
    "# for loop\n",
    "for i in range (0,150):\n",
    "    # Initial conditions\n",
    "    E[0,:] = 300.\n",
    "    E[-1,:] = 800.\n",
    "\n",
    "    k = 1.0\n",
    "\n",
    "\n",
    "    gradEx, gradEy = np.gradient(E, dx, dy)\n",
    "    flux_x = k*gradEx\n",
    "    flux_y = k*gradEy\n",
    "\n",
    "    gradExx, gradExy = np.gradient(flux_x, dx, dy)\n",
    "    gradEyx, gradEyy = np.gradient(flux_y, dx, dy)\n",
    "\n",
    "    divE = gradExx + gradEyy\n",
    "    dt = (dx*dy)/k\n",
    "    time += dt\n",
    "\n",
    "    E = E + dt*divE\n",
    "      \n",
    "#sixth plot \n",
    "F = np.zeros((ny,nx))\n",
    "time = 0.0\n",
    "\n",
    "# for loop\n",
    "for i in range (0,200):\n",
    "    # Initial conditions\n",
    "    F[0,:] = 300.\n",
    "    F[-1,:] = 800.\n",
    "\n",
    "    k = 1.0\n",
    "\n",
    "\n",
    "    gradFx, gradFy = np.gradient(F, dx, dy)\n",
    "    flux_x = k*gradFx\n",
    "    flux_y = k*gradFy\n",
    "\n",
    "    gradFxx, gradFxy = np.gradient(flux_x, dx, dy)\n",
    "    gradFyx, gradFyy = np.gradient(flux_y, dx, dy)\n",
    "\n",
    "    divF = gradFxx + gradFyy\n",
    "    dt = (dx*dy)/k\n",
    "    time += dt\n",
    "\n",
    "    F = F + dt*divF"
   ]
  },
  {
   "cell_type": "code",
   "execution_count": 162,
   "metadata": {},
   "outputs": [
    {
     "data": {
      "text/plain": [
       "<matplotlib.colorbar.Colorbar at 0x21a0c4993c8>"
      ]
     },
     "execution_count": 162,
     "metadata": {},
     "output_type": "execute_result"
    },
    {
     "data": {
      "image/png": "[encoded data removed]",
      "text/plain": [
       "<Figure size 1080x1080 with 7 Axes>"
      ]
     },
     "metadata": {
      "needs_background": "light"
     },
     "output_type": "display_data"
    }
   ],
   "source": [
    "#Plot\n",
    "\n",
    "fig, axes = plt.subplots(ncols=3, nrows=2, sharex=True, sharey=True, figsize=(15,15))\n",
    "ax1, ax2, ax3, ax4, ax5, ax6 = axes.ravel()  \n",
    "\n",
    "mappable= ax1.imshow(A)\n",
    "ax1.set_title(\"Initial Conditions\")\n",
    "\n",
    "ax2.imshow(B)\n",
    "ax2.set_title(\"50 iterations\")\n",
    "\n",
    "ax3.imshow(C)\n",
    "ax3.set_title(\"75 iterations\")\n",
    "\n",
    "ax4.imshow(D)\n",
    "ax4.set_title(\"100 iterations\")\n",
    "\n",
    "ax5.imshow(E)\n",
    "ax5.set_title(\"150 iterations\")\n",
    "\n",
    "ax6.imshow(F)\n",
    "ax6.set_title(\"200 iterations\")\n",
    "\n",
    "divider = make_axes_locatable(ax6)\n",
    "cax = divider.append_axes(\"right\", size=\"5%\", pad=0.05, label=\"Degrees C\")\n",
    "plt.colorbar(mappable, cax=cax)\n"
   ]
  },
  {
   "cell_type": "markdown",
   "metadata": {},
   "source": [
    "## Therefore somewhere between 150 and 200 iterations there is the steady state solution, as there are no visible changes in colour between those two graphs."
   ]
  },
  {
   "cell_type": "code",
   "execution_count": 90,
   "metadata": {},
   "outputs": [
    {
     "data": {
      "text/plain": [
       "<matplotlib.image.AxesImage at 0x21a7dbe0fd0>"
      ]
     },
     "execution_count": 90,
     "metadata": {},
     "output_type": "execute_result"
    },
    {
     "data": {
      "image/png": "[encoded data removed]",
      "text/plain": [
       "<Figure size 720x288 with 2 Axes>"
      ]
     },
     "metadata": {
      "needs_background": "light"
     },
     "output_type": "display_data"
    }
   ],
   "source": [
    "# T = np.zeros((ny,nx))\n",
    "# T_new = np.zeros((ny,nx))\n",
    "# time = 1.0\n",
    "\n",
    "# #for loop\n",
    "# for i in range (0,500):\n",
    "#     T_new[0,:] = 300\n",
    "#     T_new[-1,:] = 800\n",
    "    \n",
    "#     k = 3.0\n",
    "  \n",
    "#     gradTx, gradTy = np.gradient(T_new, dx, dy)\n",
    "#     flux_x = k*gradTx\n",
    "#     flux_y = k*gradTy\n",
    "\n",
    "#     gradTxx, gradTxy = np.gradient(flux_x, dx, dy)\n",
    "#     gradTyx, gradTyy = np.gradient(flux_y, dx, dy)\n",
    "\n",
    "#     divT = gradTxx + gradTyy\n",
    "#     dt = (dx*dy)/k\n",
    "#     time += dt +1\n",
    "\n",
    "#     T_new = T + dt*divT\n",
    "    \n",
    "    \n",
    "    \n",
    "\n",
    "# fig, (ax1, ax2) = plt.subplots(1,2, sharey=True, figsize=(10,4))\n",
    "# ax1.imshow(T)\n",
    "# ax2.imshow(T_new)\n"
   ]
  },
  {
   "cell_type": "markdown",
   "metadata": {},
   "source": [
    "We know that there is an instability in the code which occurs if the timestep is too large. Currently the timestep size is related to the size of the mesh and the diffusivity:\n",
    "\n",
    "$$\n",
    "\\Delta t = \\frac{\\Delta x \\Delta y}{\\kappa}\n",
    "$$\n",
    "\n",
    "\n",
    "What happens if you overwrite the timestep size, `dt`? What is the point where the solution begins to breakdown and you see wild oscillations? Is it pretty close to the above relation?"
   ]
  },
  {
   "cell_type": "code",
   "execution_count": 171,
   "metadata": {},
   "outputs": [
    {
     "data": {
      "text/plain": [
       "<matplotlib.image.AxesImage at 0x21a0ce15ba8>"
      ]
     },
     "execution_count": 171,
     "metadata": {},
     "output_type": "execute_result"
    },
    {
     "data": {
      "image/png": "[encoded data removed]",
      "text/plain": [
       "<Figure size 576x576 with 6 Axes>"
      ]
     },
     "metadata": {
      "needs_background": "light"
     },
     "output_type": "display_data"
    }
   ],
   "source": [
    "A = np.zeros((ny,nx))\n",
    "# Initial conditions\n",
    "A[0,:] = 300.\n",
    "A[-1,:] = 800.\n",
    "\n",
    "k = 1.0\n",
    "\n",
    "# 1 timestep\n",
    "time = 0.0\n",
    "gradAx, gradAy = np.gradient(A, dx, dy)\n",
    "flux_x = k*gradAx\n",
    "flux_y = k*gradAy\n",
    "\n",
    "gradAxx, gradAxy = np.gradient(flux_x, dx, dy)\n",
    "gradAyx, gradAyy = np.gradient(flux_y, dx, dy)\n",
    "\n",
    "divA = gradAxx + gradAyy\n",
    "dt =(dx*dy)/k\n",
    "dt2 = 10 \n",
    "dt3 = 0.1\n",
    "time += dt\n",
    "\n",
    "\n",
    "dt_2 = 100\n",
    "dt_3 = 500\n",
    "dt_4 = 1000\n",
    "dt_5 = 1500\n",
    "dt_6 = 2000000\n",
    "#dt_7 = 25000\n",
    "\n",
    "\n",
    "A = A + dt*divA\n",
    "A2 = A + dt_2*divA\n",
    "A3 = A + dt_3*divA\n",
    "A4 = A + dt_4*divA\n",
    "A5 = A + dt_5*divA\n",
    "A6 = A + dt_6*divA\n",
    "\n",
    "fig, axes = plt.subplots(ncols=3, nrows=2, figsize=(20,8))\n",
    "ax1, ax2, ax3, ax4, ax5, ax6 = axes.ravel()\n",
    "fig.set_size_inches((8,8))\n",
    "\n",
    "# fig, axes = plt.subplots(('ncols=2', 'nrows=3','sharey=True' #figsize=(10,4))\n",
    "# ax1, ax2, ax3, ax4, ax5, ax6 = axes.ravel()\n",
    "# fig.set_size_inches((8,8))\n",
    "\n",
    "ax1.imshow(A)\n",
    "ax2.imshow(A2)\n",
    "ax3.imshow(A3)\n",
    "ax4.imshow(A4)\n",
    "ax5.imshow(A5)\n",
    "ax6.imshow(A6)"
   ]
  },
  {
   "cell_type": "code",
   "execution_count": 178,
   "metadata": {},
   "outputs": [
    {
     "data": {
      "text/plain": [
       "<matplotlib.image.AxesImage at 0x21a0eed8ba8>"
      ]
     },
     "execution_count": 178,
     "metadata": {},
     "output_type": "execute_result"
    },
    {
     "data": {
      "image/png": "[encoded data removed]",
      "text/plain": [
       "<Figure size 576x576 with 6 Axes>"
      ]
     },
     "metadata": {
      "needs_background": "light"
     },
     "output_type": "display_data"
    }
   ],
   "source": [
    "A = np.zeros((ny,nx))\n",
    "\n",
    "\n",
    "# Initial condition\n",
    "for i in range (0,200):\n",
    "    A[0,:] = 300.\n",
    "    A[-1,:] = 800.\n",
    "\n",
    "    k = 1.0\n",
    "\n",
    "    time = 0.0\n",
    "    gradAx, gradAy = np.gradient(A, dx, dy)\n",
    "    flux_x = k*gradAx\n",
    "    flux_y = k*gradAy\n",
    "\n",
    "    gradAxx, gradAxy = np.gradient(flux_x, dx, dy)\n",
    "    gradAyx, gradAyy = np.gradient(flux_y, dx, dy)\n",
    "\n",
    "    divA = gradAxx + gradAyy\n",
    "    dt =(dx*dy)/k\n",
    "    dt1 = 500 \n",
    "    dt2 = 1000\n",
    "    dt3 = 1500\n",
    "    dt4 = 2000\n",
    "    dt5 = 10000\n",
    "    dt6 = 1000000\n",
    "    time += dt\n",
    "\n",
    "    A = A + dt*divA\n",
    "    Adt_1 = A + dt1*divA\n",
    "    Adt_2 = A + dt2*divA\n",
    "    Adt_3 = A + dt3*divA\n",
    "    Adt_4 = A + dt4*divA\n",
    "    Adt_5 = A + dt5*divA\n",
    "    \n",
    "    \n",
    "#Plot\n",
    "fig, axes = plt.subplots(ncols=3, nrows=2, figsize=(20,8))\n",
    "ax1, ax2, ax3, ax4, ax5, ax6 = axes.ravel()\n",
    "fig.set_size_inches((8,8))\n",
    "\n",
    "ax1.imshow(A)\n",
    "ax2.imshow(Adt_1)\n",
    "ax3.imshow(Adt_2)\n",
    "ax4.imshow(Adt_3)\n",
    "ax5.imshow(Adt_4)\n",
    "ax6.imshow(Adt_5)\n"
   ]
  },
  {
   "cell_type": "code",
   "execution_count": null,
   "metadata": {},
   "outputs": [],
   "source": []
  },
  {
   "cell_type": "code",
   "execution_count": null,
   "metadata": {},
   "outputs": [],
   "source": []
  }
 ],
 "metadata": {
  "kernelspec": {
   "display_name": "Python 2",
   "language": "python",
   "name": "python2"
  },
  "language_info": {
   "codemirror_mode": {
    "name": "ipython",
    "version": 2
   },
   "file_extension": ".py",
   "mimetype": "text/x-python",
   "name": "python",
   "nbconvert_exporter": "python",
   "pygments_lexer": "ipython2",
   "version": "2.7.16"
  }
 },
 "nbformat": 4,
 "nbformat_minor": 2
}
