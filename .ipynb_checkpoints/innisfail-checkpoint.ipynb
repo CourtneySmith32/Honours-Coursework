{
 "cells": [
  {
   "cell_type": "code",
   "execution_count": 1,
   "metadata": {},
   "outputs": [
    {
     "name": "stderr",
     "output_type": "stream",
     "text": [
      "/Users/bgh2-ra/anaconda2/lib/python2.7/site-packages/dask/config.py:168: YAMLLoadWarning: calling yaml.load() without Loader=... is deprecated, as the default Loader is unsafe. Please read https://msg.pyyaml.org/load for full details.\n",
      "  data = yaml.load(f.read()) or {}\n",
      "/Users/bgh2-ra/anaconda2/lib/python2.7/site-packages/distributed/config.py:20: YAMLLoadWarning: calling yaml.load() without Loader=... is deprecated, as the default Loader is unsafe. Please read https://msg.pyyaml.org/load for full details.\n",
      "  defaults = yaml.load(f)\n"
     ]
    }
   ],
   "source": [
    "%matplotlib inline\n",
    "import numpy as np\n",
    "import matplotlib.tri as Tri\n",
    "import matplotlib.pyplot as plt\n",
    "#from mpl_toolkits.basemap import Basemap\n",
    "from netCDF4 import Dataset as NetCDFFile \n",
    "import netCDF4\n",
    "from netCDF4 import num2date, date2num, date2index\n",
    "import datetime as dt\n",
    "import pandas as pd\n",
    "from StringIO import StringIO\n",
    "import xarray as xr"
   ]
  },
  {
   "cell_type": "code",
   "execution_count": 28,
   "metadata": {},
   "outputs": [],
   "source": [
    "nameCSV = 'innisfail_file.csv'\n",
    "df = pd.read_csv(str(nameCSV), sep=r'\\s+', engine='c', header=0, na_filter=False, \\\n",
    "                               dtype=np.float, low_memory=False)\n",
    "\n",
    "data = df.sort_values(by=['tt'])\n",
    "\n",
    "lat = data.values[:,0]\n",
    "lon = data.values[:,1]\n",
    "wh = data.values[:,2]\n",
    "tt = data.values[:,3]\n",
    "qc = data.values[:,4]"
   ]
  },
  {
   "cell_type": "code",
   "execution_count": 3,
   "metadata": {},
   "outputs": [
    {
     "data": {
      "text/plain": [
       "139403"
      ]
     },
     "execution_count": 3,
     "metadata": {},
     "output_type": "execute_result"
    }
   ],
   "source": [
    "len(tt)"
   ]
  },
  {
   "cell_type": "code",
   "execution_count": 47,
   "metadata": {},
   "outputs": [
    {
     "name": "stdout",
     "output_type": "stream",
     "text": [
      "12.359000205993652 2013-05-18 20:21:41.500005\n",
      "12.40000057220459 2014-04-12 14:16:28.109379\n",
      "12.688000679016113 2014-04-12 14:16:35.249996\n",
      "12.646000862121582 2017-01-14 11:20:25.585933\n",
      "12.178000450134276 2018-02-16 21:52:04.000004\n",
      "12.976000785827635 2018-02-16 21:52:07.765624\n"
     ]
    }
   ],
   "source": [
    "#TEST TO SEE ALL HIGH VALUES\n",
    "idd = np.where(np.logical_and(wh>12, wh<13))[0]\n",
    "\n",
    "for k in range(len(idd)):\n",
    "    print wh[idd[k]], netCDF4.num2date(tt[idd[k]],u'days since 1985-01-01 00:00:00 UTC')"
   ]
  },
  {
   "cell_type": "code",
   "execution_count": 10,
   "metadata": {
    "scrolled": true
   },
   "outputs": [
    {
     "name": "stdout",
     "output_type": "stream",
     "text": [
      "2016-10-17 05:33:22.656250 1.0600000619888306\n",
      "2019-02-20 12:17:03.000003\n"
     ]
    }
   ],
   "source": [
    "tt1 = netCDF4.num2date(tt,u'days since 1985-01-01 00:00:00 UTC')\n",
    "print tt1[0], wh[0]\n",
    "print netCDF4.num2date(max(tt),u'days since 1985-01-01 00:00:00 UTC')"
   ]
  },
  {
   "cell_type": "code",
   "execution_count": 33,
   "metadata": {},
   "outputs": [],
   "source": [
    "#MAKE MEAN SATELLITE TRACK. DOESNT SEEM TO WORK??\n",
    "days = [] #daystart\n",
    "for k in range(len(tt)):\n",
    "       \n",
    "    t1 = netCDF4.num2date(tt[k],u'days since 1985-01-01 00:00:00 UTC')\n",
    "    if k == 0: #get day 0. Then else: every day after that\n",
    "        days.append(0)\n",
    "        dd = netCDF4.num2date(tt[k],u'days since 1985-01-01 00:00:00 UTC')\n",
    "        it = 0\n",
    "    else:\n",
    "        if t1.day != dd.day: #if day 1 is not equal to day 2, then append\n",
    "            #print dd.day,t1.day\n",
    "            days.append(k)\n",
    "            it += 1\n",
    "            dd = netCDF4.num2date(tt[k],u'days since 1985-01-01 00:00:00 UTC')"
   ]
  },
  {
   "cell_type": "code",
   "execution_count": 55,
   "metadata": {},
   "outputs": [
    {
     "name": "stdout",
     "output_type": "stream",
     "text": [
      "1985-03-31 08:13:20.375002\n",
      "1.4414013196123379\n",
      "1.4463256999402663\n",
      "3761\n"
     ]
    }
   ],
   "source": [
    "print netCDF4.num2date(tt[days[0]],u'days since 1985-01-01 00:00:00 UTC')\n",
    "# meanwh is the mean wh of each day (satellite track)\n",
    "meanwh = []\n",
    "\n",
    "for k in range(len(days)-1):\n",
    "    meanwh.append(np.mean(wh[days[k]:days[k+1]])) \n",
    "    \n",
    "print np.mean(meanwh)\n",
    "print np.mean(wh)\n",
    "print len(meanwh)\n",
    "\n",
    "#slightly different mean wh depending on if done by day, or individual records (each second)"
   ]
  },
  {
   "cell_type": "code",
   "execution_count": 65,
   "metadata": {},
   "outputs": [
    {
     "data": {
      "text/plain": [
       "datetime.datetime(2078, 11, 21, 0, 0)"
      ]
     },
     "execution_count": 65,
     "metadata": {},
     "output_type": "execute_result"
    }
   ],
   "source": [
    "netCDF4.num2date(days[1000],u'days since 1985-01-01 00:00:00 UTC')"
   ]
  },
  {
   "cell_type": "code",
   "execution_count": null,
   "metadata": {},
   "outputs": [],
   "source": []
  },
  {
   "cell_type": "code",
   "execution_count": null,
   "metadata": {},
   "outputs": [],
   "source": []
  },
  {
   "cell_type": "code",
   "execution_count": null,
   "metadata": {},
   "outputs": [],
   "source": []
  },
  {
   "cell_type": "code",
   "execution_count": null,
   "metadata": {},
   "outputs": [],
   "source": []
  },
  {
   "cell_type": "code",
   "execution_count": null,
   "metadata": {},
   "outputs": [],
   "source": []
  },
  {
   "cell_type": "code",
   "execution_count": null,
   "metadata": {},
   "outputs": [],
   "source": []
  },
  {
   "cell_type": "code",
   "execution_count": null,
   "metadata": {},
   "outputs": [],
   "source": []
  },
  {
   "cell_type": "code",
   "execution_count": null,
   "metadata": {},
   "outputs": [],
   "source": []
  },
  {
   "cell_type": "code",
   "execution_count": null,
   "metadata": {},
   "outputs": [],
   "source": []
  },
  {
   "cell_type": "code",
   "execution_count": null,
   "metadata": {},
   "outputs": [],
   "source": []
  },
  {
   "cell_type": "code",
   "execution_count": null,
   "metadata": {},
   "outputs": [],
   "source": []
  },
  {
   "cell_type": "code",
   "execution_count": 49,
   "metadata": {},
   "outputs": [
    {
     "name": "stdout",
     "output_type": "stream",
     "text": [
      "24.345001220703125\n",
      "0.0\n",
      "139403\n",
      "3762\n",
      "1.5149176677001728\n"
     ]
    }
   ],
   "source": [
    "#why does this give me different mean wh value?\n",
    "\n",
    "wh_ = wh[days]\n",
    "qc_ = qc[days]\n",
    "lon_ = lon[days]\n",
    "tt_ = tt[days]\n",
    "lat_ = lat[days]\n",
    "\n",
    "print max(wh_)\n",
    "print min(wh_)\n",
    "print len(tt)\n",
    "print len(days)\n",
    "print np.mean(wh_)"
   ]
  },
  {
   "cell_type": "code",
   "execution_count": 54,
   "metadata": {},
   "outputs": [],
   "source": [
    "#for k in range(len(days)):\n",
    "#    if wh_[k]>5:\n",
    "#        print wh_[k], netCDF4.num2date(tt_[k],u'days since 1985-01-01 00:00:00 UTC')"
   ]
  },
  {
   "cell_type": "code",
   "execution_count": null,
   "metadata": {},
   "outputs": [],
   "source": []
  },
  {
   "cell_type": "code",
   "execution_count": null,
   "metadata": {},
   "outputs": [],
   "source": []
  },
  {
   "cell_type": "code",
   "execution_count": null,
   "metadata": {},
   "outputs": [],
   "source": []
  },
  {
   "cell_type": "code",
   "execution_count": null,
   "metadata": {},
   "outputs": [],
   "source": []
  },
  {
   "cell_type": "code",
   "execution_count": null,
   "metadata": {},
   "outputs": [],
   "source": []
  },
  {
   "cell_type": "code",
   "execution_count": 50,
   "metadata": {},
   "outputs": [
    {
     "name": "stdout",
     "output_type": "stream",
     "text": [
      "13.909000396728516 2010-11-03 09:53:04.562499\n",
      "24.345001220703125 2013-02-18 14:34:14.718752\n",
      "7.449000358581543 2018-02-04 20:13:31.281250\n",
      "22.916000366210934 2019-02-14 20:13:04.171871\n",
      "20.75900077819824 2019-02-17 07:54:21.453127\n"
     ]
    }
   ],
   "source": [
    "#This should be average per track, wh above 7.\n",
    "\n",
    "for k in range(len(wh_)):\n",
    "    if wh_[k]>7:\n",
    "        print wh_[k], netCDF4.num2date(tt_[k],u'days since 1985-01-01 00:00:00 UTC')"
   ]
  },
  {
   "cell_type": "code",
   "execution_count": 51,
   "metadata": {},
   "outputs": [],
   "source": [
    "daywh = [] #daystart\n",
    "for k in range(len(tt)):\n",
    "    if wh[k]<10:\n",
    "        t1 = netCDF4.num2date(tt[k],u'days since 1985-01-01 00:00:00 UTC')\n",
    "        if k == 0: #get day 0. Then else: every day after that\n",
    "            daywh.append(0)\n",
    "            dd = netCDF4.num2date(tt[k],u'days since 1985-01-01 00:00:00 UTC')\n",
    "            it = 0\n",
    "        else:\n",
    "            if t1.day != dd.day: #if day 1 is not equal to day 2, then append\n",
    "                #print dd.day,t1.day\n",
    "                daywh.append(k)\n",
    "                it += 1\n",
    "                dd = netCDF4.num2date(tt[k],u'days since 1985-01-01 00:00:00 UTC')"
   ]
  },
  {
   "cell_type": "code",
   "execution_count": 52,
   "metadata": {},
   "outputs": [
    {
     "data": {
      "text/plain": [
       "3760"
      ]
     },
     "execution_count": 52,
     "metadata": {},
     "output_type": "execute_result"
    }
   ],
   "source": [
    "len(daywh)"
   ]
  },
  {
   "cell_type": "code",
   "execution_count": 53,
   "metadata": {},
   "outputs": [
    {
     "name": "stdout",
     "output_type": "stream",
     "text": [
      "7.449000358581543\n",
      "0.0\n",
      "3760\n",
      "1.4956971444788965\n"
     ]
    }
   ],
   "source": [
    "wh2 = wh[daywh]\n",
    "qc2 = qc[daywh]\n",
    "lon2 = lon[daywh]\n",
    "tt2 = tt[daywh]\n",
    "lat2 = lat[daywh]\n",
    "\n",
    "print max(wh2)\n",
    "print min(wh2)\n",
    "print len(tt2)\n",
    "print np.mean(wh2)"
   ]
  },
  {
   "cell_type": "code",
   "execution_count": null,
   "metadata": {},
   "outputs": [],
   "source": [
    "for k in range(len(wh2)):\n",
    "    if wh2[k]>7:\n",
    "        print wh2[k], netCDF4.num2date(tt2[k],u'days since 1985-01-01 00:00:00 UTC')"
   ]
  },
  {
   "cell_type": "code",
   "execution_count": null,
   "metadata": {},
   "outputs": [],
   "source": [
    "netCDF4.num2date(12087.8427231626124,u'days since 1985-01-01 00:00:00 UTC')"
   ]
  },
  {
   "cell_type": "code",
   "execution_count": null,
   "metadata": {},
   "outputs": [],
   "source": [
    "print np.mean(wh2), 'mean'\n",
    "print max(wh2), 'max'\n",
    "print min(wh2), 'min'"
   ]
  },
  {
   "cell_type": "code",
   "execution_count": null,
   "metadata": {},
   "outputs": [],
   "source": []
  },
  {
   "cell_type": "code",
   "execution_count": null,
   "metadata": {},
   "outputs": [],
   "source": [
    " for p in range(len(timing)):\n",
    "            #print(u,' - ',k,'/',len(urlON),' - ',p,'/',len(timing))\n",
    "            if timing[p] >= start_date and timing[p] <= end_date:\n",
    "                if lats[p]>latmin and lats[p]<latmax and lons[p]>lonmin and lons[p]<lonmax:\n",
    "                    if np.where(np.logical_and(0<wh[p]<10,qc[p]==1)):\n",
    "                        boxLat.append(lats[p])"
   ]
  }
 ],
 "metadata": {
  "kernelspec": {
   "display_name": "Python 2",
   "language": "python",
   "name": "python2"
  },
  "language_info": {
   "codemirror_mode": {
    "name": "ipython",
    "version": 2
   },
   "file_extension": ".py",
   "mimetype": "text/x-python",
   "name": "python",
   "nbconvert_exporter": "python",
   "pygments_lexer": "ipython2",
   "version": "2.7.16"
  }
 },
 "nbformat": 4,
 "nbformat_minor": 2
}
