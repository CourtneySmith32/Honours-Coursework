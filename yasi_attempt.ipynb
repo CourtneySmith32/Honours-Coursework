{
 "cells": [
  {
   "cell_type": "code",
   "execution_count": 1,
   "metadata": {},
   "outputs": [
    {
     "name": "stderr",
     "output_type": "stream",
     "text": [
      "/Users/bgh2-ra/anaconda2/lib/python2.7/site-packages/dask/config.py:168: YAMLLoadWarning: calling yaml.load() without Loader=... is deprecated, as the default Loader is unsafe. Please read https://msg.pyyaml.org/load for full details.\n",
      "  data = yaml.load(f.read()) or {}\n",
      "/Users/bgh2-ra/anaconda2/lib/python2.7/site-packages/distributed/config.py:20: YAMLLoadWarning: calling yaml.load() without Loader=... is deprecated, as the default Loader is unsafe. Please read https://msg.pyyaml.org/load for full details.\n",
      "  defaults = yaml.load(f)\n"
     ]
    }
   ],
   "source": [
    "%matplotlib inline\n",
    "import numpy as np\n",
    "import matplotlib.tri as Tri\n",
    "from netCDF4 import Dataset as NetCDFFile \n",
    "import netCDF4\n",
    "from netCDF4 import num2date, date2num, date2index\n",
    "import datetime as dt\n",
    "import pandas as pd\n",
    "from StringIO import StringIO\n",
    "import xarray as xr\n",
    "from scipy import stats\n",
    "import cartopy.crs as ccrs\n",
    "import matplotlib.pyplot as plt\n",
    "import cartopy.feature as cfeature\n",
    "import seaborn as sns\n",
    "from datetime import datetime"
   ]
  },
  {
   "cell_type": "markdown",
   "metadata": {},
   "source": [
    "## Install File"
   ]
  },
  {
   "cell_type": "code",
   "execution_count": 3,
   "metadata": {},
   "outputs": [
    {
     "data": {
      "text/plain": [
       "3"
      ]
     },
     "execution_count": 3,
     "metadata": {},
     "output_type": "execute_result"
    }
   ],
   "source": [
    "nameCSV = 'yasi.csv'\n",
    "df = pd.read_csv(str(nameCSV), sep=r'\\s+', engine='c', header=0, na_filter=False, \\\n",
    "                               dtype=np.float, low_memory=False)\n",
    "\n",
    "data = df.sort_values(by=['tt'])\n",
    "\n",
    "lat = data.values[:,0]\n",
    "lon = data.values[:,1]\n",
    "wh = data.values[:,2]\n",
    "tt = data.values[:,3]\n",
    "qc = data.values[:,4]\n",
    "back =data.values[:,5]\n",
    "ws = data.values[:,6]\n",
    "len(tt)"
   ]
  },
  {
   "cell_type": "code",
   "execution_count": 6,
   "metadata": {},
   "outputs": [],
   "source": [
    "alltime = num2date(tt[:],u'days since 1985-01-01 00:00:00 UTC')"
   ]
  },
  {
   "cell_type": "code",
   "execution_count": 57,
   "metadata": {},
   "outputs": [
    {
     "name": "stdout",
     "output_type": "stream",
     "text": [
      " 6.855 2011-02-01 23:38:12.579861\n"
     ]
    }
   ],
   "source": [
    "for k in range(len(days)):\n",
    "    print wh[days[k]], alltime[k]"
   ]
  },
  {
   "cell_type": "code",
   "execution_count": 38,
   "metadata": {},
   "outputs": [
    {
     "data": {
      "text/plain": [
       "array([6.855    , 7.329867 , 7.5814447])"
      ]
     },
     "execution_count": 38,
     "metadata": {},
     "output_type": "execute_result"
    }
   ],
   "source": [
    "wh"
   ]
  },
  {
   "cell_type": "code",
   "execution_count": 39,
   "metadata": {},
   "outputs": [
    {
     "data": {
      "text/plain": [
       "array([-16.520096, -17.490686, -18.2846  ])"
      ]
     },
     "execution_count": 39,
     "metadata": {},
     "output_type": "execute_result"
    }
   ],
   "source": [
    "lat"
   ]
  },
  {
   "cell_type": "code",
   "execution_count": 58,
   "metadata": {},
   "outputs": [
    {
     "data": {
      "text/plain": [
       "array([153.50105, 153.27458, 153.08806])"
      ]
     },
     "execution_count": 58,
     "metadata": {},
     "output_type": "execute_result"
    }
   ],
   "source": [
    "lon"
   ]
  },
  {
   "cell_type": "code",
   "execution_count": 59,
   "metadata": {},
   "outputs": [
    {
     "data": {
      "text/plain": [
       "array([6.855    , 7.329867 , 7.5814447])"
      ]
     },
     "execution_count": 59,
     "metadata": {},
     "output_type": "execute_result"
    }
   ],
   "source": [
    "wh"
   ]
  },
  {
   "cell_type": "code",
   "execution_count": 41,
   "metadata": {},
   "outputs": [
    {
     "data": {
      "text/plain": [
       "array([datetime.datetime(2011, 2, 1, 23, 38, 12, 579861),\n",
       "       datetime.datetime(2011, 2, 1, 23, 38, 28, 918749),\n",
       "       datetime.datetime(2011, 2, 1, 23, 38, 42, 286458)], dtype=object)"
      ]
     },
     "execution_count": 41,
     "metadata": {},
     "output_type": "execute_result"
    }
   ],
   "source": [
    "num2date(tt[:],u'days since 1985-01-01 00:00:00 UTC')"
   ]
  },
  {
   "cell_type": "code",
   "execution_count": 55,
   "metadata": {},
   "outputs": [
    {
     "data": {
      "text/plain": [
       "[datetime.datetime(2011, 2, 1, 23, 38, 12, 579861)]"
      ]
     },
     "execution_count": 55,
     "metadata": {},
     "output_type": "execute_result"
    }
   ],
   "source": [
    "days2"
   ]
  },
  {
   "cell_type": "code",
   "execution_count": null,
   "metadata": {},
   "outputs": [],
   "source": [
    "print wh"
   ]
  },
  {
   "cell_type": "code",
   "execution_count": 46,
   "metadata": {},
   "outputs": [
    {
     "data": {
      "text/plain": [
       "7.255437233333333"
      ]
     },
     "execution_count": 46,
     "metadata": {},
     "output_type": "execute_result"
    }
   ],
   "source": [
    "meanwh = np.mean(wh) #wave height for each satellite pass\n",
    "meanwh\n"
   ]
  },
  {
   "cell_type": "markdown",
   "metadata": {},
   "source": [
    "## WAVE PERIOD EQN\n",
    "\n",
    "$ \\epsilon = 3.25 \\left( H_s^2 g^2/U^4 \\right)^{0.31}$\n"
   ]
  },
  {
   "cell_type": "code",
   "execution_count": 10,
   "metadata": {},
   "outputs": [],
   "source": [
    "def waveage(H, U, grav=9.80665):\n",
    "    '''\n",
    "    The pseudo wave age can be expressed in terms of significant wave height and surface wind speed.\n",
    "    '''\n",
    "\n",
    "    grav2 = grav**2\n",
    "    hs2 = np.square(H) \n",
    "    u4 = np.power(U,4)\n",
    "    tmp = np.divide(hs2*grav2,u4)\n",
    "    eps = 3.25*np.power(tmp,0.31)\n",
    "    \n",
    "    return eps\n",
    "\n",
    "\n",
    "def waveperiod(H, U, grav=9.80665):\n",
    "    '''\n",
    "    Wave age from GA-2, Govindan et al.\n",
    "    '''\n",
    "\n",
    "    eps = waveage(H, U, grav=9.80665)\n",
    "    period = (((eps-(5.78))/(eps+(U/(H*((U/H)+H)))))+(H+(5.70)))\n",
    "    \n",
    "    return period"
   ]
  },
  {
   "cell_type": "code",
   "execution_count": 11,
   "metadata": {},
   "outputs": [
    {
     "name": "stdout",
     "output_type": "stream",
     "text": [
      "[ 9.37746923 10.03578692 10.22269174]\n",
      "3 3\n"
     ]
    }
   ],
   "source": [
    "T = waveperiod(wh,ws)\n",
    "print T\n",
    "print len(T),len(wh)"
   ]
  },
  {
   "cell_type": "code",
   "execution_count": 49,
   "metadata": {},
   "outputs": [],
   "source": [
    "#Get mean value to represent the whole satellite pass\n",
    "meanwh = np.mean(wh)\n",
    "meanT = np.mean(T)\n",
    "\n"
   ]
  },
  {
   "cell_type": "markdown",
   "metadata": {},
   "source": [
    "## Calculate Wave Power\n",
    "\n",
    "\n",
    "\n",
    "### Total Wave Energy\n",
    "$E = \\frac{1}{8} \\left(pgH_s^2\\right) $\n"
   ]
  },
  {
   "cell_type": "code",
   "execution_count": 13,
   "metadata": {},
   "outputs": [],
   "source": [
    "def totalwaveenergy(H):\n",
    "    \n",
    "    '''\n",
    "    The total wave energy can be calculated using Hs, gravity and water density\n",
    "    '''\n",
    "    \n",
    "    x = 1./8.\n",
    "    p = 1025. #sea water density, kg/m^3\n",
    "    g = 9.80665\n",
    "    h2 = np.square(H) \n",
    "    \n",
    "    pgh = p*g*h2\n",
    "    \n",
    "    e = x*pgh\n",
    "    \n",
    "    return e"
   ]
  },
  {
   "cell_type": "code",
   "execution_count": 14,
   "metadata": {},
   "outputs": [],
   "source": [
    "we = totalwaveenergy(wh)"
   ]
  },
  {
   "cell_type": "code",
   "execution_count": 15,
   "metadata": {},
   "outputs": [
    {
     "data": {
      "text/plain": [
       "array([59043.14358739, 67506.67893277, 72220.16844346])"
      ]
     },
     "execution_count": 15,
     "metadata": {},
     "output_type": "execute_result"
    }
   ],
   "source": [
    "we"
   ]
  },
  {
   "cell_type": "markdown",
   "metadata": {},
   "source": [
    "### Wave energy speed / Wave Velocity\n",
    "$Cg = \\frac{gTz}{2\\pi}n$\n"
   ]
  },
  {
   "cell_type": "code",
   "execution_count": 16,
   "metadata": {},
   "outputs": [],
   "source": [
    "import math\n",
    "def wavespeed(T):\n",
    "    '''\n",
    "    Wave group speed\n",
    "    '''\n",
    "    \n",
    "    g =9.80665\n",
    "    ts = T #wave period\n",
    "    pi = 2*math.pi\n",
    "    n=0.5\n",
    "    \n",
    "    top = g*ts\n",
    "    \n",
    "    Cg = n *(np.divide(top,pi))\n",
    "    \n",
    "    return Cg\n",
    "    "
   ]
  },
  {
   "cell_type": "code",
   "execution_count": 17,
   "metadata": {},
   "outputs": [
    {
     "data": {
      "text/plain": [
       "array([7.31806832, 7.83181181, 7.97767016])"
      ]
     },
     "execution_count": 17,
     "metadata": {},
     "output_type": "execute_result"
    }
   ],
   "source": [
    "Cg = wavespeed(T)\n",
    "Cg"
   ]
  },
  {
   "cell_type": "markdown",
   "metadata": {},
   "source": [
    "### Wave Energy Flux\n",
    "$P = ECg$"
   ]
  },
  {
   "cell_type": "code",
   "execution_count": 18,
   "metadata": {},
   "outputs": [],
   "source": [
    "def waveenergyflux(H,T):\n",
    "    '''\n",
    "    The rate at which energy is carried by waves, determined using total wave energy and wave energy speed\n",
    "    '''\n",
    "    \n",
    "    e = totalwaveenergy(H)\n",
    "    Cg = wavespeed(T)\n",
    "    y = 0.001\n",
    "    P = e * Cg*y\n",
    "    \n",
    "    return P\n",
    "    \n",
    "    "
   ]
  },
  {
   "cell_type": "code",
   "execution_count": 19,
   "metadata": {},
   "outputs": [
    {
     "data": {
      "text/plain": [
       "array([432.08175848, 528.69960527, 576.14868296])"
      ]
     },
     "execution_count": 19,
     "metadata": {},
     "output_type": "execute_result"
    }
   ],
   "source": [
    "power1 = waveenergyflux(wh,T)\n",
    "power1"
   ]
  },
  {
   "cell_type": "code",
   "execution_count": 50,
   "metadata": {},
   "outputs": [],
   "source": [
    "pp = np.mean(power1)"
   ]
  },
  {
   "cell_type": "code",
   "execution_count": 52,
   "metadata": {},
   "outputs": [
    {
     "data": {
      "text/plain": [
       "512.3100155701371"
      ]
     },
     "execution_count": 52,
     "metadata": {},
     "output_type": "execute_result"
    }
   ],
   "source": [
    "pp"
   ]
  },
  {
   "cell_type": "code",
   "execution_count": 51,
   "metadata": {},
   "outputs": [
    {
     "name": "stdout",
     "output_type": "stream",
     "text": [
      "() (3,) therefore use pp in df\n"
     ]
    }
   ],
   "source": [
    "print pp.shape, power1.shape, 'therefore use pp in df'"
   ]
  },
  {
   "cell_type": "code",
   "execution_count": 22,
   "metadata": {},
   "outputs": [
    {
     "name": "stdout",
     "output_type": "stream",
     "text": [
      "(1,)\n",
      "(1,)\n"
     ]
    }
   ],
   "source": [
    "print dayswh.shape\n",
    "print daysTz.shape"
   ]
  },
  {
   "cell_type": "markdown",
   "metadata": {},
   "source": [
    "## Max, min of wh"
   ]
  },
  {
   "cell_type": "code",
   "execution_count": 56,
   "metadata": {},
   "outputs": [
    {
     "name": "stdout",
     "output_type": "stream",
     "text": [
      "min power"
     ]
    },
    {
     "ename": "TypeError",
     "evalue": "'numpy.float64' object is not iterable",
     "output_type": "error",
     "traceback": [
      "\u001b[0;31m---------------------------------------------------------------------------\u001b[0m",
      "\u001b[0;31mTypeError\u001b[0m                                 Traceback (most recent call last)",
      "\u001b[0;32m<ipython-input-56-b8e30d61d06a>\u001b[0m in \u001b[0;36m<module>\u001b[0;34m()\u001b[0m\n\u001b[0;32m----> 1\u001b[0;31m \u001b[0;32mprint\u001b[0m \u001b[0;34m'min power'\u001b[0m\u001b[0;34m,\u001b[0m \u001b[0mmin\u001b[0m\u001b[0;34m(\u001b[0m\u001b[0mpp\u001b[0m\u001b[0;34m)\u001b[0m\u001b[0;34m\u001b[0m\u001b[0m\n\u001b[0m\u001b[1;32m      2\u001b[0m \u001b[0;32mprint\u001b[0m \u001b[0;34m'max power'\u001b[0m\u001b[0;34m,\u001b[0m \u001b[0mmax\u001b[0m\u001b[0;34m(\u001b[0m\u001b[0mpp\u001b[0m\u001b[0;34m)\u001b[0m\u001b[0;34m\u001b[0m\u001b[0m\n\u001b[1;32m      3\u001b[0m \u001b[0;34m\u001b[0m\u001b[0m\n\u001b[1;32m      4\u001b[0m \u001b[0;32mprint\u001b[0m \u001b[0;34m'min wh:'\u001b[0m\u001b[0;34m,\u001b[0m \u001b[0mmin\u001b[0m\u001b[0;34m(\u001b[0m\u001b[0mwh\u001b[0m\u001b[0;34m)\u001b[0m\u001b[0;34m\u001b[0m\u001b[0m\n\u001b[1;32m      5\u001b[0m \u001b[0;32mprint\u001b[0m \u001b[0;34m'max wh:'\u001b[0m\u001b[0;34m,\u001b[0m \u001b[0mmax\u001b[0m\u001b[0;34m(\u001b[0m\u001b[0mwh\u001b[0m\u001b[0;34m)\u001b[0m\u001b[0;34m\u001b[0m\u001b[0m\n",
      "\u001b[0;31mTypeError\u001b[0m: 'numpy.float64' object is not iterable"
     ]
    }
   ],
   "source": [
    "print 'min power', min(pp)\n",
    "print 'max power', max(pp)\n",
    "\n",
    "print 'min wh:', min(wh)\n",
    "print 'max wh:', max(wh)\n",
    "\n",
    "print 'min period:', min(T)\n",
    "print 'max period:', max(T)"
   ]
  }
 ],
 "metadata": {
  "kernelspec": {
   "display_name": "Python 2",
   "language": "python",
   "name": "python2"
  },
  "language_info": {
   "codemirror_mode": {
    "name": "ipython",
    "version": 2
   },
   "file_extension": ".py",
   "mimetype": "text/x-python",
   "name": "python",
   "nbconvert_exporter": "python",
   "pygments_lexer": "ipython2",
   "version": "2.7.16"
  }
 },
 "nbformat": 4,
 "nbformat_minor": 2
}
