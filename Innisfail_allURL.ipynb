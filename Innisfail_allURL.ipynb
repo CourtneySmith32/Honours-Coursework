{
 "cells": [
  {
   "cell_type": "code",
   "execution_count": 1,
   "metadata": {
    "collapsed": true
   },
   "outputs": [],
   "source": [
    "%matplotlib inline\n",
    "import numpy as np\n",
    "import matplotlib.tri as Tri\n",
    "import matplotlib.pyplot as plt\n",
    "from mpl_toolkits.basemap import Basemap\n",
    "from netCDF4 import Dataset as NetCDFFile \n",
    "import netCDF4\n",
    "import datetime as dt\n",
    "import pandas as pd\n",
    "from StringIO import StringIO"
   ]
  },
  {
   "cell_type": "code",
   "execution_count": 2,
   "metadata": {
    "collapsed": true
   },
   "outputs": [],
   "source": [
    "import re\n",
    "\n",
    "def extractURLsatellite(fileURL, satName):\n",
    "    \"\"\"\n",
    "    Function to extract the URLs for a specific satellite from the IMOS URLs list\n",
    "    \n",
    "    Parameters:\n",
    "    -----------\n",
    "    \n",
    "    - fileURL : IMOS URLs list as a txt file\n",
    "    - satName : name of the satellite such as JASON-2 JASON-3 \n",
    "    \n",
    "    Ouputs:\n",
    "    ------\n",
    "    \n",
    "    - getFiles : list of URLs for the desired satellite\n",
    "    \n",
    "    \"\"\"\n",
    "    \n",
    "    getFiles = []\n",
    "    \n",
    "    with open(fileURL) as f:\n",
    "        for line in f:\n",
    "            if re.search(r\"%s\"%satName, line):\n",
    "                changeURL = re.sub('http://data.aodn.org.au', 'http://thredds.aodn.org.au/thredds/dodsC', line)\n",
    "                getFiles.append(changeURL)\n",
    "                \n",
    "    return getFiles"
   ]
  },
  {
   "cell_type": "code",
   "execution_count": 3,
   "metadata": {},
   "outputs": [],
   "source": [
    "jason2URL = extractURLsatellite( fileURL = 'IMOSURLs.txt', satName = 'JASON-2')\n",
    "\n",
    "jason3URL = extractURLsatellite( fileURL = 'IMOSURLs.txt', satName = 'JASON-3')\n",
    "\n",
    "saralURL = extractURLsatellite( fileURL = 'IMOSURLs.txt', satName = 'SARAL')\n",
    "\n",
    "sentinel3aURL = extractURLsatellite( fileURL = 'IMOSURLs.txt', satName = 'SENTINEL-3A')\n",
    "\n",
    "cryosat2URL = extractURLsatellite( fileURL = 'IMOSURLs.txt', satName = 'CRYOSAT-2')\n",
    "\n",
    "enviURL = extractURLsatellite(fileURL = 'IMOSURLs.txt', satName = 'ENVISAT')\n",
    "\n",
    "geosatURL = extractURLsatellite(fileURL = 'IMOSURLs.txt', satName = 'GEOSAT')\n",
    "\n",
    "ersURL = extractURLsatellite(fileURL = 'IMOSURLs.txt', satName = 'ERS-2')\n",
    "\n",
    "gfoURL = extractURLsatellite(fileURL = 'IMOSURLs.txt', satName = 'GFO')\n",
    "\n",
    "topURL = extractURLsatellite(fileURL = 'IMOSURLs.txt', satName = 'TOPEX')"
   ]
  },
  {
   "cell_type": "code",
   "execution_count": 4,
   "metadata": {},
   "outputs": [],
   "source": [
    "allURL = []\n",
    "allURL.append(jason2URL)\n",
    "allURL.append(jason3URL)\n",
    "allURL.append(saralURL)\n",
    "allURL.append(sentinel3aURL)\n",
    "allURL.append(cryosat2URL)\n",
    "allURL.append(enviURL)\n",
    "allURL.append(geosatURL)\n",
    "allURL.append(ersURL)\n",
    "allURL.append(gfoURL)\n",
    "allURL.append(topURL)"
   ]
  },
  {
   "cell_type": "code",
   "execution_count": 5,
   "metadata": {},
   "outputs": [],
   "source": [
    "#Innisfail coordinates\n",
    "\n",
    "latmin = -17.99 \n",
    "latmax = -16 \n",
    "lonmin = 147.0  \n",
    "lonmax = 148.99  \n",
    "\n",
    "if latmin>latmax:\n",
    "    print('Error wrong definition of min and max lat!!!')\n",
    "\n",
    "if lonmin>lonmax:\n",
    "    print('Error wrong definition of min and max lon!!!')\n"
   ]
  },
  {
   "cell_type": "code",
   "execution_count": 6,
   "metadata": {},
   "outputs": [],
   "source": [
    "boxLat = []\n",
    "boxLon = []\n",
    "boxWh = []\n",
    "boxT = []\n",
    "\n",
    "for u in range(len(allURL)):\n",
    "    urlON = allURL[u]\n",
    "    for k in range(len(urlON)):\n",
    "        ncs = NetCDFFile(urlON[k])\n",
    "        lats = ncs.variables['LATITUDE'][:]\n",
    "        lons = ncs.variables['LONGITUDE'][:]\n",
    "        if u == 2:\n",
    "            wh = ncs.variables['SWH_KA_CAL'][:]\n",
    "        else:\n",
    "            wh = ncs.variables['SWH_KU_CAL'][:]\n",
    "        t = ncs.variables['TIME'][:]\n",
    "\n",
    "        # Check if satellite points are in the box\n",
    "        id1 = lats>latmin \n",
    "        id2 = lats<latmax\n",
    "        id3 = lons>lonmin\n",
    "        id4 = lons<lonmax\n",
    "        id1 = id1*1\n",
    "        id2 = id2*1\n",
    "        id3 = id3*1\n",
    "        id4 = id4*1\n",
    "        tot = id1+id2+id3+id4\n",
    "        # If this is the case then the sum should be 4\n",
    "        inside = np.where(tot==4)[0]\n",
    "\n",
    "        if len(inside)>0:\n",
    "            boxLat.append(lats[inside])\n",
    "            boxLon.append(lons[inside])\n",
    "            boxWh.append(wh[inside])\n",
    "            boxT.append(t[inside])\n",
    "        "
   ]
  },
  {
   "cell_type": "code",
   "execution_count": 8,
   "metadata": {},
   "outputs": [
    {
     "data": {
      "text/plain": [
       "38"
      ]
     },
     "execution_count": 8,
     "metadata": {},
     "output_type": "execute_result"
    }
   ],
   "source": [
    "len(boxLat)"
   ]
  },
  {
   "cell_type": "code",
   "execution_count": 9,
   "metadata": {},
   "outputs": [],
   "source": [
    "for k in range(len(boxLat)):\n",
    "    if k == 0:\n",
    "        lat = boxLat[k]\n",
    "        lon = boxLon[k]\n",
    "        wh = boxWh[k]\n",
    "        t = boxT[k]\n",
    "    else:\n",
    "        lat = np.append(lat,boxLat[k])\n",
    "        lon = np.append(lon,boxLon[k])\n",
    "        wh = np.append(wh,boxWh[k])\n",
    "        t = np.append(t,boxT[k])"
   ]
  },
  {
   "cell_type": "code",
   "execution_count": 22,
   "metadata": {},
   "outputs": [
    {
     "name": "stdout",
     "output_type": "stream",
     "text": [
      "(127376,)\n",
      "(127376,)\n",
      "(127376,)\n",
      "(127376,)\n"
     ]
    }
   ],
   "source": [
    "print lat.shape\n",
    "print lon.shape\n",
    "print wh.shape\n",
    "print t.shape"
   ]
  },
  {
   "cell_type": "code",
   "execution_count": 11,
   "metadata": {},
   "outputs": [
    {
     "name": "stdout",
     "output_type": "stream",
     "text": [
      "Saral record start time: 2008-Jul-07 22:22:57\n",
      "Saral record end time: 2018-Jul-13 08:05:15\n"
     ]
    }
   ],
   "source": [
    "# ncs = NetCDFFile(jason2URL[0])\n",
    "# start = dt.datetime(1950,1,1)\n",
    "# # Get desired time step  \n",
    "# time_var = ncs.variables['TIME']\n",
    "# itime = netCDF4.date2index(start,time_var,select='nearest')\n",
    "# dtime = netCDF4.num2date(time_var[itime],time_var.units)\n",
    "# daystr = dtime.strftime('%Y-%b-%d %H:%M:%S')\n",
    "# print 'Saral record start time:',daystr\n",
    "\n",
    "# end = dt.datetime(2020,2,1)\n",
    "# # Get desired time step  \n",
    "# time_var = ncs.variables['TIME']\n",
    "# itime2 = netCDF4.date2index(end,time_var,select='nearest')\n",
    "# dtime2 = netCDF4.num2date(time_var[itime2],time_var.units)\n",
    "# dayend = dtime2.strftime('%Y-%b-%d %H:%M:%S')\n",
    "# #h=nc.variables['SWH_KU_CAL']\n",
    "# print 'Saral record end time:',dayend"
   ]
  },
  {
   "cell_type": "code",
   "execution_count": 12,
   "metadata": {
    "scrolled": true
   },
   "outputs": [
    {
     "name": "stdout",
     "output_type": "stream",
     "text": [
      "-32768.0\n"
     ]
    }
   ],
   "source": [
    "print min(wh)"
   ]
  },
  {
   "cell_type": "code",
   "execution_count": 13,
   "metadata": {},
   "outputs": [
    {
     "name": "stdout",
     "output_type": "stream",
     "text": [
      "[     0      1      2 ..., 127373 127374 127375]\n"
     ]
    }
   ],
   "source": [
    "ids = np.where(wh>0)[0]\n",
    "print ids"
   ]
  },
  {
   "cell_type": "code",
   "execution_count": 25,
   "metadata": {},
   "outputs": [
    {
     "name": "stdout",
     "output_type": "stream",
     "text": [
      "[     0      1      2 ..., 127373 127374 127375]\n",
      "126906\n"
     ]
    }
   ],
   "source": [
    "ids = np.where(wh>0)[0]\n",
    "print ids\n",
    "whpos = wh[ids]\n",
    "print len(whpos)\n",
    "\n",
    "#wave height positive values"
   ]
  },
  {
   "cell_type": "code",
   "execution_count": 24,
   "metadata": {},
   "outputs": [
    {
     "name": "stdout",
     "output_type": "stream",
     "text": [
      "1.4437237978\n",
      "7.409\n",
      "0.001\n",
      "147.0\n",
      "148.99\n",
      "-17.99\n",
      "-16.0001\n"
     ]
    }
   ],
   "source": [
    "print np.mean(whpos)\n",
    "print max(whpos)\n",
    "print min (whpos)\n",
    "print  min(lon)\n",
    "print max(lon)\n",
    "print  min(lat)\n",
    "print max(lat)"
   ]
  },
  {
   "cell_type": "code",
   "execution_count": 23,
   "metadata": {},
   "outputs": [
    {
     "name": "stdout",
     "output_type": "stream",
     "text": [
      "147.0\n",
      "148.99\n",
      "-17.99\n",
      "-16.0001\n",
      "-17.0024\n",
      "147.8\n"
     ]
    }
   ],
   "source": [
    "print  min(lon)\n",
    "print max(lon)\n",
    "\n",
    "print  min(lat)\n",
    "print max(lat)\n",
    "\n",
    "print np.mean(lat)\n",
    "print np.mean(lon)"
   ]
  },
  {
   "cell_type": "code",
   "execution_count": null,
   "metadata": {
    "collapsed": true
   },
   "outputs": [],
   "source": []
  }
 ],
 "metadata": {
  "anaconda-cloud": {},
  "kernelspec": {
   "display_name": "Python 2",
   "language": "python",
   "name": "python2"
  },
  "language_info": {
   "codemirror_mode": {
    "name": "ipython",
    "version": 2
   },
   "file_extension": ".py",
   "mimetype": "text/x-python",
   "name": "python",
   "nbconvert_exporter": "python",
   "pygments_lexer": "ipython2",
   "version": "2.7.16"
  }
 },
 "nbformat": 4,
 "nbformat_minor": 1
}
