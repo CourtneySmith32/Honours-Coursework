{
 "cells": [
  {
   "cell_type": "code",
   "execution_count": 1,
   "metadata": {},
   "outputs": [
    {
     "name": "stderr",
     "output_type": "stream",
     "text": [
      "/Users/bgh2-ra/anaconda2/lib/python2.7/site-packages/dask/config.py:168: YAMLLoadWarning: calling yaml.load() without Loader=... is deprecated, as the default Loader is unsafe. Please read https://msg.pyyaml.org/load for full details.\n",
      "  data = yaml.load(f.read()) or {}\n",
      "/Users/bgh2-ra/anaconda2/lib/python2.7/site-packages/distributed/config.py:20: YAMLLoadWarning: calling yaml.load() without Loader=... is deprecated, as the default Loader is unsafe. Please read https://msg.pyyaml.org/load for full details.\n",
      "  defaults = yaml.load(f)\n"
     ]
    }
   ],
   "source": [
    "%matplotlib inline\n",
    "import numpy as np\n",
    "import matplotlib.tri as Tri\n",
    "import matplotlib.pyplot as plt\n",
    "#from mpl_toolkits.basemap import Basemap\n",
    "from netCDF4 import Dataset as NetCDFFile \n",
    "import netCDF4\n",
    "from netCDF4 import num2date, date2num, date2index\n",
    "import datetime as dt\n",
    "import pandas as pd\n",
    "from StringIO import StringIO\n",
    "import xarray as xr"
   ]
  },
  {
   "cell_type": "code",
   "execution_count": 28,
   "metadata": {},
   "outputs": [],
   "source": [
    "nameCSV = 'innisfail_file.csv'\n",
    "df = pd.read_csv(str(nameCSV), sep=r'\\s+', engine='c', header=0, na_filter=False, \\\n",
    "                               dtype=np.float, low_memory=False)\n",
    "\n",
    "data = df.sort_values(by=['tt'])\n",
    "\n",
    "lat = data.values[:,0]\n",
    "lon = data.values[:,1]\n",
    "wh = data.values[:,2]\n",
    "tt = data.values[:,3]\n",
    "qc = data.values[:,4]"
   ]
  },
  {
   "cell_type": "code",
   "execution_count": 77,
   "metadata": {},
   "outputs": [
    {
     "data": {
      "text/plain": [
       "array([datetime.datetime(1985, 3, 31, 8, 13, 20, 375002),\n",
       "       datetime.datetime(1985, 3, 31, 8, 13, 21, 351561),\n",
       "       datetime.datetime(1985, 3, 31, 8, 13, 22, 335935),\n",
       "       datetime.datetime(1985, 3, 31, 8, 13, 23, 312504),\n",
       "       datetime.datetime(1985, 3, 31, 8, 13, 24, 296878),\n",
       "       datetime.datetime(1985, 3, 31, 8, 13, 25, 273437),\n",
       "       datetime.datetime(1985, 3, 31, 8, 13, 26, 257811),\n",
       "       datetime.datetime(1985, 3, 31, 8, 13, 27, 234380),\n",
       "       datetime.datetime(1985, 3, 31, 8, 13, 31, 156245),\n",
       "       datetime.datetime(1985, 3, 31, 8, 13, 32, 132814),\n",
       "       datetime.datetime(1985, 3, 31, 8, 13, 33, 117188),\n",
       "       datetime.datetime(1985, 3, 31, 8, 13, 34, 93747),\n",
       "       datetime.datetime(1985, 3, 31, 8, 13, 35, 70316),\n",
       "       datetime.datetime(1985, 3, 31, 8, 13, 36, 54690),\n",
       "       datetime.datetime(1985, 3, 31, 8, 13, 37, 31249),\n",
       "       datetime.datetime(1985, 3, 31, 8, 13, 38, 15623),\n",
       "       datetime.datetime(1985, 3, 31, 8, 13, 38, 992192),\n",
       "       datetime.datetime(1985, 3, 31, 8, 13, 39, 976566),\n",
       "       datetime.datetime(1985, 3, 31, 8, 13, 40, 953124),\n",
       "       datetime.datetime(1985, 3, 31, 8, 13, 41, 929683),\n",
       "       datetime.datetime(1985, 3, 31, 8, 13, 42, 914067),\n",
       "       datetime.datetime(1985, 3, 31, 8, 13, 43, 890626),\n",
       "       datetime.datetime(1985, 3, 31, 8, 13, 44, 875000),\n",
       "       datetime.datetime(1985, 3, 31, 8, 13, 45, 851559),\n",
       "       datetime.datetime(1985, 3, 31, 8, 13, 46, 835933),\n",
       "       datetime.datetime(1985, 3, 31, 8, 13, 47, 812502),\n",
       "       datetime.datetime(1985, 3, 31, 8, 13, 48, 789061),\n",
       "       datetime.datetime(1985, 3, 31, 8, 13, 49, 773435),\n",
       "       datetime.datetime(1985, 3, 31, 8, 13, 50, 750003),\n",
       "       datetime.datetime(1985, 3, 31, 8, 13, 51, 734378),\n",
       "       datetime.datetime(1985, 3, 31, 8, 13, 52, 710936),\n",
       "       datetime.datetime(1985, 3, 31, 8, 13, 53, 695310),\n",
       "       datetime.datetime(1985, 3, 31, 8, 13, 54, 671879),\n",
       "       datetime.datetime(1985, 4, 3, 8, 22, 16, 453125),\n",
       "       datetime.datetime(1985, 4, 3, 8, 22, 17, 429683),\n",
       "       datetime.datetime(1985, 4, 3, 8, 22, 18, 414067),\n",
       "       datetime.datetime(1985, 4, 3, 8, 22, 19, 390626),\n",
       "       datetime.datetime(1985, 4, 3, 8, 22, 20, 367185),\n",
       "       datetime.datetime(1985, 4, 3, 8, 22, 21, 351559),\n",
       "       datetime.datetime(1985, 4, 3, 8, 22, 22, 328128),\n",
       "       datetime.datetime(1985, 4, 3, 8, 22, 23, 312502),\n",
       "       datetime.datetime(1985, 4, 3, 8, 22, 24, 289061),\n",
       "       datetime.datetime(1985, 4, 3, 8, 22, 25, 273435),\n",
       "       datetime.datetime(1985, 4, 3, 8, 22, 26, 250004),\n",
       "       datetime.datetime(1985, 4, 3, 8, 22, 27, 226562),\n",
       "       datetime.datetime(1985, 4, 3, 8, 22, 28, 210936),\n",
       "       datetime.datetime(1985, 4, 3, 8, 22, 29, 187495),\n",
       "       datetime.datetime(1985, 4, 3, 8, 22, 30, 171879),\n",
       "       datetime.datetime(1985, 4, 3, 8, 22, 31, 148438),\n",
       "       datetime.datetime(1985, 4, 3, 8, 22, 33, 109371),\n",
       "       datetime.datetime(1985, 4, 5, 21, 26, 14, 31253),\n",
       "       datetime.datetime(1985, 4, 5, 21, 26, 15, 15627),\n",
       "       datetime.datetime(1985, 4, 5, 21, 26, 16, 1),\n",
       "       datetime.datetime(1985, 4, 5, 21, 26, 16, 968755),\n",
       "       datetime.datetime(1985, 4, 8, 21, 34, 49, 531253),\n",
       "       datetime.datetime(1985, 4, 8, 21, 34, 50, 515627),\n",
       "       datetime.datetime(1985, 4, 8, 21, 34, 51, 500001),\n",
       "       datetime.datetime(1985, 4, 8, 21, 34, 56, 390621),\n",
       "       datetime.datetime(1985, 4, 8, 21, 34, 57, 375005),\n",
       "       datetime.datetime(1985, 4, 8, 21, 34, 58, 359379),\n",
       "       datetime.datetime(1985, 4, 8, 21, 34, 59, 328122),\n",
       "       datetime.datetime(1985, 4, 8, 21, 35, 0, 312496),\n",
       "       datetime.datetime(1985, 4, 8, 21, 35, 1, 296870),\n",
       "       datetime.datetime(1985, 4, 8, 21, 35, 2, 265624),\n",
       "       datetime.datetime(1985, 4, 8, 21, 35, 4, 234372),\n",
       "       datetime.datetime(1985, 4, 8, 21, 35, 5, 218746),\n",
       "       datetime.datetime(1985, 4, 8, 21, 35, 6, 187500),\n",
       "       datetime.datetime(1985, 4, 8, 21, 35, 7, 171874),\n",
       "       datetime.datetime(1985, 4, 8, 21, 35, 8, 156248),\n",
       "       datetime.datetime(1985, 4, 8, 21, 35, 9, 125001),\n",
       "       datetime.datetime(1985, 4, 8, 21, 35, 10, 109375),\n",
       "       datetime.datetime(1985, 4, 8, 21, 35, 11, 93749),\n",
       "       datetime.datetime(1985, 4, 8, 21, 35, 12, 78124),\n",
       "       datetime.datetime(1985, 4, 8, 21, 35, 13, 46877),\n",
       "       datetime.datetime(1985, 4, 8, 21, 35, 14, 31251),\n",
       "       datetime.datetime(1985, 4, 8, 21, 35, 22, 843746),\n",
       "       datetime.datetime(1985, 4, 8, 21, 35, 23, 828120),\n",
       "       datetime.datetime(1985, 4, 11, 21, 43, 47, 562503),\n",
       "       datetime.datetime(1985, 4, 11, 21, 43, 48, 546877),\n",
       "       datetime.datetime(1985, 4, 11, 21, 43, 49, 531251),\n",
       "       datetime.datetime(1985, 4, 11, 21, 43, 50, 515625),\n",
       "       datetime.datetime(1985, 4, 11, 21, 43, 51, 484379),\n",
       "       datetime.datetime(1985, 4, 11, 21, 43, 52, 468753),\n",
       "       datetime.datetime(1985, 4, 11, 21, 43, 53, 453127),\n",
       "       datetime.datetime(1985, 4, 11, 21, 43, 54, 421870),\n",
       "       datetime.datetime(1985, 4, 11, 21, 43, 55, 406255),\n",
       "       datetime.datetime(1985, 4, 11, 21, 43, 56, 390629),\n",
       "       datetime.datetime(1985, 4, 11, 21, 43, 57, 375003),\n",
       "       datetime.datetime(1985, 4, 11, 21, 43, 58, 343746),\n",
       "       datetime.datetime(1985, 4, 11, 21, 43, 59, 328120),\n",
       "       datetime.datetime(1985, 4, 11, 21, 44, 0, 312504),\n",
       "       datetime.datetime(1985, 4, 11, 21, 44, 1, 281248),\n",
       "       datetime.datetime(1985, 4, 11, 21, 44, 2, 265622),\n",
       "       datetime.datetime(1985, 4, 23, 9, 53, 9, 546872),\n",
       "       datetime.datetime(1985, 4, 23, 9, 53, 10, 531246),\n",
       "       datetime.datetime(1985, 4, 23, 9, 53, 11, 507815),\n",
       "       datetime.datetime(1985, 4, 23, 9, 53, 12, 484374),\n",
       "       datetime.datetime(1985, 4, 23, 9, 53, 14, 445316),\n",
       "       datetime.datetime(1985, 4, 23, 9, 53, 15, 429691),\n",
       "       datetime.datetime(1985, 4, 23, 9, 53, 16, 406249),\n",
       "       datetime.datetime(1985, 4, 23, 9, 53, 17, 390623),\n",
       "       datetime.datetime(1985, 4, 23, 9, 53, 18, 367192),\n",
       "       datetime.datetime(1985, 4, 23, 9, 53, 19, 343751),\n",
       "       datetime.datetime(1985, 4, 23, 9, 53, 20, 328125),\n",
       "       datetime.datetime(1985, 4, 23, 9, 53, 21, 304684),\n",
       "       datetime.datetime(1985, 4, 23, 9, 53, 22, 289058),\n",
       "       datetime.datetime(1985, 4, 23, 9, 53, 23, 265627),\n",
       "       datetime.datetime(1985, 4, 23, 9, 53, 24, 250001),\n",
       "       datetime.datetime(1985, 4, 23, 9, 53, 25, 226560),\n",
       "       datetime.datetime(1985, 4, 23, 9, 53, 26, 203128),\n",
       "       datetime.datetime(1985, 4, 23, 9, 53, 27, 187502),\n",
       "       datetime.datetime(1985, 4, 23, 9, 53, 28, 164061),\n",
       "       datetime.datetime(1985, 4, 23, 9, 53, 29, 148435),\n",
       "       datetime.datetime(1985, 4, 23, 9, 53, 30, 125004),\n",
       "       datetime.datetime(1985, 4, 23, 9, 53, 31, 109378),\n",
       "       datetime.datetime(1985, 4, 26, 10, 1, 47, 984374),\n",
       "       datetime.datetime(1985, 4, 26, 10, 1, 48, 960932),\n",
       "       datetime.datetime(1985, 4, 26, 10, 1, 49, 945317),\n",
       "       datetime.datetime(1985, 4, 26, 10, 1, 50, 921875),\n",
       "       datetime.datetime(1985, 4, 26, 10, 1, 51, 906249),\n",
       "       datetime.datetime(1985, 4, 26, 10, 1, 52, 882808),\n",
       "       datetime.datetime(1985, 4, 26, 10, 1, 53, 867192),\n",
       "       datetime.datetime(1985, 4, 26, 10, 1, 54, 843751),\n",
       "       datetime.datetime(1985, 4, 26, 10, 1, 55, 820310),\n",
       "       datetime.datetime(1985, 4, 26, 10, 1, 56, 804684),\n",
       "       datetime.datetime(1985, 4, 26, 10, 1, 57, 781253),\n",
       "       datetime.datetime(1985, 4, 26, 10, 2, 2, 679687),\n",
       "       datetime.datetime(1985, 4, 26, 10, 2, 3, 664061),\n",
       "       datetime.datetime(1985, 4, 26, 10, 2, 4, 640620),\n",
       "       datetime.datetime(1985, 4, 26, 10, 2, 5, 625004),\n",
       "       datetime.datetime(1985, 4, 26, 10, 2, 6, 601563),\n",
       "       datetime.datetime(1985, 4, 26, 10, 2, 7, 585937),\n",
       "       datetime.datetime(1985, 4, 26, 10, 2, 8, 562496),\n",
       "       datetime.datetime(1985, 4, 26, 10, 2, 9, 539065),\n",
       "       datetime.datetime(1985, 4, 26, 10, 2, 10, 523439),\n",
       "       datetime.datetime(1985, 4, 26, 10, 2, 11, 499998),\n",
       "       datetime.datetime(1985, 4, 26, 10, 2, 12, 484372),\n",
       "       datetime.datetime(1985, 4, 26, 10, 2, 13, 460940),\n",
       "       datetime.datetime(1985, 4, 26, 10, 2, 14, 445314),\n",
       "       datetime.datetime(1985, 4, 26, 10, 2, 15, 421873),\n",
       "       datetime.datetime(1985, 4, 26, 10, 2, 16, 398442),\n",
       "       datetime.datetime(1985, 4, 26, 10, 2, 17, 382816),\n",
       "       datetime.datetime(1985, 4, 26, 10, 2, 18, 359375),\n",
       "       datetime.datetime(1985, 4, 26, 10, 2, 19, 343749),\n",
       "       datetime.datetime(1985, 4, 26, 10, 2, 20, 320308),\n",
       "       datetime.datetime(1985, 4, 26, 10, 2, 21, 304692),\n",
       "       datetime.datetime(1985, 4, 26, 10, 2, 22, 281251),\n",
       "       datetime.datetime(1985, 5, 16, 11, 33, 12, 335938),\n",
       "       datetime.datetime(1985, 5, 16, 11, 33, 13, 320312),\n",
       "       datetime.datetime(1985, 5, 16, 11, 33, 14, 296871),\n",
       "       datetime.datetime(1985, 5, 16, 11, 33, 15, 281255),\n",
       "       datetime.datetime(1985, 5, 16, 11, 33, 16, 257814),\n",
       "       datetime.datetime(1985, 6, 23, 2, 51, 53, 314448),\n",
       "       datetime.datetime(1985, 6, 23, 2, 51, 54, 294920),\n",
       "       datetime.datetime(1985, 6, 23, 2, 51, 55, 275391),\n",
       "       datetime.datetime(1985, 6, 23, 2, 51, 56, 253901),\n",
       "       datetime.datetime(1985, 6, 23, 2, 51, 57, 234373),\n",
       "       datetime.datetime(1985, 6, 23, 2, 51, 58, 214844),\n",
       "       datetime.datetime(1985, 6, 23, 2, 51, 59, 195316),\n",
       "       datetime.datetime(1985, 6, 23, 2, 52, 0, 173826),\n",
       "       datetime.datetime(1985, 6, 23, 2, 52, 1, 154297),\n",
       "       datetime.datetime(1985, 6, 23, 2, 52, 2, 134769),\n",
       "       datetime.datetime(1985, 6, 23, 2, 52, 3, 113279),\n",
       "       datetime.datetime(1985, 6, 23, 2, 52, 4, 93750),\n",
       "       datetime.datetime(1985, 6, 23, 2, 52, 5, 74222),\n",
       "       datetime.datetime(1985, 6, 23, 2, 52, 6, 54683),\n",
       "       datetime.datetime(1985, 6, 23, 2, 52, 7, 33203),\n",
       "       datetime.datetime(1985, 6, 23, 2, 52, 8, 13675),\n",
       "       datetime.datetime(1985, 6, 23, 2, 52, 8, 994136),\n",
       "       datetime.datetime(1985, 6, 23, 2, 52, 9, 972656),\n",
       "       datetime.datetime(1985, 6, 23, 2, 52, 10, 953128),\n",
       "       datetime.datetime(1985, 6, 23, 2, 52, 11, 933589),\n",
       "       datetime.datetime(1985, 7, 30, 16, 49, 25, 31249),\n",
       "       datetime.datetime(1985, 7, 30, 16, 49, 26, 15623),\n",
       "       datetime.datetime(1985, 7, 30, 16, 49, 26, 999997),\n",
       "       datetime.datetime(1985, 7, 30, 16, 49, 27, 968750),\n",
       "       datetime.datetime(1985, 7, 30, 16, 49, 28, 953124),\n",
       "       datetime.datetime(1985, 7, 30, 16, 49, 29, 937498),\n",
       "       datetime.datetime(1985, 7, 30, 16, 49, 30, 921873),\n",
       "       datetime.datetime(1985, 7, 30, 16, 49, 32, 875000),\n",
       "       datetime.datetime(1985, 7, 30, 16, 49, 33, 859374),\n",
       "       datetime.datetime(1985, 7, 30, 16, 49, 34, 828128),\n",
       "       datetime.datetime(1985, 7, 30, 16, 49, 36, 796876),\n",
       "       datetime.datetime(1985, 7, 30, 16, 49, 37, 781250),\n",
       "       datetime.datetime(1985, 7, 30, 16, 49, 38, 750004),\n",
       "       datetime.datetime(1985, 8, 19, 18, 20, 5, 281252),\n",
       "       datetime.datetime(1985, 8, 19, 18, 20, 6, 265626),\n",
       "       datetime.datetime(1985, 8, 19, 18, 20, 7, 250000),\n",
       "       datetime.datetime(1985, 8, 19, 18, 20, 8, 234374),\n",
       "       datetime.datetime(1985, 8, 19, 18, 20, 10, 187501),\n",
       "       datetime.datetime(1985, 8, 19, 18, 20, 11, 171876),\n",
       "       datetime.datetime(1985, 8, 19, 18, 20, 12, 140629),\n",
       "       datetime.datetime(1985, 8, 19, 18, 20, 13, 125003),\n",
       "       datetime.datetime(1985, 8, 19, 18, 20, 14, 109377),\n",
       "       datetime.datetime(1985, 8, 19, 18, 20, 15, 93751),\n",
       "       datetime.datetime(1985, 8, 19, 18, 20, 16, 62505),\n",
       "       datetime.datetime(1985, 8, 19, 18, 20, 17, 46879),\n",
       "       datetime.datetime(1985, 8, 22, 18, 28, 41, 765626),\n",
       "       datetime.datetime(1985, 8, 22, 18, 28, 42, 750000),\n",
       "       datetime.datetime(1985, 8, 22, 18, 28, 43, 718753)], dtype=object)"
      ]
     },
     "execution_count": 77,
     "metadata": {},
     "output_type": "execute_result"
    }
   ],
   "source": [
    "netCDF4.num2date(tt[0:200],u'days since 1985-01-01 00:00:00 UTC')"
   ]
  },
  {
   "cell_type": "code",
   "execution_count": null,
   "metadata": {},
   "outputs": [],
   "source": [
    "139403/20"
   ]
  },
  {
   "cell_type": "code",
   "execution_count": 3,
   "metadata": {
    "scrolled": true
   },
   "outputs": [
    {
     "data": {
      "text/plain": [
       "139403"
      ]
     },
     "execution_count": 3,
     "metadata": {},
     "output_type": "execute_result"
    }
   ],
   "source": [
    "len(tt)"
   ]
  },
  {
   "cell_type": "code",
   "execution_count": 47,
   "metadata": {},
   "outputs": [
    {
     "name": "stdout",
     "output_type": "stream",
     "text": [
      "12.359000205993652 2013-05-18 20:21:41.500005\n",
      "12.40000057220459 2014-04-12 14:16:28.109379\n",
      "12.688000679016113 2014-04-12 14:16:35.249996\n",
      "12.646000862121582 2017-01-14 11:20:25.585933\n",
      "12.178000450134276 2018-02-16 21:52:04.000004\n",
      "12.976000785827635 2018-02-16 21:52:07.765624\n"
     ]
    }
   ],
   "source": [
    "#TEST TO SEE ALL HIGH VALUES\n",
    "idd = np.where(np.logical_and(wh>12, wh<13))[0]\n",
    "\n",
    "for k in range(len(idd)):\n",
    "    print wh[idd[k]], netCDF4.num2date(tt[idd[k]],u'days since 1985-01-01 00:00:00 UTC')"
   ]
  },
  {
   "cell_type": "code",
   "execution_count": 10,
   "metadata": {
    "scrolled": true
   },
   "outputs": [
    {
     "name": "stdout",
     "output_type": "stream",
     "text": [
      "2016-10-17 05:33:22.656250 1.0600000619888306\n",
      "2019-02-20 12:17:03.000003\n"
     ]
    }
   ],
   "source": [
    "tt1 = netCDF4.num2date(tt,u'days since 1985-01-01 00:00:00 UTC')\n",
    "print tt1[0], wh[0]\n",
    "print netCDF4.num2date(max(tt),u'days since 1985-01-01 00:00:00 UTC')"
   ]
  },
  {
   "cell_type": "code",
   "execution_count": 33,
   "metadata": {},
   "outputs": [],
   "source": [
    "#MAKE MEAN SATELLITE TRACK. DOESNT SEEM TO WORK??\n",
    "days = [] #daystart\n",
    "for k in range(len(tt)):\n",
    "       \n",
    "    t1 = netCDF4.num2date(tt[k],u'days since 1985-01-01 00:00:00 UTC')\n",
    "    if k == 0: #get day 0. Then else: every day after that\n",
    "        days.append(0)\n",
    "        dd = netCDF4.num2date(tt[k],u'days since 1985-01-01 00:00:00 UTC')\n",
    "        it = 0\n",
    "    else:\n",
    "        if t1.day != dd.day: #if day 1 is not equal to day 2, then append\n",
    "            #print dd.day,t1.day\n",
    "            days.append(k)\n",
    "            it += 1\n",
    "            dd = netCDF4.num2date(tt[k],u'days since 1985-01-01 00:00:00 UTC')"
   ]
  },
  {
   "cell_type": "code",
   "execution_count": 72,
   "metadata": {},
   "outputs": [
    {
     "name": "stdout",
     "output_type": "stream",
     "text": [
      "1985-03-31 08:13:20.375002\n",
      "1.4414013196123379 mean from each satellite track\n",
      "1.4463256999402663 mean from each record\n",
      "139403 number of records\n",
      "3761 number of satellite tracks\n"
     ]
    }
   ],
   "source": [
    "print netCDF4.num2date(tt[days[0]],u'days since 1985-01-01 00:00:00 UTC')#same as first record\n",
    "\n",
    "# meanwh is the mean wh of each day (satellite track)\n",
    "meanwh = []\n",
    "\n",
    "for k in range(len(days)-1):\n",
    "    meanwh.append(np.mean(wh[days[k]:days[k+1]])) \n",
    "    \n",
    "print np.mean(meanwh), 'mean from each satellite track'\n",
    "print np.mean(wh), 'mean from each record'\n",
    "print len(wh), 'number of records'\n",
    "print len(meanwh), 'number of satellite tracks'\n",
    "\n",
    "#slightly different mean wh depending on if done by day, or individual records (each second)"
   ]
  },
  {
   "cell_type": "code",
   "execution_count": 70,
   "metadata": {},
   "outputs": [
    {
     "data": {
      "text/plain": [
       "array([real_datetime(1985, 1, 1, 0, 0), real_datetime(1985, 2, 3, 0, 0),\n",
       "       real_datetime(1985, 2, 20, 0, 0), ...,\n",
       "       real_datetime(2366, 1, 16, 0, 0), real_datetime(2366, 3, 9, 0, 0),\n",
       "       real_datetime(2366, 5, 23, 0, 0)], dtype=object)"
      ]
     },
     "execution_count": 70,
     "metadata": {},
     "output_type": "execute_result"
    }
   ],
   "source": [
    "netCDF4.num2date(days,u'days since 1985-01-01 00:00:00 UTC')"
   ]
  },
  {
   "cell_type": "code",
   "execution_count": 75,
   "metadata": {},
   "outputs": [
    {
     "data": {
      "text/plain": [
       "6970"
      ]
     },
     "execution_count": 75,
     "metadata": {},
     "output_type": "execute_result"
    }
   ],
   "source": [
    "139403/20"
   ]
  },
  {
   "cell_type": "code",
   "execution_count": null,
   "metadata": {},
   "outputs": [],
   "source": []
  },
  {
   "cell_type": "code",
   "execution_count": null,
   "metadata": {},
   "outputs": [],
   "source": []
  },
  {
   "cell_type": "code",
   "execution_count": null,
   "metadata": {},
   "outputs": [],
   "source": []
  },
  {
   "cell_type": "code",
   "execution_count": null,
   "metadata": {},
   "outputs": [],
   "source": []
  },
  {
   "cell_type": "code",
   "execution_count": null,
   "metadata": {},
   "outputs": [],
   "source": []
  },
  {
   "cell_type": "code",
   "execution_count": null,
   "metadata": {},
   "outputs": [],
   "source": []
  },
  {
   "cell_type": "code",
   "execution_count": null,
   "metadata": {},
   "outputs": [],
   "source": []
  },
  {
   "cell_type": "code",
   "execution_count": null,
   "metadata": {},
   "outputs": [],
   "source": []
  },
  {
   "cell_type": "code",
   "execution_count": null,
   "metadata": {},
   "outputs": [],
   "source": []
  },
  {
   "cell_type": "code",
   "execution_count": 49,
   "metadata": {},
   "outputs": [
    {
     "name": "stdout",
     "output_type": "stream",
     "text": [
      "24.345001220703125\n",
      "0.0\n",
      "139403\n",
      "3762\n",
      "1.5149176677001728\n"
     ]
    }
   ],
   "source": [
    "#why does this give me different mean wh value?\n",
    "\n",
    "wh_ = wh[days]\n",
    "qc_ = qc[days]\n",
    "lon_ = lon[days]\n",
    "tt_ = tt[days]\n",
    "lat_ = lat[days]\n",
    "\n",
    "print max(wh_)\n",
    "print min(wh_)\n",
    "print len(tt)\n",
    "print len(days)\n",
    "print np.mean(wh_)"
   ]
  },
  {
   "cell_type": "code",
   "execution_count": 54,
   "metadata": {},
   "outputs": [],
   "source": [
    "#for k in range(len(days)):\n",
    "#    if wh_[k]>5:\n",
    "#        print wh_[k], netCDF4.num2date(tt_[k],u'days since 1985-01-01 00:00:00 UTC')"
   ]
  },
  {
   "cell_type": "code",
   "execution_count": null,
   "metadata": {},
   "outputs": [],
   "source": []
  },
  {
   "cell_type": "code",
   "execution_count": null,
   "metadata": {},
   "outputs": [],
   "source": []
  },
  {
   "cell_type": "code",
   "execution_count": null,
   "metadata": {},
   "outputs": [],
   "source": []
  },
  {
   "cell_type": "code",
   "execution_count": null,
   "metadata": {},
   "outputs": [],
   "source": []
  },
  {
   "cell_type": "code",
   "execution_count": null,
   "metadata": {},
   "outputs": [],
   "source": []
  },
  {
   "cell_type": "code",
   "execution_count": 50,
   "metadata": {},
   "outputs": [
    {
     "name": "stdout",
     "output_type": "stream",
     "text": [
      "13.909000396728516 2010-11-03 09:53:04.562499\n",
      "24.345001220703125 2013-02-18 14:34:14.718752\n",
      "7.449000358581543 2018-02-04 20:13:31.281250\n",
      "22.916000366210934 2019-02-14 20:13:04.171871\n",
      "20.75900077819824 2019-02-17 07:54:21.453127\n"
     ]
    }
   ],
   "source": [
    "#This should be average per track, wh above 7.\n",
    "\n",
    "for k in range(len(wh_)):\n",
    "    if wh_[k]>7:\n",
    "        print wh_[k], netCDF4.num2date(tt_[k],u'days since 1985-01-01 00:00:00 UTC')"
   ]
  },
  {
   "cell_type": "code",
   "execution_count": 51,
   "metadata": {},
   "outputs": [],
   "source": [
    "daywh = [] #daystart\n",
    "for k in range(len(tt)):\n",
    "    if wh[k]<10:\n",
    "        t1 = netCDF4.num2date(tt[k],u'days since 1985-01-01 00:00:00 UTC')\n",
    "        if k == 0: #get day 0. Then else: every day after that\n",
    "            daywh.append(0)\n",
    "            dd = netCDF4.num2date(tt[k],u'days since 1985-01-01 00:00:00 UTC')\n",
    "            it = 0\n",
    "        else:\n",
    "            if t1.day != dd.day: #if day 1 is not equal to day 2, then append\n",
    "                #print dd.day,t1.day\n",
    "                daywh.append(k)\n",
    "                it += 1\n",
    "                dd = netCDF4.num2date(tt[k],u'days since 1985-01-01 00:00:00 UTC')"
   ]
  },
  {
   "cell_type": "code",
   "execution_count": 52,
   "metadata": {},
   "outputs": [
    {
     "data": {
      "text/plain": [
       "3760"
      ]
     },
     "execution_count": 52,
     "metadata": {},
     "output_type": "execute_result"
    }
   ],
   "source": [
    "len(daywh)"
   ]
  },
  {
   "cell_type": "code",
   "execution_count": 53,
   "metadata": {},
   "outputs": [
    {
     "name": "stdout",
     "output_type": "stream",
     "text": [
      "7.449000358581543\n",
      "0.0\n",
      "3760\n",
      "1.4956971444788965\n"
     ]
    }
   ],
   "source": [
    "wh2 = wh[daywh]\n",
    "qc2 = qc[daywh]\n",
    "lon2 = lon[daywh]\n",
    "tt2 = tt[daywh]\n",
    "lat2 = lat[daywh]\n",
    "\n",
    "print max(wh2)\n",
    "print min(wh2)\n",
    "print len(tt2)\n",
    "print np.mean(wh2)"
   ]
  },
  {
   "cell_type": "code",
   "execution_count": null,
   "metadata": {},
   "outputs": [],
   "source": [
    "for k in range(len(wh2)):\n",
    "    if wh2[k]>7:\n",
    "        print wh2[k], netCDF4.num2date(tt2[k],u'days since 1985-01-01 00:00:00 UTC')"
   ]
  },
  {
   "cell_type": "code",
   "execution_count": null,
   "metadata": {},
   "outputs": [],
   "source": [
    "netCDF4.num2date(12087.8427231626124,u'days since 1985-01-01 00:00:00 UTC')"
   ]
  },
  {
   "cell_type": "code",
   "execution_count": null,
   "metadata": {},
   "outputs": [],
   "source": [
    "print np.mean(wh2), 'mean'\n",
    "print max(wh2), 'max'\n",
    "print min(wh2), 'min'"
   ]
  },
  {
   "cell_type": "code",
   "execution_count": null,
   "metadata": {},
   "outputs": [],
   "source": []
  },
  {
   "cell_type": "code",
   "execution_count": null,
   "metadata": {},
   "outputs": [],
   "source": [
    " for p in range(len(timing)):\n",
    "            #print(u,' - ',k,'/',len(urlON),' - ',p,'/',len(timing))\n",
    "            if timing[p] >= start_date and timing[p] <= end_date:\n",
    "                if lats[p]>latmin and lats[p]<latmax and lons[p]>lonmin and lons[p]<lonmax:\n",
    "                    if np.where(np.logical_and(0<wh[p]<10,qc[p]==1)):\n",
    "                        boxLat.append(lats[p])"
   ]
  }
 ],
 "metadata": {
  "kernelspec": {
   "display_name": "Python 2",
   "language": "python",
   "name": "python2"
  },
  "language_info": {
   "codemirror_mode": {
    "name": "ipython",
    "version": 2
   },
   "file_extension": ".py",
   "mimetype": "text/x-python",
   "name": "python",
   "nbconvert_exporter": "python",
   "pygments_lexer": "ipython2",
   "version": "2.7.16"
  }
 },
 "nbformat": 4,
 "nbformat_minor": 2
}
