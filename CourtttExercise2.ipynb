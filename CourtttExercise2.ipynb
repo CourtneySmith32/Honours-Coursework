{
 "cells": [
  {
   "cell_type": "markdown",
   "metadata": {},
   "source": [
    "## Exercise 2\n",
    "\n",
    "In the `FiniteDifferences` notebook we considered the differential equation controlling heat flow which relates the rate of change in $T$, the temperature, to spatial gradients in the same quantity. \n",
    "\n",
    "$$\n",
    "\\frac{\\partial T}{\\partial t} = \\kappa \\frac{\\partial^2 T}{\\partial x^2} + H\n",
    "$$\n",
    "       \n",
    "       \n",
    "We ignored $H$ and solved a number of examples. \n",
    "\n",
    "At the end of the notebook we looked at the time-varying solution of the heat equation using an explicit finite difference approximation. Given all the trouble we went to setting this up, don't you think it would be a good idea to see if we can iterate until we reach the steady-state solution?\n",
    "\n",
    "This is not very complicated to do so I would like you to try it __for the case where $\\kappa$ is constant__.\n",
    "\n",
    "You can copy and paste the cells from the `FiniteDifferences` here to get started."
   ]
  },
  {
   "cell_type": "markdown",
   "metadata": {},
   "source": [
    "## Hints\n",
    "\n",
    "You have most of the code you need. The `np.gradient` function will still be useful ... in fact you really only have to put everything in a `for` loop and enforce the boundary conditions.\n"
   ]
  },
  {
   "cell_type": "code",
   "execution_count": 8,
   "metadata": {},
   "outputs": [
    {
     "name": "stdout",
     "output_type": "stream",
     "text": [
      "Populating the interactive namespace from numpy and matplotlib\n"
     ]
    }
   ],
   "source": [
    "import numpy as np\n",
    "import matplotlib.pyplot as plt\n",
    "%pylab inline\n"
   ]
  },
  {
   "cell_type": "code",
   "execution_count": 10,
   "metadata": {},
   "outputs": [
    {
     "name": "stdout",
     "output_type": "stream",
     "text": [
      "[[1. 0. 0. ... 0. 0. 0.]\n",
      " [0. 1. 0. ... 0. 0. 0.]\n",
      " [0. 0. 1. ... 0. 0. 0.]\n",
      " ...\n",
      " [0. 0. 0. ... 1. 0. 0.]\n",
      " [0. 0. 0. ... 0. 1. 0.]\n",
      " [0. 0. 0. ... 0. 0. 1.]]\n"
     ]
    }
   ],
   "source": [
    "nx, ny = 27, 25 # No more than nx=100, ny=100. 27 columns, 25 rows\n",
    "nodes = np.arange(nx*ny).reshape(ny,nx)\n",
    "dx, dy = 1., 1. #spacing of 1 for each dimension\n",
    "\n",
    "# Create matrix structures\n",
    "A_matrix = np.zeros((nx*ny,nx*ny)) # want it to be the size of mesh* size of mesh in a square matrix\n",
    "b_matrix = np.zeros(nx*ny)\n",
    "\n",
    "# field variables\n",
    "H = 2e-6\n",
    "k = 3.0\n",
    "\n",
    "# boundary conditions (constant temperature)\n",
    "topBC = 300.0\n",
    "bottomBC = 800.0\n",
    "leftBC = 500.0\n",
    "rightBC = 500.0\n",
    "\n",
    "# boundary nodes\n",
    "top_nodes = nodes[0,:] #first row\n",
    "bottom_nodes = nodes[-1,:] #bottom row\n",
    "left_nodes = nodes[1:-1,0] #left column\n",
    "right_nodes = nodes[1:-1,-1] #right olumn\n",
    "\n",
    "for idx in top_nodes: #enforcing boundary conditions for each wall. in matrix a, assigning a 1 everywhere there is a boundary condition\n",
    "    A_matrix[idx, idx] = 1.0\n",
    "    b_matrix[idx] = topBC\n",
    "for idx in bottom_nodes:\n",
    "    A_matrix[idx, idx] = 1.0\n",
    "    b_matrix[idx] = bottomBC\n",
    "for idx in left_nodes:\n",
    "    A_matrix[idx, idx] = 1.0\n",
    "    b_matrix[idx] = leftBC\n",
    "for idx in right_nodes:\n",
    "    A_matrix[idx, idx] = 1.0\n",
    "    b_matrix[idx] = rightBC\n",
    "\n",
    "bmask = np.zeros_like(nodes, dtype=bool)\n",
    "bmask[1:-1,1:-1] = True # these are nodes that do not intersect the boundary\n",
    "\n",
    "for idx in nodes[bmask]:\n",
    "    A_matrix[idx, idx-nx] = k/dy**2\n",
    "    A_matrix[idx, idx-1]  = k/dx**2\n",
    "    A_matrix[idx, idx]    = -2*k/dx**2 -2*k/dy**2\n",
    "    A_matrix[idx, idx+1]  = k/dx**2\n",
    "    A_matrix[idx, idx+nx] = k/dy**2\n",
    "    \n",
    "    b_matrix[idx] = -H\n",
    "\n",
    "print (A_matrix) #everywehre there is 1 means it is a boundary node"
   ]
  },
  {
   "cell_type": "code",
   "execution_count": 11,
   "metadata": {},
   "outputs": [
    {
     "data": {
      "image/png": "[encoded data removed]",
      "text/plain": [
       "<Figure size 720x288 with 2 Axes>"
      ]
     },
     "metadata": {
      "needs_background": "light"
     },
     "output_type": "display_data"
    }
   ],
   "source": [
    "temperature = np.linalg.solve(A_matrix, b_matrix) # solve x matrix\n",
    "\n",
    "fig = plt.figure(1, figsize=(10,4))\n",
    "ax1 = fig.add_subplot(111)\n",
    "\n",
    "im = ax1.imshow(temperature.reshape(ny,nx))\n",
    "ax1.set_title('Temperature (Kelvin)')\n",
    "ax1.contour(temperature.reshape(ny,nx)) # Lets plot some contours\n",
    "\n",
    "fig.colorbar(im)\n",
    "plt.show()"
   ]
  },
  {
   "cell_type": "code",
   "execution_count": 70,
   "metadata": {},
   "outputs": [
    {
     "data": {
      "text/plain": [
       "<matplotlib.image.AxesImage at 0x21a7a5d98d0>"
      ]
     },
     "execution_count": 70,
     "metadata": {},
     "output_type": "execute_result"
    },
    {
     "data": {
      "image/png": "[encoded data removed]",
      "text/plain": [
       "<Figure size 720x288 with 2 Axes>"
      ]
     },
     "metadata": {
      "needs_background": "light"
     },
     "output_type": "display_data"
    }
   ],
   "source": [
    "T = np.zeros((ny,nx))\n",
    "T_new = np.zeros((ny,nx))\n",
    "time = 0.0\n",
    "\n",
    "#for loop\n",
    "for i in range (0,500):\n",
    "    T_new[0,:] = 300\n",
    "    T_new[-1,:] = 800\n",
    "    \n",
    "    k = 1.0\n",
    "  \n",
    "    gradTx, gradTy = np.gradient(T_new, dx, dy)\n",
    "    flux_x = k*gradTx\n",
    "    flux_y = k*gradTy\n",
    "\n",
    "    gradTxx, gradTxy = np.gradient(flux_x, dx, dy)\n",
    "    gradTyx, gradTyy = np.gradient(flux_y, dx, dy)\n",
    "\n",
    "    divT = gradTxx + gradTyy\n",
    "    dt = (dx*dy)/k\n",
    "    time += dt +1\n",
    "\n",
    "    T_new = T + dt*divT\n",
    "    \n",
    "    \n",
    "    \n",
    "\n",
    "fig, (ax1, ax2) = plt.subplots(1,2, sharey=True, figsize=(10,4))\n",
    "ax1.imshow(T)\n",
    "ax2.imshow(T_new)\n"
   ]
  },
  {
   "cell_type": "code",
   "execution_count": null,
   "metadata": {},
   "outputs": [],
   "source": []
  },
  {
   "cell_type": "code",
   "execution_count": null,
   "metadata": {},
   "outputs": [],
   "source": []
  },
  {
   "cell_type": "markdown",
   "metadata": {},
   "source": [
    "We know that there is an instability in the code which occurs if the timestep is too large. Currently the timestep size is related to the size of the mesh and the diffusivity:\n",
    "\n",
    "$$\n",
    "\\Delta t = \\frac{\\Delta x \\Delta y}{\\kappa}\n",
    "$$\n",
    "\n",
    "\n",
    "What happens if you overwrite the timestep size, `dt`? What is the point where the solution begins to breakdown and you see wild oscillations? Is it pretty close to the above relation?"
   ]
  },
  {
   "cell_type": "code",
   "execution_count": 71,
   "metadata": {},
   "outputs": [
    {
     "data": {
      "text/plain": [
       "<matplotlib.image.AxesImage at 0x21a7a6fae80>"
      ]
     },
     "execution_count": 71,
     "metadata": {},
     "output_type": "execute_result"
    },
    {
     "data": {
      "image/png": "[encoded data removed]",
      "text/plain": [
       "<Figure size 576x576 with 4 Axes>"
      ]
     },
     "metadata": {
      "needs_background": "light"
     },
     "output_type": "display_data"
    }
   ],
   "source": [
    "T = np.zeros((ny,nx))\n",
    "# Initial conditions\n",
    "T[0,:] = 300.\n",
    "T[-1,:] = 800.\n",
    "\n",
    "k = 1.0\n",
    "\n",
    "# 1 timestep\n",
    "time = 0.0\n",
    "gradTx, gradTy = np.gradient(T, dx, dy)\n",
    "flux_x = k*gradTx\n",
    "flux_y = k*gradTy\n",
    "\n",
    "gradTxx, gradTxy = np.gradient(flux_x, dx, dy)\n",
    "gradTyx, gradTyy = np.gradient(flux_y, dx, dy)\n",
    "\n",
    "divT = gradTxx + gradTyy\n",
    "dt =(dx*dy)/k\n",
    "dt2 = 10 \n",
    "dt3 = 0.1\n",
    "time += dt\n",
    "\n",
    "T_new = T + dt*divT\n",
    "T_two = T + dt2*divT\n",
    "T_three = T + dt3*divT\n",
    "fig, axes = plt.subplots(ncols=2, nrows=2)\n",
    "ax1, ax2, ax3, ax4 = axes.ravel()\n",
    "fig.set_size_inches((8,8))\n",
    "\n",
    "#fig, (ax1, ax2, ax3) = plt.subplots(1,2, 3 sharey=True, figsize=(10,4))\n",
    "ax1.imshow(T)\n",
    "\n",
    "ax2.imshow(T_new)\n",
    "ax3.imshow(T_two)\n",
    "ax4.imshow(T_three)"
   ]
  },
  {
   "cell_type": "code",
   "execution_count": null,
   "metadata": {},
   "outputs": [],
   "source": []
  }
 ],
 "metadata": {
  "kernelspec": {
   "display_name": "Python 3",
   "language": "python",
   "name": "python3"
  },
  "language_info": {
   "codemirror_mode": {
    "name": "ipython",
    "version": 3
   },
   "file_extension": ".py",
   "mimetype": "text/x-python",
   "name": "python",
   "nbconvert_exporter": "python",
   "pygments_lexer": "ipython3",
   "version": "3.7.1"
  }
 },
 "nbformat": 4,
 "nbformat_minor": 2
}
