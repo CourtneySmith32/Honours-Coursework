{
 "cells": [
  {
   "cell_type": "code",
   "execution_count": 5,
   "metadata": {
    "collapsed": true
   },
   "outputs": [],
   "source": [
    "%matplotlib inline\n",
    "import numpy as np\n",
    "import matplotlib.tri as Tri\n",
    "import matplotlib.pyplot as plt\n",
    "from mpl_toolkits.basemap import Basemap\n",
    "from netCDF4 import Dataset as NetCDFFile \n",
    "import netCDF4\n",
    "import datetime as dt\n",
    "import pandas as pd\n",
    "from StringIO import StringIO"
   ]
  },
  {
   "cell_type": "code",
   "execution_count": 6,
   "metadata": {
    "collapsed": true
   },
   "outputs": [],
   "source": [
    "import re\n",
    "\n",
    "def extractURLsatellite(fileURL, satName):\n",
    "    \"\"\"\n",
    "    Function to extract the URLs for a specific satellite from the IMOS URLs list\n",
    "    \n",
    "    Parameters:\n",
    "    -----------\n",
    "    \n",
    "    - fileURL : IMOS URLs list as a txt file\n",
    "    - satName : name of the satellite such as JASON-2 JASON-3 \n",
    "    \n",
    "    Ouputs:\n",
    "    ------\n",
    "    \n",
    "    - getFiles : list of URLs for the desired satellite\n",
    "    \n",
    "    \"\"\"\n",
    "    \n",
    "    getFiles = []\n",
    "    \n",
    "    with open(fileURL) as f:\n",
    "        for line in f:\n",
    "            if re.search(r\"%s\"%satName, line):\n",
    "                changeURL = re.sub('http://data.aodn.org.au', 'http://thredds.aodn.org.au/thredds/dodsC', line)\n",
    "                getFiles.append(changeURL)\n",
    "                \n",
    "    return getFiles"
   ]
  },
  {
   "cell_type": "code",
   "execution_count": 7,
   "metadata": {
    "collapsed": true
   },
   "outputs": [],
   "source": [
    "jason2URL = extractURLsatellite( fileURL = 'IMOSURLs.txt', satName = 'JASON-2')\n",
    "\n",
    "jason3URL = extractURLsatellite( fileURL = 'IMOSURLs.txt', satName = 'JASON-3')\n",
    "\n",
    "saralURL = extractURLsatellite( fileURL = 'IMOSURLs.txt', satName = 'SARAL')\n",
    "\n",
    "sentinel3aURL = extractURLsatellite( fileURL = 'IMOSURLs.txt', satName = 'SENTINEL-3A')\n",
    "\n",
    "cryosat2URL = extractURLsatellite( fileURL = 'IMOSURLs.txt', satName = 'CRYOSAT-2')\n",
    "\n",
    "enviURL = extractURLsatellite(fileURL = 'IMOSURLs.txt', satName = 'ENVISAT')\n",
    "\n",
    "geosatURL = extractURLsatellite(fileURL = 'IMOSURLs.txt', satName = 'GEOSAT')\n",
    "\n",
    "ersURL = extractURLsatellite(fileURL = 'IMOSURLs.txt', satName = 'ERS-2')\n",
    "\n",
    "gfoURL = extractURLsatellite(fileURL = 'IMOSURLs.txt', satName = 'GFO')\n",
    "\n",
    "topURL = extractURLsatellite(fileURL = 'IMOSURLs.txt', satName = 'TOPEX')\n"
   ]
  },
  {
   "cell_type": "code",
   "execution_count": 8,
   "metadata": {
    "collapsed": false
   },
   "outputs": [],
   "source": [
    "#Hydrographers pretend coordinates\n",
    "\n",
    "latmin = -19.9\n",
    "latmax = -18\n",
    "lonmin = 150\n",
    "lonmax = 151.99\n",
    "\n",
    "if latmin>latmax:\n",
    "    print('Error wrong definition of min and max lat!!!')\n",
    "\n",
    "if lonmin>lonmax:\n",
    "    print('Error wrong definition of min and max lon!!!')\n"
   ]
  },
  {
   "cell_type": "code",
   "execution_count": 51,
   "metadata": {
    "collapsed": false
   },
   "outputs": [
    {
     "name": "stdout",
     "output_type": "stream",
     "text": [
      "1\n"
     ]
    }
   ],
   "source": [
    "boxLat = []\n",
    "boxLon = []\n",
    "boxWh = []\n",
    "boxT = []\n",
    "for k in range(50):\n",
    "    j2 = NetCDFFile(topURL[k])\n",
    "    lats = j2.variables['LATITUDE'][:]\n",
    "    lons = j2.variables['LONGITUDE'][:]\n",
    "    wh = j2.variables['SWH_KU_CAL'][:]\n",
    "    t = j2.variables['TIME'][:]\n",
    "    \n",
    "    # Check if satellite points are in the box\n",
    "    id1 = lats>latmin \n",
    "    id2 = lats<latmax\n",
    "    id3 = lons>lonmin\n",
    "    id4 = lons<lonmax\n",
    "    id1 = id1*1\n",
    "    id2 = id2*1\n",
    "    id3 = id3*1\n",
    "    id4 = id4*1\n",
    "    tot = id1+id2+id3+id4\n",
    "    # If this is the case than the sum should be 4\n",
    "    inside = np.where(tot==4)[:]\n",
    "    \n",
    "    if len(inside)>0:\n",
    "        boxLat.append(lats[inside])\n",
    "        boxLon.append(lons[inside])\n",
    "        boxWh.append(wh[inside])\n",
    "        boxT.append(t[inside])\n",
    "print len(inside)    "
   ]
  },
  {
   "cell_type": "code",
   "execution_count": 52,
   "metadata": {
    "collapsed": false
   },
   "outputs": [],
   "source": [
    "for k in range(len(boxLat)):\n",
    "    if k == 0:\n",
    "        lat = boxLat[k]\n",
    "        lon = boxLon[k]\n",
    "        wh = boxWh[k]\n",
    "        t = boxT[k]\n",
    "    else:\n",
    "        lat = np.append(lat,boxLat[k])\n",
    "        lon = np.append(lon,boxLon[k])\n",
    "        wh = np.append(wh,boxWh[k])\n",
    "        t = np.append(t,boxT[k])"
   ]
  },
  {
   "cell_type": "code",
   "execution_count": 53,
   "metadata": {
    "collapsed": false
   },
   "outputs": [
    {
     "name": "stdout",
     "output_type": "stream",
     "text": [
      "(7800,)\n",
      "(7800,)\n",
      "(13692,)\n",
      "(13692,)\n"
     ]
    }
   ],
   "source": [
    "print lats.shape\n",
    "print lons.shape\n",
    "print wh.shape\n",
    "print t.shape"
   ]
  },
  {
   "cell_type": "code",
   "execution_count": 54,
   "metadata": {
    "collapsed": false
   },
   "outputs": [
    {
     "name": "stdout",
     "output_type": "stream",
     "text": [
      "Saral record start time: 1992-Oct-14 08:57:19\n",
      "Saral record end time: 2002-Sep-03 02:30:33\n"
     ]
    }
   ],
   "source": [
    "ncs = NetCDFFile(topURL[0])\n",
    "start = dt.datetime(1950,1,1)\n",
    "# Get desired time step  \n",
    "time_var = ncs.variables['TIME']\n",
    "itime = netCDF4.date2index(start,time_var,select='nearest')\n",
    "dtime = netCDF4.num2date(time_var[itime],time_var.units)\n",
    "daystr = dtime.strftime('%Y-%b-%d %H:%M:%S')\n",
    "print 'Saral record start time:',daystr\n",
    "\n",
    "end = dt.datetime(2020,2,1)\n",
    "# Get desired time step  \n",
    "time_var = ncs.variables['TIME']\n",
    "itime2 = netCDF4.date2index(end,time_var,select='nearest')\n",
    "dtime2 = netCDF4.num2date(time_var[itime2],time_var.units)\n",
    "dayend = dtime2.strftime('%Y-%b-%d %H:%M:%S')\n",
    "#h=nc.variables['SWH_KU_CAL']\n",
    "print 'Saral record end time:',dayend"
   ]
  },
  {
   "cell_type": "code",
   "execution_count": 197,
   "metadata": {
    "collapsed": false
   },
   "outputs": [
    {
     "name": "stdout",
     "output_type": "stream",
     "text": [
      "[datetime.datetime(1992, 10, 14, 8, 57, 19, 750004)\n",
      " datetime.datetime(1992, 10, 14, 8, 57, 20, 820316)\n",
      " datetime.datetime(1992, 10, 14, 8, 57, 21, 898434)\n",
      " datetime.datetime(1992, 10, 14, 8, 57, 22, 968746)\n",
      " datetime.datetime(1992, 10, 14, 8, 57, 24, 46873)\n",
      " datetime.datetime(1992, 10, 14, 8, 57, 25, 117185)\n",
      " datetime.datetime(1992, 10, 14, 8, 57, 26, 195312)\n",
      " datetime.datetime(1992, 10, 14, 8, 57, 27, 265624)\n",
      " datetime.datetime(1992, 10, 14, 8, 57, 28, 343752)\n",
      " datetime.datetime(1992, 10, 14, 8, 57, 29, 421879)\n",
      " datetime.datetime(1992, 10, 14, 8, 57, 30, 492191)\n",
      " datetime.datetime(1992, 10, 14, 8, 57, 31, 570308)\n",
      " datetime.datetime(1992, 10, 14, 8, 57, 32, 640620)\n",
      " datetime.datetime(1992, 10, 14, 8, 57, 33, 718748)\n",
      " datetime.datetime(1992, 10, 14, 8, 57, 34, 789060)\n",
      " datetime.datetime(1992, 10, 14, 8, 57, 35, 867187)\n",
      " datetime.datetime(1992, 10, 14, 8, 57, 36, 937499)\n",
      " datetime.datetime(1992, 10, 14, 8, 57, 38, 15626)\n",
      " datetime.datetime(1992, 10, 14, 8, 57, 39, 85938)\n",
      " datetime.datetime(1992, 10, 15, 19, 23, 57, 359380)\n",
      " datetime.datetime(1992, 10, 15, 19, 23, 58, 437497)\n",
      " datetime.datetime(1992, 10, 15, 19, 23, 59, 500004)\n",
      " datetime.datetime(1992, 10, 15, 19, 24, 0, 578121)\n",
      " datetime.datetime(1992, 10, 24, 6, 55, 51, 742190)\n",
      " datetime.datetime(1992, 10, 24, 6, 55, 52, 750000)\n",
      " datetime.datetime(1992, 10, 24, 6, 55, 53, 750005)\n",
      " datetime.datetime(1992, 10, 24, 6, 55, 54, 749999)\n",
      " datetime.datetime(1992, 10, 24, 6, 55, 58, 757813)\n",
      " datetime.datetime(1992, 10, 24, 6, 55, 59, 757808)\n",
      " datetime.datetime(1992, 10, 24, 6, 56, 0, 757812)\n",
      " datetime.datetime(1992, 10, 24, 6, 56, 2, 757811)\n",
      " datetime.datetime(1992, 10, 24, 6, 56, 3, 757816)\n",
      " datetime.datetime(1992, 10, 24, 6, 56, 4, 757811)\n",
      " datetime.datetime(1992, 10, 24, 6, 56, 5, 757815)\n",
      " datetime.datetime(1992, 10, 24, 6, 56, 6, 765625)\n",
      " datetime.datetime(1992, 10, 24, 6, 56, 7, 765630)\n",
      " datetime.datetime(1992, 10, 24, 6, 56, 8, 765624)\n",
      " datetime.datetime(1992, 10, 24, 6, 56, 9, 765629)\n",
      " datetime.datetime(1992, 10, 24, 6, 56, 10, 765623)\n",
      " datetime.datetime(1992, 10, 25, 17, 22, 30, 62495)\n",
      " datetime.datetime(1992, 10, 25, 17, 22, 31, 140623)\n",
      " datetime.datetime(1992, 10, 25, 17, 22, 32, 203130)\n",
      " datetime.datetime(1992, 11, 3, 4, 54, 25, 152343)\n",
      " datetime.datetime(1992, 11, 3, 4, 54, 29, 449221)\n",
      " datetime.datetime(1992, 11, 3, 4, 54, 30, 523436)\n",
      " datetime.datetime(1992, 11, 3, 4, 54, 31, 597661)\n",
      " datetime.datetime(1992, 11, 3, 4, 54, 32, 671875)\n",
      " datetime.datetime(1992, 11, 3, 4, 54, 33, 746090)\n",
      " datetime.datetime(1992, 11, 3, 4, 54, 34, 820315)\n",
      " datetime.datetime(1992, 11, 3, 4, 54, 35, 894529)\n",
      " datetime.datetime(1992, 11, 3, 4, 54, 36, 968754)\n",
      " datetime.datetime(1992, 11, 3, 4, 54, 38, 42969)\n",
      " datetime.datetime(1992, 11, 3, 4, 54, 39, 117183)\n",
      " datetime.datetime(1992, 11, 3, 4, 54, 41, 269535)\n",
      " datetime.datetime(1992, 11, 3, 4, 54, 42, 343750)\n",
      " datetime.datetime(1992, 11, 4, 15, 21, 1, 625002)\n",
      " datetime.datetime(1992, 11, 4, 15, 21, 2, 687498)\n",
      " datetime.datetime(1992, 11, 4, 15, 21, 3, 765626)\n",
      " datetime.datetime(1992, 11, 4, 15, 21, 4, 843753)\n",
      " datetime.datetime(1992, 11, 13, 2, 52, 58, 714848)\n",
      " datetime.datetime(1992, 11, 13, 2, 53, 0, 716798)\n",
      " datetime.datetime(1992, 11, 14, 13, 19, 33, 718746)\n",
      " datetime.datetime(1992, 11, 14, 13, 19, 34, 781253)\n",
      " datetime.datetime(1992, 11, 14, 13, 19, 35, 859370)\n",
      " datetime.datetime(1992, 11, 14, 13, 19, 36, 937497)\n",
      " datetime.datetime(1992, 11, 23, 0, 51, 27, 844235)\n",
      " datetime.datetime(1992, 11, 23, 0, 51, 28, 917967)\n",
      " datetime.datetime(1992, 11, 23, 0, 51, 29, 993167)\n",
      " datetime.datetime(1992, 11, 23, 0, 51, 31, 66899)\n",
      " datetime.datetime(1992, 11, 23, 0, 51, 32, 142089)\n",
      " datetime.datetime(1992, 11, 23, 0, 51, 33, 215821)\n",
      " datetime.datetime(1992, 11, 23, 0, 51, 34, 291012)\n",
      " datetime.datetime(1992, 11, 23, 0, 51, 35, 365236)\n",
      " datetime.datetime(1992, 11, 23, 0, 51, 36, 438968)\n",
      " datetime.datetime(1992, 11, 23, 0, 51, 37, 514158)\n",
      " datetime.datetime(1992, 11, 23, 0, 51, 38, 587890)\n",
      " datetime.datetime(1992, 11, 23, 0, 51, 39, 663091)\n",
      " datetime.datetime(1992, 11, 23, 0, 51, 40, 736812)\n",
      " datetime.datetime(1992, 11, 23, 0, 51, 41, 812013)\n",
      " datetime.datetime(1992, 11, 23, 0, 51, 42, 887203)\n",
      " datetime.datetime(1992, 11, 23, 0, 51, 43, 960935)\n",
      " datetime.datetime(1992, 11, 23, 0, 51, 45, 36135)\n",
      " datetime.datetime(1992, 11, 23, 0, 51, 46, 109867)\n",
      " datetime.datetime(1992, 11, 23, 0, 51, 47, 185058)\n",
      " datetime.datetime(1992, 11, 24, 11, 18, 5, 359375)\n",
      " datetime.datetime(1992, 11, 24, 11, 18, 6, 437502)\n",
      " datetime.datetime(1992, 11, 24, 11, 18, 7, 507814)\n",
      " datetime.datetime(1992, 11, 24, 11, 18, 8, 578126)\n",
      " datetime.datetime(1992, 12, 14, 7, 15, 8, 742191)\n",
      " datetime.datetime(1992, 12, 14, 7, 15, 9, 820308)\n",
      " datetime.datetime(1992, 12, 22, 18, 47, 1, 109371)\n",
      " datetime.datetime(1992, 12, 22, 18, 47, 2, 171878)\n",
      " datetime.datetime(1992, 12, 22, 18, 47, 3, 249995)\n",
      " datetime.datetime(1992, 12, 22, 18, 47, 4, 328123)\n",
      " datetime.datetime(1992, 12, 22, 18, 47, 5, 406250)\n",
      " datetime.datetime(1992, 12, 22, 18, 47, 6, 484377)\n",
      " datetime.datetime(1992, 12, 22, 18, 47, 7, 546874)\n",
      " datetime.datetime(1992, 12, 22, 18, 47, 8, 625001)\n",
      " datetime.datetime(1992, 12, 22, 18, 47, 9, 703129)\n",
      " datetime.datetime(1992, 12, 22, 18, 47, 10, 781246)\n",
      " datetime.datetime(1992, 12, 22, 18, 47, 11, 843753)\n",
      " datetime.datetime(1992, 12, 22, 18, 47, 12, 921870)\n",
      " datetime.datetime(1992, 12, 22, 18, 47, 13, 999997)\n",
      " datetime.datetime(1992, 12, 22, 18, 47, 15, 78125)\n",
      " datetime.datetime(1992, 12, 22, 18, 47, 16, 140621)\n",
      " datetime.datetime(1992, 12, 22, 18, 47, 17, 218749)\n",
      " datetime.datetime(1992, 12, 22, 18, 47, 18, 296876)\n",
      " datetime.datetime(1992, 12, 22, 18, 47, 19, 375003)\n",
      " datetime.datetime(1992, 12, 22, 18, 47, 20, 453121)\n",
      " datetime.datetime(1992, 12, 24, 5, 13, 38, 902341)\n",
      " datetime.datetime(1992, 12, 24, 5, 13, 39, 976566)\n",
      " datetime.datetime(1992, 12, 24, 5, 13, 41, 50780)\n",
      " datetime.datetime(1992, 12, 24, 5, 13, 42, 125005)\n",
      " datetime.datetime(1993, 1, 1, 16, 45, 33, 281248)\n",
      " datetime.datetime(1993, 1, 1, 16, 45, 34, 343745)\n",
      " datetime.datetime(1993, 1, 1, 16, 45, 35, 421872)\n",
      " datetime.datetime(1993, 1, 1, 16, 45, 36, 500000)\n",
      " datetime.datetime(1993, 1, 1, 16, 45, 37, 578127)\n",
      " datetime.datetime(1993, 1, 1, 16, 45, 38, 656254)\n",
      " datetime.datetime(1993, 1, 1, 16, 45, 39, 718751)\n",
      " datetime.datetime(1993, 1, 1, 16, 45, 40, 796879)\n",
      " datetime.datetime(1993, 1, 1, 16, 45, 41, 874996)\n",
      " datetime.datetime(1993, 1, 1, 16, 45, 42, 953123)\n",
      " datetime.datetime(1993, 1, 1, 16, 45, 44, 15630)\n",
      " datetime.datetime(1993, 1, 1, 16, 45, 45, 93747)\n",
      " datetime.datetime(1993, 1, 1, 16, 45, 46, 171875)\n",
      " datetime.datetime(1993, 1, 1, 16, 45, 47, 250002)\n",
      " datetime.datetime(1993, 1, 1, 16, 45, 48, 312499)\n",
      " datetime.datetime(1993, 1, 1, 16, 45, 49, 390626)\n",
      " datetime.datetime(1993, 1, 1, 16, 45, 50, 468753)\n",
      " datetime.datetime(1993, 1, 1, 16, 45, 51, 546871)\n",
      " datetime.datetime(1993, 1, 1, 16, 45, 52, 624998)\n",
      " datetime.datetime(1993, 1, 3, 3, 12, 11, 244143)\n",
      " datetime.datetime(1993, 1, 3, 3, 12, 12, 318357)\n",
      " datetime.datetime(1993, 1, 3, 3, 12, 13, 392582)\n",
      " datetime.datetime(1993, 1, 3, 3, 12, 14, 468748)\n",
      " datetime.datetime(1993, 1, 13, 1, 10, 43, 359372)\n",
      " datetime.datetime(1993, 1, 13, 1, 10, 44, 432621)\n",
      " datetime.datetime(1993, 1, 13, 1, 10, 45, 506835)\n",
      " datetime.datetime(1993, 1, 13, 1, 10, 46, 581050)\n",
      " datetime.datetime(1993, 1, 21, 12, 42, 36, 843746)\n",
      " datetime.datetime(1993, 1, 21, 12, 42, 37, 914058)\n",
      " datetime.datetime(1993, 1, 21, 12, 42, 38, 992185)\n",
      " datetime.datetime(1993, 1, 21, 12, 42, 40, 62497)\n",
      " datetime.datetime(1993, 1, 21, 12, 42, 41, 140624)\n",
      " datetime.datetime(1993, 1, 21, 12, 42, 42, 210936)\n",
      " datetime.datetime(1993, 1, 21, 12, 42, 43, 289064)\n",
      " datetime.datetime(1993, 1, 21, 12, 42, 44, 359376)\n",
      " datetime.datetime(1993, 1, 21, 12, 42, 45, 437503)\n",
      " datetime.datetime(1993, 1, 21, 12, 42, 46, 507815)]\n"
     ]
    }
   ],
   "source": [
    "ncs = NetCDFFile(topURL[0])\n",
    "ncs.variables['TIME'][0]\n",
    "dtime2 = netCDF4.num2date(ncs.variables['TIME'][0:150],time_var.units)\n",
    "print dtime2"
   ]
  },
  {
   "cell_type": "code",
   "execution_count": 163,
   "metadata": {
    "collapsed": false
   },
   "outputs": [],
   "source": [
    "#print jason2URL[0]"
   ]
  },
  {
   "cell_type": "code",
   "execution_count": 80,
   "metadata": {
    "collapsed": false
   },
   "outputs": [],
   "source": [
    "#print jason2URL[1]"
   ]
  },
  {
   "cell_type": "code",
   "execution_count": 82,
   "metadata": {
    "collapsed": false
   },
   "outputs": [
    {
     "name": "stdout",
     "output_type": "stream",
     "text": [
      "0.041\n",
      "4.907\n"
     ]
    }
   ],
   "source": [
    "print min(wh)\n",
    "print max(wh)"
   ]
  },
  {
   "cell_type": "code",
   "execution_count": 83,
   "metadata": {
    "collapsed": false
   },
   "outputs": [
    {
     "name": "stdout",
     "output_type": "stream",
     "text": [
      "[   0    1    2 ..., 2415 2416 2417]\n"
     ]
    }
   ],
   "source": [
    "ids = np.where(wh>0)[0]\n",
    "print ids"
   ]
  },
  {
   "cell_type": "code",
   "execution_count": 84,
   "metadata": {
    "collapsed": true
   },
   "outputs": [],
   "source": [
    "whpos = wh[ids]"
   ]
  },
  {
   "cell_type": "code",
   "execution_count": 85,
   "metadata": {
    "collapsed": false
   },
   "outputs": [
    {
     "name": "stdout",
     "output_type": "stream",
     "text": [
      "4.907\n"
     ]
    }
   ],
   "source": [
    "print max(whpos)"
   ]
  },
  {
   "cell_type": "code",
   "execution_count": null,
   "metadata": {
    "collapsed": true
   },
   "outputs": [],
   "source": []
  },
  {
   "cell_type": "markdown",
   "metadata": {},
   "source": [
    "Time"
   ]
  },
  {
   "cell_type": "code",
   "execution_count": 90,
   "metadata": {
    "collapsed": true
   },
   "outputs": [],
   "source": [
    "from netCDF4 import Dataset as NetCDFFile \n",
    "import datetime as dt"
   ]
  },
  {
   "cell_type": "code",
   "execution_count": null,
   "metadata": {
    "collapsed": true
   },
   "outputs": [],
   "source": []
  }
 ],
 "metadata": {
  "anaconda-cloud": {},
  "kernelspec": {
   "display_name": "Python [default]",
   "language": "python",
   "name": "python2"
  },
  "language_info": {
   "codemirror_mode": {
    "name": "ipython",
    "version": 2
   },
   "file_extension": ".py",
   "mimetype": "text/x-python",
   "name": "python",
   "nbconvert_exporter": "python",
   "pygments_lexer": "ipython2",
   "version": "2.7.12"
  }
 },
 "nbformat": 4,
 "nbformat_minor": 1
}
